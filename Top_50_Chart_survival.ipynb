{
 "cells": [
  {
   "cell_type": "markdown",
   "id": "dba603c9-57e1-441e-bfac-da1c2e2e2148",
   "metadata": {},
   "source": [
    "# Dependent Variable: Chart Survival Top 50"
   ]
  },
  {
   "cell_type": "code",
   "execution_count": 1,
   "id": "88d5ccce-5918-44ae-80c1-45cf28637a61",
   "metadata": {
    "tags": []
   },
   "outputs": [
    {
     "name": "stdout",
     "output_type": "stream",
     "text": [
      "/Users/sunnihermann/Desktop\n"
     ]
    }
   ],
   "source": [
    "import numpy as np\n",
    "import pandas as pd\n",
    "import warnings\n",
    "warnings.filterwarnings('ignore')\n",
    "import os\n",
    "os.chdir('/Users/sunnihermann/Desktop/')\n",
    "print(os.getcwd())"
   ]
  },
  {
   "cell_type": "code",
   "execution_count": 2,
   "id": "3fb2c335-2ece-4ee5-9829-ee5b069d0a0b",
   "metadata": {},
   "outputs": [],
   "source": [
    "top_50 = pd.read_csv('top_50.csv')"
   ]
  },
  {
   "cell_type": "code",
   "execution_count": 58,
   "id": "8533a94f-7fb1-438b-b7c3-09c2b2c32427",
   "metadata": {
    "tags": []
   },
   "outputs": [
    {
     "data": {
      "text/html": [
       "<div>\n",
       "<style scoped>\n",
       "    .dataframe tbody tr th:only-of-type {\n",
       "        vertical-align: middle;\n",
       "    }\n",
       "\n",
       "    .dataframe tbody tr th {\n",
       "        vertical-align: top;\n",
       "    }\n",
       "\n",
       "    .dataframe thead th {\n",
       "        text-align: right;\n",
       "    }\n",
       "</style>\n",
       "<table border=\"1\" class=\"dataframe\">\n",
       "  <thead>\n",
       "    <tr style=\"text-align: right;\">\n",
       "      <th></th>\n",
       "      <th>country</th>\n",
       "      <th>issue_country</th>\n",
       "      <th>year</th>\n",
       "      <th>id</th>\n",
       "    </tr>\n",
       "  </thead>\n",
       "  <tbody>\n",
       "    <tr>\n",
       "      <th>0</th>\n",
       "      <td>CO</td>\n",
       "      <td>US</td>\n",
       "      <td>2021</td>\n",
       "      <td>4MzXwWMhyBbmu6hOcLVD49</td>\n",
       "    </tr>\n",
       "    <tr>\n",
       "      <th>1</th>\n",
       "      <td>CO</td>\n",
       "      <td>US</td>\n",
       "      <td>2021</td>\n",
       "      <td>4MzXwWMhyBbmu6hOcLVD49</td>\n",
       "    </tr>\n",
       "    <tr>\n",
       "      <th>2</th>\n",
       "      <td>CO</td>\n",
       "      <td>US</td>\n",
       "      <td>2021</td>\n",
       "      <td>4MzXwWMhyBbmu6hOcLVD49</td>\n",
       "    </tr>\n",
       "    <tr>\n",
       "      <th>3</th>\n",
       "      <td>CO</td>\n",
       "      <td>US</td>\n",
       "      <td>2021</td>\n",
       "      <td>4MzXwWMhyBbmu6hOcLVD49</td>\n",
       "    </tr>\n",
       "    <tr>\n",
       "      <th>4</th>\n",
       "      <td>CO</td>\n",
       "      <td>US</td>\n",
       "      <td>2021</td>\n",
       "      <td>4MzXwWMhyBbmu6hOcLVD49</td>\n",
       "    </tr>\n",
       "  </tbody>\n",
       "</table>\n",
       "</div>"
      ],
      "text/plain": [
       "  country issue_country  year                      id\n",
       "0      CO            US  2021  4MzXwWMhyBbmu6hOcLVD49\n",
       "1      CO            US  2021  4MzXwWMhyBbmu6hOcLVD49\n",
       "2      CO            US  2021  4MzXwWMhyBbmu6hOcLVD49\n",
       "3      CO            US  2021  4MzXwWMhyBbmu6hOcLVD49\n",
       "4      CO            US  2021  4MzXwWMhyBbmu6hOcLVD49"
      ]
     },
     "execution_count": 58,
     "metadata": {},
     "output_type": "execute_result"
    }
   ],
   "source": [
    "chart_survival = top_50.copy()\n",
    "chart_survival = chart_survival[['country', 'issue_country', 'year', 'id']]\n",
    "chart_survival.head(5)"
   ]
  },
  {
   "cell_type": "code",
   "execution_count": 59,
   "id": "e923be65-16af-487b-bd43-c7be4b922061",
   "metadata": {},
   "outputs": [
    {
     "data": {
      "text/html": [
       "<div>\n",
       "<style scoped>\n",
       "    .dataframe tbody tr th:only-of-type {\n",
       "        vertical-align: middle;\n",
       "    }\n",
       "\n",
       "    .dataframe tbody tr th {\n",
       "        vertical-align: top;\n",
       "    }\n",
       "\n",
       "    .dataframe thead th {\n",
       "        text-align: right;\n",
       "    }\n",
       "</style>\n",
       "<table border=\"1\" class=\"dataframe\">\n",
       "  <thead>\n",
       "    <tr style=\"text-align: right;\">\n",
       "      <th></th>\n",
       "      <th>country</th>\n",
       "      <th>issue_country</th>\n",
       "      <th>year</th>\n",
       "      <th>chart_survival</th>\n",
       "    </tr>\n",
       "  </thead>\n",
       "  <tbody>\n",
       "    <tr>\n",
       "      <th>0</th>\n",
       "      <td>AE</td>\n",
       "      <td>AE</td>\n",
       "      <td>2019</td>\n",
       "      <td>166</td>\n",
       "    </tr>\n",
       "    <tr>\n",
       "      <th>1</th>\n",
       "      <td>AE</td>\n",
       "      <td>AE</td>\n",
       "      <td>2020</td>\n",
       "      <td>61</td>\n",
       "    </tr>\n",
       "    <tr>\n",
       "      <th>2</th>\n",
       "      <td>AE</td>\n",
       "      <td>AU</td>\n",
       "      <td>2020</td>\n",
       "      <td>27</td>\n",
       "    </tr>\n",
       "    <tr>\n",
       "      <th>3</th>\n",
       "      <td>AE</td>\n",
       "      <td>AU</td>\n",
       "      <td>2021</td>\n",
       "      <td>5</td>\n",
       "    </tr>\n",
       "    <tr>\n",
       "      <th>4</th>\n",
       "      <td>AE</td>\n",
       "      <td>CA</td>\n",
       "      <td>2019</td>\n",
       "      <td>1</td>\n",
       "    </tr>\n",
       "  </tbody>\n",
       "</table>\n",
       "</div>"
      ],
      "text/plain": [
       "  country issue_country  year  chart_survival\n",
       "0      AE            AE  2019             166\n",
       "1      AE            AE  2020              61\n",
       "2      AE            AU  2020              27\n",
       "3      AE            AU  2021               5\n",
       "4      AE            CA  2019               1"
      ]
     },
     "execution_count": 59,
     "metadata": {},
     "output_type": "execute_result"
    }
   ],
   "source": [
    "chart_survival = chart_survival.groupby(['country', 'issue_country', 'year'])['id'].count().reset_index()\n",
    "chart_survival.rename(columns={'id': 'chart_survival'}, inplace=True)\n",
    "chart_survival.head()"
   ]
  },
  {
   "cell_type": "code",
   "execution_count": 60,
   "id": "5f657766-dbd7-4915-889d-eb390a060da3",
   "metadata": {},
   "outputs": [],
   "source": [
    "#deleting no_market_countries from the country pairs, as they are not relevant\n",
    "no_market_country = set(list(chart_survival.issue_country.unique())) - set(list(chart_survival.country.unique()))\n",
    "chart_survival = chart_survival.loc[~chart_survival['issue_country'].isin(no_market_country)] "
   ]
  },
  {
   "cell_type": "code",
   "execution_count": 61,
   "id": "883f1803-5415-4ffc-83c3-0311f983ac73",
   "metadata": {},
   "outputs": [
    {
     "data": {
      "text/plain": [
       "(3288, 4)"
      ]
     },
     "execution_count": 61,
     "metadata": {},
     "output_type": "execute_result"
    }
   ],
   "source": [
    "chart_survival.shape"
   ]
  },
  {
   "cell_type": "code",
   "execution_count": 62,
   "id": "26f5bb24-fecb-4fa5-b639-7a01bdd02d70",
   "metadata": {},
   "outputs": [
    {
     "data": {
      "text/plain": [
       "1       173\n",
       "2        87\n",
       "3        70\n",
       "4        63\n",
       "5        59\n",
       "       ... \n",
       "3064      1\n",
       "2100      1\n",
       "1282      1\n",
       "3530      1\n",
       "1587      1\n",
       "Name: chart_survival, Length: 1298, dtype: int64"
      ]
     },
     "execution_count": 62,
     "metadata": {},
     "output_type": "execute_result"
    }
   ],
   "source": [
    "chart_survival.chart_survival.value_counts()"
   ]
  },
  {
   "cell_type": "code",
   "execution_count": 63,
   "id": "3a669866-6d4a-4eeb-982f-9e4f48a7e40e",
   "metadata": {},
   "outputs": [],
   "source": [
    "chart_survival.to_csv('chart_survival_top50.csv')"
   ]
  },
  {
   "cell_type": "code",
   "execution_count": 64,
   "id": "a98bce4d-7cb4-4fff-b182-945748ac300c",
   "metadata": {},
   "outputs": [
    {
     "data": {
      "text/html": [
       "<div>\n",
       "<style scoped>\n",
       "    .dataframe tbody tr th:only-of-type {\n",
       "        vertical-align: middle;\n",
       "    }\n",
       "\n",
       "    .dataframe tbody tr th {\n",
       "        vertical-align: top;\n",
       "    }\n",
       "\n",
       "    .dataframe thead th {\n",
       "        text-align: right;\n",
       "    }\n",
       "</style>\n",
       "<table border=\"1\" class=\"dataframe\">\n",
       "  <thead>\n",
       "    <tr style=\"text-align: right;\">\n",
       "      <th></th>\n",
       "      <th>Unnamed: 0</th>\n",
       "      <th>country</th>\n",
       "      <th>issue_country</th>\n",
       "      <th>year</th>\n",
       "      <th>chart_survival</th>\n",
       "      <th>Streams</th>\n",
       "      <th>country_language</th>\n",
       "      <th>issue_country_language</th>\n",
       "      <th>common_language</th>\n",
       "      <th>dist_social</th>\n",
       "      <th>country_iso3</th>\n",
       "      <th>issue_country_iso3</th>\n",
       "      <th>dist_cultural</th>\n",
       "      <th>dist_geo</th>\n",
       "      <th>dist_eco</th>\n",
       "      <th>home_bias</th>\n",
       "    </tr>\n",
       "  </thead>\n",
       "  <tbody>\n",
       "    <tr>\n",
       "      <th>0</th>\n",
       "      <td>0</td>\n",
       "      <td>AE</td>\n",
       "      <td>AE</td>\n",
       "      <td>2019</td>\n",
       "      <td>354</td>\n",
       "      <td>558523</td>\n",
       "      <td>['ar']</td>\n",
       "      <td>['ar']</td>\n",
       "      <td>1</td>\n",
       "      <td>8.951117e-07</td>\n",
       "      <td>ARE</td>\n",
       "      <td>ARE</td>\n",
       "      <td>0.0</td>\n",
       "      <td>108.789</td>\n",
       "      <td>NaN</td>\n",
       "      <td>1</td>\n",
       "    </tr>\n",
       "    <tr>\n",
       "      <th>1</th>\n",
       "      <td>1</td>\n",
       "      <td>AE</td>\n",
       "      <td>AE</td>\n",
       "      <td>2020</td>\n",
       "      <td>399</td>\n",
       "      <td>648159</td>\n",
       "      <td>['ar']</td>\n",
       "      <td>['ar']</td>\n",
       "      <td>1</td>\n",
       "      <td>8.951117e-07</td>\n",
       "      <td>ARE</td>\n",
       "      <td>ARE</td>\n",
       "      <td>0.0</td>\n",
       "      <td>108.789</td>\n",
       "      <td>NaN</td>\n",
       "      <td>1</td>\n",
       "    </tr>\n",
       "    <tr>\n",
       "      <th>2</th>\n",
       "      <td>2</td>\n",
       "      <td>AE</td>\n",
       "      <td>AE</td>\n",
       "      <td>2021</td>\n",
       "      <td>81</td>\n",
       "      <td>115387</td>\n",
       "      <td>['ar']</td>\n",
       "      <td>['ar']</td>\n",
       "      <td>1</td>\n",
       "      <td>8.951117e-07</td>\n",
       "      <td>ARE</td>\n",
       "      <td>ARE</td>\n",
       "      <td>0.0</td>\n",
       "      <td>108.789</td>\n",
       "      <td>NaN</td>\n",
       "      <td>1</td>\n",
       "    </tr>\n",
       "  </tbody>\n",
       "</table>\n",
       "</div>"
      ],
      "text/plain": [
       "   Unnamed: 0 country issue_country  year  chart_survival  Streams  \\\n",
       "0           0      AE            AE  2019             354   558523   \n",
       "1           1      AE            AE  2020             399   648159   \n",
       "2           2      AE            AE  2021              81   115387   \n",
       "\n",
       "  country_language issue_country_language  common_language   dist_social  \\\n",
       "0           ['ar']                 ['ar']                1  8.951117e-07   \n",
       "1           ['ar']                 ['ar']                1  8.951117e-07   \n",
       "2           ['ar']                 ['ar']                1  8.951117e-07   \n",
       "\n",
       "  country_iso3 issue_country_iso3  dist_cultural  dist_geo  dist_eco  \\\n",
       "0          ARE                ARE            0.0   108.789       NaN   \n",
       "1          ARE                ARE            0.0   108.789       NaN   \n",
       "2          ARE                ARE            0.0   108.789       NaN   \n",
       "\n",
       "   home_bias  \n",
       "0          1  \n",
       "1          1  \n",
       "2          1  "
      ]
     },
     "execution_count": 64,
     "metadata": {},
     "output_type": "execute_result"
    }
   ],
   "source": [
    "df_model = pd.read_csv('df_final.csv')\n",
    "df_model.head(3)"
   ]
  },
  {
   "cell_type": "code",
   "execution_count": 65,
   "id": "e08e4036-936b-4dfa-b03a-ce94e6619e9d",
   "metadata": {},
   "outputs": [],
   "source": [
    "df_model = df_model[['country','issue_country','year','common_language', 'dist_social',\n",
    "                    'dist_cultural','dist_geo','dist_eco','home_bias']]"
   ]
  },
  {
   "cell_type": "code",
   "execution_count": 66,
   "id": "495b85b9-86ae-485f-ad1b-106384a99f75",
   "metadata": {},
   "outputs": [],
   "source": [
    "df_model = chart_survival.merge(df_model, how = 'left', on = ['country', 'issue_country', 'year'])"
   ]
  },
  {
   "cell_type": "code",
   "execution_count": 67,
   "id": "6e74b269-d353-44c4-b9cb-d47d5ba599f8",
   "metadata": {},
   "outputs": [
    {
     "name": "stdout",
     "output_type": "stream",
     "text": [
      "(3288, 10)\n"
     ]
    },
    {
     "data": {
      "text/html": [
       "<div>\n",
       "<style scoped>\n",
       "    .dataframe tbody tr th:only-of-type {\n",
       "        vertical-align: middle;\n",
       "    }\n",
       "\n",
       "    .dataframe tbody tr th {\n",
       "        vertical-align: top;\n",
       "    }\n",
       "\n",
       "    .dataframe thead th {\n",
       "        text-align: right;\n",
       "    }\n",
       "</style>\n",
       "<table border=\"1\" class=\"dataframe\">\n",
       "  <thead>\n",
       "    <tr style=\"text-align: right;\">\n",
       "      <th></th>\n",
       "      <th>country</th>\n",
       "      <th>issue_country</th>\n",
       "      <th>year</th>\n",
       "      <th>chart_survival</th>\n",
       "      <th>common_language</th>\n",
       "      <th>dist_social</th>\n",
       "      <th>dist_cultural</th>\n",
       "      <th>dist_geo</th>\n",
       "      <th>dist_eco</th>\n",
       "      <th>home_bias</th>\n",
       "    </tr>\n",
       "  </thead>\n",
       "  <tbody>\n",
       "    <tr>\n",
       "      <th>0</th>\n",
       "      <td>AE</td>\n",
       "      <td>AE</td>\n",
       "      <td>2019</td>\n",
       "      <td>166</td>\n",
       "      <td>1</td>\n",
       "      <td>8.951117e-07</td>\n",
       "      <td>0.000000</td>\n",
       "      <td>108.789</td>\n",
       "      <td>NaN</td>\n",
       "      <td>1</td>\n",
       "    </tr>\n",
       "    <tr>\n",
       "      <th>1</th>\n",
       "      <td>AE</td>\n",
       "      <td>AE</td>\n",
       "      <td>2020</td>\n",
       "      <td>61</td>\n",
       "      <td>1</td>\n",
       "      <td>8.951117e-07</td>\n",
       "      <td>0.000000</td>\n",
       "      <td>108.789</td>\n",
       "      <td>NaN</td>\n",
       "      <td>1</td>\n",
       "    </tr>\n",
       "    <tr>\n",
       "      <th>2</th>\n",
       "      <td>AE</td>\n",
       "      <td>AU</td>\n",
       "      <td>2020</td>\n",
       "      <td>27</td>\n",
       "      <td>0</td>\n",
       "      <td>8.381527e-05</td>\n",
       "      <td>4.186266</td>\n",
       "      <td>11962.663</td>\n",
       "      <td>NaN</td>\n",
       "      <td>0</td>\n",
       "    </tr>\n",
       "  </tbody>\n",
       "</table>\n",
       "</div>"
      ],
      "text/plain": [
       "  country issue_country  year  chart_survival  common_language   dist_social  \\\n",
       "0      AE            AE  2019             166                1  8.951117e-07   \n",
       "1      AE            AE  2020              61                1  8.951117e-07   \n",
       "2      AE            AU  2020              27                0  8.381527e-05   \n",
       "\n",
       "   dist_cultural   dist_geo  dist_eco  home_bias  \n",
       "0       0.000000    108.789       NaN          1  \n",
       "1       0.000000    108.789       NaN          1  \n",
       "2       4.186266  11962.663       NaN          0  "
      ]
     },
     "execution_count": 67,
     "metadata": {},
     "output_type": "execute_result"
    }
   ],
   "source": [
    "print(df_model.shape)\n",
    "df_model.head(3)"
   ]
  },
  {
   "cell_type": "code",
   "execution_count": 68,
   "id": "481f47fc-cd3a-4a9b-a0f9-034d81a858f3",
   "metadata": {},
   "outputs": [],
   "source": [
    "cols = ['dist_social', 'dist_cultural', 'dist_geo', 'dist_eco']\n",
    "df_model[cols] = df_model[cols].replace({0:np.nan})\n",
    "\n",
    "df_model[['chart_survival', 'dist_social', 'dist_cultural', 'dist_geo', 'dist_eco']] = np.log(\n",
    "    df_model[['chart_survival', 'dist_social', 'dist_cultural', 'dist_geo', 'dist_eco']])"
   ]
  },
  {
   "cell_type": "code",
   "execution_count": 69,
   "id": "9b0f56d3-4280-4cd4-ad95-a0175a07547e",
   "metadata": {},
   "outputs": [
    {
     "data": {
      "text/html": [
       "<div>\n",
       "<style scoped>\n",
       "    .dataframe tbody tr th:only-of-type {\n",
       "        vertical-align: middle;\n",
       "    }\n",
       "\n",
       "    .dataframe tbody tr th {\n",
       "        vertical-align: top;\n",
       "    }\n",
       "\n",
       "    .dataframe thead th {\n",
       "        text-align: right;\n",
       "    }\n",
       "</style>\n",
       "<table border=\"1\" class=\"dataframe\">\n",
       "  <thead>\n",
       "    <tr style=\"text-align: right;\">\n",
       "      <th></th>\n",
       "      <th>country</th>\n",
       "      <th>issue_country</th>\n",
       "      <th>year</th>\n",
       "      <th>chart_survival</th>\n",
       "      <th>common_language</th>\n",
       "      <th>dist_social</th>\n",
       "      <th>dist_cultural</th>\n",
       "      <th>dist_geo</th>\n",
       "      <th>dist_eco</th>\n",
       "      <th>home_bias</th>\n",
       "    </tr>\n",
       "  </thead>\n",
       "  <tbody>\n",
       "    <tr>\n",
       "      <th>0</th>\n",
       "      <td>AE</td>\n",
       "      <td>AE</td>\n",
       "      <td>2019</td>\n",
       "      <td>5.111988</td>\n",
       "      <td>1</td>\n",
       "      <td>-13.926317</td>\n",
       "      <td>NaN</td>\n",
       "      <td>4.689410</td>\n",
       "      <td>NaN</td>\n",
       "      <td>1</td>\n",
       "    </tr>\n",
       "    <tr>\n",
       "      <th>1</th>\n",
       "      <td>AE</td>\n",
       "      <td>AE</td>\n",
       "      <td>2020</td>\n",
       "      <td>4.110874</td>\n",
       "      <td>1</td>\n",
       "      <td>-13.926317</td>\n",
       "      <td>NaN</td>\n",
       "      <td>4.689410</td>\n",
       "      <td>NaN</td>\n",
       "      <td>1</td>\n",
       "    </tr>\n",
       "    <tr>\n",
       "      <th>2</th>\n",
       "      <td>AE</td>\n",
       "      <td>AU</td>\n",
       "      <td>2020</td>\n",
       "      <td>3.295837</td>\n",
       "      <td>0</td>\n",
       "      <td>-9.386895</td>\n",
       "      <td>1.431809</td>\n",
       "      <td>9.389546</td>\n",
       "      <td>NaN</td>\n",
       "      <td>0</td>\n",
       "    </tr>\n",
       "    <tr>\n",
       "      <th>3</th>\n",
       "      <td>AE</td>\n",
       "      <td>AU</td>\n",
       "      <td>2021</td>\n",
       "      <td>1.609438</td>\n",
       "      <td>0</td>\n",
       "      <td>-9.386895</td>\n",
       "      <td>1.431809</td>\n",
       "      <td>9.389546</td>\n",
       "      <td>3.728417</td>\n",
       "      <td>0</td>\n",
       "    </tr>\n",
       "    <tr>\n",
       "      <th>4</th>\n",
       "      <td>AE</td>\n",
       "      <td>CA</td>\n",
       "      <td>2019</td>\n",
       "      <td>0.000000</td>\n",
       "      <td>0</td>\n",
       "      <td>-9.515322</td>\n",
       "      <td>1.246133</td>\n",
       "      <td>9.283880</td>\n",
       "      <td>5.119443</td>\n",
       "      <td>0</td>\n",
       "    </tr>\n",
       "  </tbody>\n",
       "</table>\n",
       "</div>"
      ],
      "text/plain": [
       "  country issue_country  year  chart_survival  common_language  dist_social  \\\n",
       "0      AE            AE  2019        5.111988                1   -13.926317   \n",
       "1      AE            AE  2020        4.110874                1   -13.926317   \n",
       "2      AE            AU  2020        3.295837                0    -9.386895   \n",
       "3      AE            AU  2021        1.609438                0    -9.386895   \n",
       "4      AE            CA  2019        0.000000                0    -9.515322   \n",
       "\n",
       "   dist_cultural  dist_geo  dist_eco  home_bias  \n",
       "0            NaN  4.689410       NaN          1  \n",
       "1            NaN  4.689410       NaN          1  \n",
       "2       1.431809  9.389546       NaN          0  \n",
       "3       1.431809  9.389546  3.728417          0  \n",
       "4       1.246133  9.283880  5.119443          0  "
      ]
     },
     "execution_count": 69,
     "metadata": {},
     "output_type": "execute_result"
    }
   ],
   "source": [
    "df_model.head()"
   ]
  },
  {
   "cell_type": "code",
   "execution_count": 70,
   "id": "869c7584-8c49-4372-9a34-f4ee6f71f120",
   "metadata": {},
   "outputs": [
    {
     "data": {
      "text/plain": [
       "(3288, 10)"
      ]
     },
     "execution_count": 70,
     "metadata": {},
     "output_type": "execute_result"
    }
   ],
   "source": [
    "df_model.shape"
   ]
  },
  {
   "cell_type": "markdown",
   "id": "699cefcd-ba91-4ed3-8fe2-34c443c57782",
   "metadata": {},
   "source": [
    "------"
   ]
  },
  {
   "cell_type": "code",
   "execution_count": 71,
   "id": "f419b655-1847-47ce-9694-96b20829061a",
   "metadata": {},
   "outputs": [],
   "source": [
    "df_model_no_mutual = df_model.copy()"
   ]
  },
  {
   "cell_type": "code",
   "execution_count": 72,
   "id": "4527a48f-51cc-4d49-a750-4b0ad6a8102e",
   "metadata": {},
   "outputs": [
    {
     "name": "stdout",
     "output_type": "stream",
     "text": [
      "(3043, 10)\n"
     ]
    },
    {
     "data": {
      "text/html": [
       "<div>\n",
       "<style scoped>\n",
       "    .dataframe tbody tr th:only-of-type {\n",
       "        vertical-align: middle;\n",
       "    }\n",
       "\n",
       "    .dataframe tbody tr th {\n",
       "        vertical-align: top;\n",
       "    }\n",
       "\n",
       "    .dataframe thead th {\n",
       "        text-align: right;\n",
       "    }\n",
       "</style>\n",
       "<table border=\"1\" class=\"dataframe\">\n",
       "  <thead>\n",
       "    <tr style=\"text-align: right;\">\n",
       "      <th></th>\n",
       "      <th>country</th>\n",
       "      <th>issue_country</th>\n",
       "      <th>year</th>\n",
       "      <th>chart_survival</th>\n",
       "      <th>common_language</th>\n",
       "      <th>dist_social</th>\n",
       "      <th>dist_cultural</th>\n",
       "      <th>dist_geo</th>\n",
       "      <th>dist_eco</th>\n",
       "      <th>home_bias</th>\n",
       "    </tr>\n",
       "  </thead>\n",
       "  <tbody>\n",
       "    <tr>\n",
       "      <th>2</th>\n",
       "      <td>AE</td>\n",
       "      <td>AU</td>\n",
       "      <td>2020</td>\n",
       "      <td>3.295837</td>\n",
       "      <td>0</td>\n",
       "      <td>-9.386895</td>\n",
       "      <td>1.431809</td>\n",
       "      <td>9.389546</td>\n",
       "      <td>NaN</td>\n",
       "      <td>0</td>\n",
       "    </tr>\n",
       "    <tr>\n",
       "      <th>3</th>\n",
       "      <td>AE</td>\n",
       "      <td>AU</td>\n",
       "      <td>2021</td>\n",
       "      <td>1.609438</td>\n",
       "      <td>0</td>\n",
       "      <td>-9.386895</td>\n",
       "      <td>1.431809</td>\n",
       "      <td>9.389546</td>\n",
       "      <td>3.728417</td>\n",
       "      <td>0</td>\n",
       "    </tr>\n",
       "    <tr>\n",
       "      <th>4</th>\n",
       "      <td>AE</td>\n",
       "      <td>CA</td>\n",
       "      <td>2019</td>\n",
       "      <td>0.000000</td>\n",
       "      <td>0</td>\n",
       "      <td>-9.515322</td>\n",
       "      <td>1.246133</td>\n",
       "      <td>9.283880</td>\n",
       "      <td>5.119443</td>\n",
       "      <td>0</td>\n",
       "    </tr>\n",
       "  </tbody>\n",
       "</table>\n",
       "</div>"
      ],
      "text/plain": [
       "  country issue_country  year  chart_survival  common_language  dist_social  \\\n",
       "2      AE            AU  2020        3.295837                0    -9.386895   \n",
       "3      AE            AU  2021        1.609438                0    -9.386895   \n",
       "4      AE            CA  2019        0.000000                0    -9.515322   \n",
       "\n",
       "   dist_cultural  dist_geo  dist_eco  home_bias  \n",
       "2       1.431809  9.389546       NaN          0  \n",
       "3       1.431809  9.389546  3.728417          0  \n",
       "4       1.246133  9.283880  5.119443          0  "
      ]
     },
     "execution_count": 72,
     "metadata": {},
     "output_type": "execute_result"
    }
   ],
   "source": [
    "df_model_no_mutual = df_model_no_mutual.loc[df_model_no_mutual['country'] != df_model_no_mutual['issue_country']]\n",
    "print(df_model_no_mutual.shape)\n",
    "df_model_no_mutual.head(3)"
   ]
  },
  {
   "cell_type": "code",
   "execution_count": 73,
   "id": "a89d8875-367f-434f-9149-ab91fe174a79",
   "metadata": {},
   "outputs": [
    {
     "name": "stdout",
     "output_type": "stream",
     "text": [
      "(2479, 10)\n"
     ]
    }
   ],
   "source": [
    "smallest_sample = df_model_no_mutual.copy()\n",
    "smallest_sample = smallest_sample.dropna()\n",
    "#smallest_sample = smallest_sample.loc[smallest_sample.chart_survival > 0]\n",
    "print(smallest_sample.shape)"
   ]
  },
  {
   "cell_type": "markdown",
   "id": "c789410f-8339-4f02-a3c5-56051d2a1d4c",
   "metadata": {},
   "source": [
    "# Model"
   ]
  },
  {
   "cell_type": "code",
   "execution_count": 74,
   "id": "47e2018f-d764-419c-b81e-8a0a6f171558",
   "metadata": {},
   "outputs": [
    {
     "name": "stdout",
     "output_type": "stream",
     "text": [
      "number of countries: 69 \n",
      "number of exporters: 58 \n",
      "number of importers: 69 \n",
      "number of years: 5 \n",
      "number of sectors: not_applicable \n",
      "dimensions: (3288, 10)\n",
      "\n"
     ]
    }
   ],
   "source": [
    "import gme as gme\n",
    "\n",
    "gme_data = gme.EstimationData(data_frame = df_model,\n",
    "                              imp_var_name = 'country',\n",
    "                              exp_var_name = 'issue_country',\n",
    "                              trade_var_name = 'chart_survival',\n",
    "                              year_var_name = 'year')\n",
    "\n",
    "print(gme_data)"
   ]
  },
  {
   "cell_type": "code",
   "execution_count": 75,
   "id": "efd6912d-f633-4569-95e3-a5b6721a0f3c",
   "metadata": {},
   "outputs": [
    {
     "name": "stdout",
     "output_type": "stream",
     "text": [
      "number of countries: 69 \n",
      "number of exporters: 48 \n",
      "number of importers: 69 \n",
      "number of years: 5 \n",
      "number of sectors: not_applicable \n",
      "dimensions: (3043, 10)\n",
      "\n"
     ]
    }
   ],
   "source": [
    "gme_data_no_mutual = gme.EstimationData(data_frame = df_model_no_mutual,\n",
    "                              imp_var_name = 'country',\n",
    "                              exp_var_name = 'issue_country',\n",
    "                              trade_var_name = 'chart_survival',\n",
    "                              year_var_name = 'year')\n",
    "\n",
    "print(gme_data_no_mutual)"
   ]
  },
  {
   "cell_type": "code",
   "execution_count": 76,
   "id": "c5fbaea0-b121-4b6a-95c9-0ba1920e6a86",
   "metadata": {},
   "outputs": [
    {
     "name": "stdout",
     "output_type": "stream",
     "text": [
      "number of countries: 63 \n",
      "number of exporters: 46 \n",
      "number of importers: 63 \n",
      "number of years: 5 \n",
      "number of sectors: not_applicable \n",
      "dimensions: (2479, 10)\n",
      "\n"
     ]
    }
   ],
   "source": [
    "gme_smallest_sample = gme.EstimationData(data_frame = smallest_sample,\n",
    "                              imp_var_name = 'country',\n",
    "                              exp_var_name = 'issue_country',\n",
    "                              trade_var_name = 'chart_survival',\n",
    "                              year_var_name = 'year')\n",
    "\n",
    "print(gme_smallest_sample)"
   ]
  },
  {
   "cell_type": "code",
   "execution_count": 77,
   "id": "76c83859-0e7c-468d-80ca-56c334eae884",
   "metadata": {},
   "outputs": [],
   "source": [
    "gme_model2 = gme.EstimationModel(estimation_data = gme_data_no_mutual,\n",
    "                                lhs_var = 'chart_survival',\n",
    "                                rhs_var = ['common_language', 'dist_geo'], \n",
    "                                fixed_effects = [['country', 'year'], ['issue_country', 'year']],\n",
    "                                keep_years = [2017, 2018, 2019, 2020, 2021]) "
   ]
  },
  {
   "cell_type": "code",
   "execution_count": 78,
   "id": "22decb25-18ec-4bc1-ad32-93104a25abd9",
   "metadata": {},
   "outputs": [
    {
     "name": "stdout",
     "output_type": "stream",
     "text": [
      "Estimation began at 04:39 PM  on Nov 25, 2022\n",
      "Omitted Regressors: ['issue_country_year_fe_AE2018', 'issue_country_year_fe_IE2019', 'issue_country_year_fe_IS2021', 'issue_country_year_fe_LV2017', 'issue_country_year_fe_US2018', 'issue_country_year_fe_UY2017', 'issue_country_year_fe_UY2019', 'issue_country_year_fe_ZA2020', 'issue_country_year_fe_ZA2021']\n",
      "Estimation completed at 04:39 PM  on Nov 25, 2022\n"
     ]
    }
   ],
   "source": [
    "estimates2 = gme_model2.estimate()\n",
    "results2 = estimates2['all']\n",
    "#gme_model2.format_regression_table(format = \"txt\", variable_list=['common_language','dist_geo'] )"
   ]
  },
  {
   "cell_type": "code",
   "execution_count": 79,
   "id": "ba624ff9-ff64-4fdd-a715-646bca8b57e0",
   "metadata": {},
   "outputs": [
    {
     "name": "stdout",
     "output_type": "stream",
     "text": [
      "Estimation began at 04:39 PM  on Nov 25, 2022\n",
      "Omitted Regressors: ['issue_country_year_fe_AE2018', 'issue_country_year_fe_IE2019', 'issue_country_year_fe_IS2021', 'issue_country_year_fe_LV2017', 'issue_country_year_fe_US2018', 'issue_country_year_fe_US2019', 'issue_country_year_fe_UY2017', 'issue_country_year_fe_ZA2020', 'issue_country_year_fe_ZA2021']\n",
      "Estimation completed at 04:39 PM  on Nov 25, 2022\n"
     ]
    },
    {
     "data": {
      "text/plain": [
       "0.20903326583636495"
      ]
     },
     "execution_count": 79,
     "metadata": {},
     "output_type": "execute_result"
    }
   ],
   "source": [
    "gme_model2_r = gme.EstimationModel(estimation_data = gme_smallest_sample,\n",
    "                                lhs_var = 'chart_survival',\n",
    "                                rhs_var = ['common_language', 'dist_geo'], \n",
    "                                fixed_effects = [['country', 'year'], ['issue_country', 'year']],\n",
    "                                keep_years = [2017, 2018, 2019, 2020, 2021]) \n",
    "\n",
    "estimates2_r = gme_model2_r.estimate()\n",
    "results2_r = estimates2_r['all']\n",
    "\n",
    "pseudo_rsquared2 = (1 - results2_r.llf / results2_r.llnull)\n",
    "pseudo_rsquared2"
   ]
  },
  {
   "cell_type": "code",
   "execution_count": 80,
   "id": "5c84cf7f-c1e2-4bbc-8b11-6314b4b8c949",
   "metadata": {},
   "outputs": [],
   "source": [
    "gme_model4 = gme.EstimationModel(estimation_data = gme_data_no_mutual,\n",
    "                                lhs_var = 'chart_survival',\n",
    "                                rhs_var = ['dist_social', 'common_language', 'dist_geo'], \n",
    "                                fixed_effects = [['country', 'year'], ['issue_country', 'year']],\n",
    "                                keep_years = [2017, 2018, 2019, 2020, 2021]) "
   ]
  },
  {
   "cell_type": "code",
   "execution_count": 81,
   "id": "2a696a22-21d5-407c-a104-5272857c7454",
   "metadata": {},
   "outputs": [
    {
     "name": "stdout",
     "output_type": "stream",
     "text": [
      "Estimation began at 04:39 PM  on Nov 25, 2022\n",
      "Omitted Regressors: ['issue_country_year_fe_AE2018', 'issue_country_year_fe_IE2019', 'issue_country_year_fe_IS2021', 'issue_country_year_fe_LV2017', 'issue_country_year_fe_US2018', 'issue_country_year_fe_UY2017', 'issue_country_year_fe_UY2019', 'issue_country_year_fe_ZA2020', 'issue_country_year_fe_ZA2021']\n",
      "Estimation completed at 04:39 PM  on Nov 25, 2022\n"
     ]
    }
   ],
   "source": [
    "estimates4 = gme_model4.estimate()\n",
    "results4 = estimates4['all']"
   ]
  },
  {
   "cell_type": "code",
   "execution_count": 82,
   "id": "3e428684-d2b6-498c-8de3-3dfce69a7978",
   "metadata": {},
   "outputs": [
    {
     "name": "stdout",
     "output_type": "stream",
     "text": [
      "Estimation began at 04:39 PM  on Nov 25, 2022\n",
      "Omitted Regressors: ['issue_country_year_fe_AE2018', 'issue_country_year_fe_IE2019', 'issue_country_year_fe_IS2021', 'issue_country_year_fe_LV2017', 'issue_country_year_fe_US2018', 'issue_country_year_fe_US2019', 'issue_country_year_fe_UY2017', 'issue_country_year_fe_ZA2020', 'issue_country_year_fe_ZA2021']\n",
      "Estimation completed at 04:39 PM  on Nov 25, 2022\n"
     ]
    },
    {
     "data": {
      "text/plain": [
       "0.2115906586879881"
      ]
     },
     "execution_count": 82,
     "metadata": {},
     "output_type": "execute_result"
    }
   ],
   "source": [
    "gme_model4_r = gme.EstimationModel(estimation_data = gme_smallest_sample,\n",
    "                                lhs_var = 'chart_survival',\n",
    "                                rhs_var = ['dist_social', 'common_language', 'dist_geo'], \n",
    "                                fixed_effects = [['country', 'year'], ['issue_country', 'year']],\n",
    "                                keep_years = [2017, 2018, 2019, 2020, 2021]) \n",
    "\n",
    "estimates4_r = gme_model4_r.estimate()\n",
    "results4_r = estimates4_r['all']\n",
    "\n",
    "pseudo_rsquared4 = (1 - results4_r.llf / results4_r.llnull)\n",
    "pseudo_rsquared4"
   ]
  },
  {
   "cell_type": "code",
   "execution_count": 83,
   "id": "6654e2b6-f853-471e-827f-61ea8e9354e7",
   "metadata": {},
   "outputs": [],
   "source": [
    "gme_model6 = gme.EstimationModel(estimation_data = gme_data_no_mutual,\n",
    "                                lhs_var = 'chart_survival',\n",
    "                                rhs_var = ['dist_cultural', 'common_language', 'dist_geo'], \n",
    "                                fixed_effects = [['country', 'year'], ['issue_country', 'year']],\n",
    "                                keep_years = [2017, 2018, 2019, 2020, 2021]) "
   ]
  },
  {
   "cell_type": "code",
   "execution_count": 84,
   "id": "b5e3913c-fa33-4309-9781-7681d7b744cf",
   "metadata": {},
   "outputs": [
    {
     "name": "stdout",
     "output_type": "stream",
     "text": [
      "Estimation began at 04:39 PM  on Nov 25, 2022\n",
      "Omitted Regressors: ['issue_country_year_fe_AE2018', 'issue_country_year_fe_IE2019', 'issue_country_year_fe_IS2021', 'issue_country_year_fe_LV2017', 'issue_country_year_fe_US2018', 'issue_country_year_fe_US2019', 'issue_country_year_fe_UY2017', 'issue_country_year_fe_ZA2020', 'issue_country_year_fe_ZA2021']\n",
      "Estimation completed at 04:39 PM  on Nov 25, 2022\n"
     ]
    }
   ],
   "source": [
    "estimates6 = gme_model6.estimate()\n",
    "results6 = estimates6['all']"
   ]
  },
  {
   "cell_type": "code",
   "execution_count": 85,
   "id": "7fe1b686-898e-4e85-83a9-4b47f605e340",
   "metadata": {},
   "outputs": [
    {
     "name": "stdout",
     "output_type": "stream",
     "text": [
      "Estimation began at 04:39 PM  on Nov 25, 2022\n",
      "Omitted Regressors: ['issue_country_year_fe_AE2018', 'issue_country_year_fe_IE2019', 'issue_country_year_fe_IS2021', 'issue_country_year_fe_LV2017', 'issue_country_year_fe_US2018', 'issue_country_year_fe_US2019', 'issue_country_year_fe_UY2017', 'issue_country_year_fe_ZA2020', 'issue_country_year_fe_ZA2021']\n",
      "Estimation completed at 04:39 PM  on Nov 25, 2022\n"
     ]
    },
    {
     "data": {
      "text/plain": [
       "0.20969739429105683"
      ]
     },
     "execution_count": 85,
     "metadata": {},
     "output_type": "execute_result"
    }
   ],
   "source": [
    "gme_model6_r = gme.EstimationModel(estimation_data = gme_smallest_sample,\n",
    "                                lhs_var = 'chart_survival',\n",
    "                                rhs_var = ['dist_cultural', 'common_language', 'dist_geo'], \n",
    "                                fixed_effects = [['country', 'year'], ['issue_country', 'year']],\n",
    "                                keep_years = [2017, 2018, 2019, 2020, 2021]) \n",
    "\n",
    "estimates6_r = gme_model6_r.estimate()\n",
    "results6_r = estimates6_r['all']\n",
    "\n",
    "pseudo_rsquared6 = (1 - results6_r.llf / results6_r.llnull)\n",
    "pseudo_rsquared6"
   ]
  },
  {
   "cell_type": "code",
   "execution_count": 86,
   "id": "ed644e2f-aa7e-448a-ac8e-4d6217586a3d",
   "metadata": {},
   "outputs": [],
   "source": [
    "gme_model8 = gme.EstimationModel(estimation_data = gme_data_no_mutual,\n",
    "                                lhs_var = 'chart_survival',\n",
    "                                rhs_var = ['dist_eco', 'common_language', 'dist_geo'], \n",
    "                                fixed_effects = [['country', 'year'], ['issue_country', 'year']],\n",
    "                                keep_years = [2017, 2018, 2019, 2020, 2021]) "
   ]
  },
  {
   "cell_type": "code",
   "execution_count": 87,
   "id": "17a6d088-09e5-4fc2-960a-8e2454e4606c",
   "metadata": {},
   "outputs": [
    {
     "name": "stdout",
     "output_type": "stream",
     "text": [
      "Estimation began at 04:40 PM  on Nov 25, 2022\n",
      "Omitted Regressors: ['issue_country_year_fe_AE2018', 'issue_country_year_fe_IE2019', 'issue_country_year_fe_IS2021', 'issue_country_year_fe_LV2017', 'issue_country_year_fe_US2018', 'issue_country_year_fe_UY2017', 'issue_country_year_fe_UY2019', 'issue_country_year_fe_ZA2020', 'issue_country_year_fe_ZA2021']\n",
      "Estimation completed at 04:40 PM  on Nov 25, 2022\n"
     ]
    }
   ],
   "source": [
    "estimates8 = gme_model8.estimate()\n",
    "results8 = estimates8['all']"
   ]
  },
  {
   "cell_type": "code",
   "execution_count": 88,
   "id": "01766306-64fc-48f1-bebd-623cb1298772",
   "metadata": {},
   "outputs": [
    {
     "name": "stdout",
     "output_type": "stream",
     "text": [
      "Estimation began at 04:40 PM  on Nov 25, 2022\n",
      "Omitted Regressors: ['issue_country_year_fe_AE2018', 'issue_country_year_fe_IE2019', 'issue_country_year_fe_IS2021', 'issue_country_year_fe_LV2017', 'issue_country_year_fe_US2018', 'issue_country_year_fe_US2019', 'issue_country_year_fe_UY2017', 'issue_country_year_fe_ZA2020', 'issue_country_year_fe_ZA2021']\n",
      "Estimation completed at 04:40 PM  on Nov 25, 2022\n"
     ]
    },
    {
     "data": {
      "text/plain": [
       "0.2093400035350993"
      ]
     },
     "execution_count": 88,
     "metadata": {},
     "output_type": "execute_result"
    }
   ],
   "source": [
    "gme_model8_r = gme.EstimationModel(estimation_data = gme_smallest_sample,\n",
    "                                lhs_var = 'chart_survival',\n",
    "                                rhs_var = ['dist_eco', 'common_language', 'dist_geo'], \n",
    "                                fixed_effects = [['country', 'year'], ['issue_country', 'year']],\n",
    "                                keep_years = [2017, 2018, 2019, 2020, 2021]) \n",
    "\n",
    "estimates8_r = gme_model8_r.estimate()\n",
    "results8_r = estimates8_r['all']\n",
    "\n",
    "pseudo_rsquared8 = (1 - results8_r.llf / results8_r.llnull)\n",
    "pseudo_rsquared8"
   ]
  },
  {
   "cell_type": "code",
   "execution_count": 89,
   "id": "e4ee9c3d-b6c1-43a9-9a70-2a4e73205ae9",
   "metadata": {},
   "outputs": [],
   "source": [
    "gme_model10 = gme.EstimationModel(estimation_data = gme_data,\n",
    "                                lhs_var = 'chart_survival',\n",
    "                                rhs_var = ['home_bias','dist_geo', 'common_language'], \n",
    "                                fixed_effects = [['country', 'year'], ['issue_country', 'year']],\n",
    "                                keep_years = [2017, 2018, 2019, 2020, 2021]) "
   ]
  },
  {
   "cell_type": "code",
   "execution_count": 90,
   "id": "1a97a3df-c2ce-4057-957e-5f517126b456",
   "metadata": {},
   "outputs": [
    {
     "name": "stdout",
     "output_type": "stream",
     "text": [
      "Estimation began at 04:40 PM  on Nov 25, 2022\n",
      "Omitted Regressors: ['issue_country_year_fe_AE2018', 'issue_country_year_fe_UY2017', 'issue_country_year_fe_ZA2018', 'issue_country_year_fe_ZA2019', 'issue_country_year_fe_ZA2020', 'issue_country_year_fe_ZA2021']\n",
      "Estimation completed at 04:40 PM  on Nov 25, 2022\n"
     ]
    }
   ],
   "source": [
    "estimates10 = gme_model10.estimate()\n",
    "results10 = estimates10['all']"
   ]
  },
  {
   "cell_type": "code",
   "execution_count": 91,
   "id": "7309fded-091b-4206-a618-deeded447d58",
   "metadata": {},
   "outputs": [
    {
     "name": "stdout",
     "output_type": "stream",
     "text": [
      "Estimation began at 04:40 PM  on Nov 25, 2022\n",
      "Omitted Regressors: ['home_bias', 'issue_country_year_fe_AE2018', 'issue_country_year_fe_IE2019', 'issue_country_year_fe_IS2021', 'issue_country_year_fe_LV2017', 'issue_country_year_fe_US2018', 'issue_country_year_fe_US2019', 'issue_country_year_fe_UY2017', 'issue_country_year_fe_ZA2020', 'issue_country_year_fe_ZA2021']\n",
      "Estimation completed at 04:40 PM  on Nov 25, 2022\n"
     ]
    },
    {
     "data": {
      "text/plain": [
       "0.20903326583636495"
      ]
     },
     "execution_count": 91,
     "metadata": {},
     "output_type": "execute_result"
    }
   ],
   "source": [
    "gme_model10_r = gme.EstimationModel(estimation_data = gme_smallest_sample,\n",
    "                                lhs_var = 'chart_survival',\n",
    "                                rhs_var = ['home_bias', 'common_language', 'dist_geo'], \n",
    "                                fixed_effects = [['country', 'year'], ['issue_country', 'year']],\n",
    "                                keep_years = [2017, 2018, 2019, 2020, 2021]) \n",
    "\n",
    "estimates10_r = gme_model10_r.estimate()\n",
    "results10_r = estimates10_r['all']\n",
    "\n",
    "pseudo_rsquared10 = (1 - results10_r.llf / results10_r.llnull)\n",
    "pseudo_rsquared10"
   ]
  },
  {
   "cell_type": "code",
   "execution_count": 92,
   "id": "9a37d811-707d-465c-8e60-4a7cf9704498",
   "metadata": {},
   "outputs": [],
   "source": [
    "#Cultural Distance\n",
    "gme_model11 = gme.EstimationModel(estimation_data = gme_data_no_mutual,\n",
    "                                lhs_var = 'chart_survival',\n",
    "                                rhs_var = ['common_language', 'dist_geo', 'dist_social', 'dist_cultural', 'dist_eco'], #independent variables\n",
    "                                fixed_effects = [['country', 'year'], ['issue_country', 'year']], #importer and exporter fixed effects\n",
    "                                keep_years = [2017, 2018, 2019, 2020, 2021] #all years are included\n",
    "                                )"
   ]
  },
  {
   "cell_type": "code",
   "execution_count": 93,
   "id": "318308ee-d78e-47d9-ad1c-9997968afb0c",
   "metadata": {},
   "outputs": [
    {
     "name": "stdout",
     "output_type": "stream",
     "text": [
      "Estimation began at 04:40 PM  on Nov 25, 2022\n",
      "Omitted Regressors: ['issue_country_year_fe_AE2018', 'issue_country_year_fe_IE2019', 'issue_country_year_fe_IS2021', 'issue_country_year_fe_LV2017', 'issue_country_year_fe_US2018', 'issue_country_year_fe_US2019', 'issue_country_year_fe_UY2017', 'issue_country_year_fe_ZA2020', 'issue_country_year_fe_ZA2021']\n",
      "Estimation completed at 04:40 PM  on Nov 25, 2022\n"
     ]
    }
   ],
   "source": [
    "estimates11 = gme_model11.estimate()\n",
    "results11 = estimates11['all']"
   ]
  },
  {
   "cell_type": "code",
   "execution_count": 94,
   "id": "73bcfaf0-a601-4133-947c-b2d419074aa8",
   "metadata": {},
   "outputs": [
    {
     "name": "stdout",
     "output_type": "stream",
     "text": [
      "Estimation began at 04:40 PM  on Nov 25, 2022\n",
      "Omitted Regressors: ['issue_country_year_fe_AE2018', 'issue_country_year_fe_IE2019', 'issue_country_year_fe_IS2021', 'issue_country_year_fe_LV2017', 'issue_country_year_fe_US2018', 'issue_country_year_fe_US2019', 'issue_country_year_fe_UY2017', 'issue_country_year_fe_ZA2020', 'issue_country_year_fe_ZA2021']\n",
      "Estimation completed at 04:40 PM  on Nov 25, 2022\n"
     ]
    },
    {
     "data": {
      "text/plain": [
       "0.21237529767609198"
      ]
     },
     "execution_count": 94,
     "metadata": {},
     "output_type": "execute_result"
    }
   ],
   "source": [
    "gme_model11_r = gme.EstimationModel(estimation_data = gme_smallest_sample,\n",
    "                                lhs_var = 'chart_survival',\n",
    "                                rhs_var = ['common_language', 'dist_geo', 'dist_social', 'dist_cultural', 'dist_eco'], \n",
    "                                fixed_effects = [['country', 'year'], ['issue_country', 'year']],\n",
    "                                keep_years = [2017, 2018, 2019, 2020, 2021]) \n",
    "\n",
    "estimates11_r = gme_model11_r.estimate()\n",
    "results11_r = estimates11_r['all']\n",
    "\n",
    "pseudo_rsquared11 = (1 - results11_r.llf / results11_r.llnull)\n",
    "pseudo_rsquared11"
   ]
  },
  {
   "cell_type": "code",
   "execution_count": 95,
   "id": "c8aab4ec-c927-489e-8f86-778d198e1877",
   "metadata": {},
   "outputs": [],
   "source": [
    "gme_model12 = gme.EstimationModel(estimation_data = gme_data,\n",
    "                                lhs_var = 'chart_survival',\n",
    "                                rhs_var = ['common_language', 'dist_geo', 'dist_social', 'dist_eco', 'home_bias'], #independent variables\n",
    "                                fixed_effects = [['country', 'year'], ['issue_country', 'year']], #importer and exporter fixed effects\n",
    "                                keep_years = [2017, 2018, 2019, 2020, 2021] #all years are included\n",
    "                                )"
   ]
  },
  {
   "cell_type": "code",
   "execution_count": 96,
   "id": "8becdcff-7c21-42f3-b3f0-3d3df6e4a67c",
   "metadata": {},
   "outputs": [
    {
     "name": "stdout",
     "output_type": "stream",
     "text": [
      "Estimation began at 04:40 PM  on Nov 25, 2022\n",
      "Omitted Regressors: ['issue_country_year_fe_AE2018', 'issue_country_year_fe_IE2019', 'issue_country_year_fe_IS2021', 'issue_country_year_fe_LV2017', 'issue_country_year_fe_US2018', 'issue_country_year_fe_UY2017', 'issue_country_year_fe_UY2019', 'issue_country_year_fe_ZA2020', 'issue_country_year_fe_ZA2021']\n",
      "Estimation completed at 04:40 PM  on Nov 25, 2022\n"
     ]
    }
   ],
   "source": [
    "estimates12 = gme_model12.estimate()\n",
    "results12 = estimates12['all']"
   ]
  },
  {
   "cell_type": "code",
   "execution_count": 97,
   "id": "81229235-c64e-4b66-ac11-e5d1a9c2d3ba",
   "metadata": {},
   "outputs": [
    {
     "name": "stdout",
     "output_type": "stream",
     "text": [
      "Estimation began at 04:40 PM  on Nov 25, 2022\n",
      "Omitted Regressors: ['home_bias', 'issue_country_year_fe_AE2018', 'issue_country_year_fe_IE2019', 'issue_country_year_fe_IS2021', 'issue_country_year_fe_LV2017', 'issue_country_year_fe_US2018', 'issue_country_year_fe_US2019', 'issue_country_year_fe_UY2017', 'issue_country_year_fe_ZA2020', 'issue_country_year_fe_ZA2021']\n",
      "Estimation completed at 04:40 PM  on Nov 25, 2022\n"
     ]
    },
    {
     "data": {
      "text/plain": [
       "0.2115943219602937"
      ]
     },
     "execution_count": 97,
     "metadata": {},
     "output_type": "execute_result"
    }
   ],
   "source": [
    "gme_model12_r = gme.EstimationModel(estimation_data = gme_smallest_sample,\n",
    "                                lhs_var = 'chart_survival',\n",
    "                                rhs_var = ['common_language', 'dist_geo', 'dist_social', 'dist_eco', 'home_bias'], \n",
    "                                fixed_effects = [['country', 'year'], ['issue_country', 'year']],\n",
    "                                keep_years = [2017, 2018, 2019, 2020, 2021]) \n",
    "\n",
    "estimates12_r = gme_model12_r.estimate()\n",
    "results12_r = estimates12_r['all']\n",
    "\n",
    "pseudo_rsquared12 = (1 - results12_r.llf / results12_r.llnull)\n",
    "pseudo_rsquared12"
   ]
  },
  {
   "cell_type": "code",
   "execution_count": 98,
   "id": "31ed4849-9df1-4201-899b-35458bc9012d",
   "metadata": {
    "collapsed": true,
    "jupyter": {
     "outputs_hidden": true
    },
    "tags": []
   },
   "outputs": [
    {
     "data": {
      "text/html": [
       "<table style=\"text-align:center\"><tr><td colspan=\"8\" style=\"border-bottom: 1px solid black\"></td></tr><tr><td style=\"text-align:left\"></td><td colspan=\"7\"><em>Dependent variable:chart_survival</em></td></tr><tr><td style=\"text-align:left\"></td><tr><td style=\"text-align:left\"></td><td>(1)</td><td>(2)</td><td>(3)</td><td>(4)</td><td>(5)</td><td>(6)</td><td>(7)</td></tr><tr><td colspan=\"8\" style=\"border-bottom: 1px solid black\"></td></tr><tr><td style=\"text-align:left\">common_language</td><td>0.126<sup>***</sup></td><td>0.045<sup>*</sup></td><td>0.093<sup>***</sup></td><td>0.109<sup>***</sup></td><td>0.193<sup>***</sup></td><td>0.037<sup></sup></td><td>-0.004<sup></sup></td></tr><tr><td style=\"text-align:left\"></td><td>(0.025)</td><td>(0.025)</td><td>(0.025)</td><td>(0.025)</td><td>(0.022)</td><td>(0.026)</td><td>(0.027)</td></tr><tr><td style=\"text-align:left\">country_year_fe_AE2019</td><td>2.107<sup>***</sup></td><td>0.758<sup>***</sup></td><td>3.187<sup>***</sup></td><td>1.883<sup>***</sup></td><td>1.914<sup>***</sup></td><td>0.783<sup>***</sup></td><td>1.787<sup>***</sup></td></tr><tr><td style=\"text-align:left\"></td><td>(0.141)</td><td>(0.210)</td><td>(0.136)</td><td>(0.160)</td><td>(0.151)</td><td>(0.222)</td><td>(0.221)</td></tr><tr><td style=\"text-align:left\">country_year_fe_AE2020</td><td>2.698<sup>***</sup></td><td>1.369<sup>***</sup></td><td>2.672<sup>***</sup></td><td></td><td>2.424<sup>***</sup></td><td></td><td></td></tr><tr><td style=\"text-align:left\"></td><td>(0.128)</td><td>(0.205)</td><td>(0.129)</td><td></td><td>(0.142)</td><td></td><td></td></tr><tr><td style=\"text-align:left\">country_year_fe_AE2021</td><td>2.245<sup>***</sup></td><td>0.847<sup>***</sup></td><td>2.210<sup>***</sup></td><td>1.963<sup>***</sup></td><td>2.130<sup>***</sup></td><td>0.811<sup>**</sup></td><td>0.762<sup>**</sup></td></tr><tr><td style=\"text-align:left\"></td><td>(0.263)</td><td>(0.316)</td><td>(0.265)</td><td>(0.296)</td><td>(0.230)</td><td>(0.341)</td><td>(0.343)</td></tr><tr><td style=\"text-align:left\">country_year_fe_AL2017</td><td>1.996<sup>***</sup></td><td>0.717<sup>**</sup></td><td>2.229<sup>***</sup></td><td>2.282<sup>***</sup></td><td>1.830<sup>***</sup></td><td>0.915<sup>***</sup></td><td>0.841<sup>***</sup></td></tr><tr><td style=\"text-align:left\"></td><td>(0.241)</td><td>(0.285)</td><td>(0.093)</td><td>(0.095)</td><td>(0.170)</td><td>(0.199)</td><td>(0.208)</td></tr><tr><td style=\"text-align:left\">country_year_fe_AL2018</td><td>3.313<sup>***</sup></td><td>1.961<sup>***</sup></td><td>3.288<sup>***</sup></td><td>3.212<sup>***</sup></td><td>1.842<sup>***</sup></td><td>1.923<sup>***</sup></td><td>1.866<sup>***</sup></td></tr><tr><td style=\"text-align:left\"></td><td>(0.097)</td><td>(0.184)</td><td>(0.101)</td><td>(0.106)</td><td>(0.123)</td><td>(0.196)</td><td>(0.202)</td></tr><tr><td style=\"text-align:left\">country_year_fe_AR2017</td><td>2.191<sup>***</sup></td><td>0.945<sup>***</sup></td><td>2.402<sup>***</sup></td><td>2.319<sup>***</sup></td><td>2.039<sup>***</sup></td><td>1.158<sup>***</sup></td><td>1.100<sup>***</sup></td></tr><tr><td style=\"text-align:left\"></td><td>(0.229)</td><td>(0.273)</td><td>(0.072)</td><td>(0.080)</td><td>(0.165)</td><td>(0.173)</td><td>(0.178)</td></tr><tr><td style=\"text-align:left\">country_year_fe_AR2018</td><td>3.455<sup>***</sup></td><td>2.123<sup>***</sup></td><td>3.439<sup>***</sup></td><td>3.222<sup>***</sup></td><td>1.975<sup>***</sup></td><td>2.119<sup>***</sup></td><td>2.086<sup>***</sup></td></tr><tr><td style=\"text-align:left\"></td><td>(0.089)</td><td>(0.179)</td><td>(0.092)</td><td>(0.116)</td><td>(0.112)</td><td>(0.191)</td><td>(0.194)</td></tr><tr><td style=\"text-align:left\">country_year_fe_AR2019</td><td>2.427<sup>***</sup></td><td>1.143<sup>***</sup></td><td>3.504<sup>***</sup></td><td>2.212<sup>***</sup></td><td>2.305<sup>***</sup></td><td>1.154<sup>***</sup></td><td>2.155<sup>***</sup></td></tr><tr><td style=\"text-align:left\"></td><td>(0.138)</td><td>(0.208)</td><td>(0.137)</td><td>(0.156)</td><td>(0.147)</td><td>(0.218)</td><td>(0.221)</td></tr><tr><td style=\"text-align:left\">country_year_fe_AR2020</td><td>2.752<sup>***</sup></td><td>1.510<sup>***</sup></td><td>2.737<sup>***</sup></td><td>2.532<sup>***</sup></td><td>2.532<sup>***</sup></td><td>1.494<sup>***</sup></td><td>1.450<sup>***</sup></td></tr><tr><td style=\"text-align:left\"></td><td>(0.134)</td><td>(0.202)</td><td>(0.134)</td><td>(0.153)</td><td>(0.132)</td><td>(0.214)</td><td>(0.215)</td></tr><tr><td style=\"text-align:left\">country_year_fe_AR2021</td><td>2.408<sup>***</sup></td><td>1.088<sup>***</sup></td><td>2.389<sup>***</sup></td><td>2.199<sup>***</sup></td><td>2.343<sup>***</sup></td><td>1.070<sup>***</sup></td><td>1.046<sup>***</sup></td></tr><tr><td style=\"text-align:left\"></td><td>(0.249)</td><td>(0.291)</td><td>(0.251)</td><td>(0.282)</td><td>(0.219)</td><td>(0.313)</td><td>(0.320)</td></tr><tr><td style=\"text-align:left\">country_year_fe_AT2017</td><td>2.105<sup>***</sup></td><td>0.849<sup>***</sup></td><td>2.362<sup>***</sup></td><td>2.290<sup>***</sup></td><td>1.914<sup>***</sup></td><td>1.079<sup>***</sup></td><td>1.041<sup>***</sup></td></tr><tr><td style=\"text-align:left\"></td><td>(0.237)</td><td>(0.281)</td><td>(0.082)</td><td>(0.084)</td><td>(0.165)</td><td>(0.180)</td><td>(0.186)</td></tr><tr><td style=\"text-align:left\">country_year_fe_AT2018</td><td>3.485<sup>***</sup></td><td>2.147<sup>***</sup></td><td>3.471<sup>***</sup></td><td>3.291<sup>***</sup></td><td>2.019<sup>***</sup></td><td>2.143<sup>***</sup></td><td>2.108<sup>***</sup></td></tr><tr><td style=\"text-align:left\"></td><td>(0.096)</td><td>(0.183)</td><td>(0.099)</td><td>(0.115)</td><td>(0.113)</td><td>(0.194)</td><td>(0.197)</td></tr><tr><td style=\"text-align:left\">country_year_fe_AT2019</td><td>2.117<sup>***</sup></td><td>0.858<sup>***</sup></td><td>3.204<sup>***</sup></td><td>1.954<sup>***</sup></td><td>2.013<sup>***</sup></td><td>0.878<sup>***</sup></td><td>1.878<sup>***</sup></td></tr><tr><td style=\"text-align:left\"></td><td>(0.128)</td><td>(0.198)</td><td>(0.120)</td><td>(0.142)</td><td>(0.128)</td><td>(0.208)</td><td>(0.206)</td></tr><tr><td style=\"text-align:left\">country_year_fe_AT2020</td><td>2.549<sup>***</sup></td><td>1.276<sup>***</sup></td><td>2.533<sup>***</sup></td><td>2.365<sup>***</sup></td><td>2.364<sup>***</sup></td><td>1.276<sup>***</sup></td><td>1.241<sup>***</sup></td></tr><tr><td style=\"text-align:left\"></td><td>(0.129)</td><td>(0.201)</td><td>(0.130)</td><td>(0.143)</td><td>(0.125)</td><td>(0.209)</td><td>(0.211)</td></tr><tr><td style=\"text-align:left\">country_year_fe_AT2021</td><td>2.351<sup>***</sup></td><td>1.029<sup>***</sup></td><td>2.334<sup>***</sup></td><td>2.177<sup>***</sup></td><td>2.209<sup>***</sup></td><td>1.043<sup>***</sup></td><td>1.008<sup>***</sup></td></tr><tr><td style=\"text-align:left\"></td><td>(0.223)</td><td>(0.275)</td><td>(0.221)</td><td>(0.235)</td><td>(0.191)</td><td>(0.281)</td><td>(0.281)</td></tr><tr><td style=\"text-align:left\">country_year_fe_AU2017</td><td>2.261<sup>***</sup></td><td>0.868<sup>***</sup></td><td>2.447<sup>***</sup></td><td>2.354<sup>***</sup></td><td>2.043<sup>***</sup></td><td>1.117<sup>***</sup></td><td>1.008<sup>***</sup></td></tr><tr><td style=\"text-align:left\"></td><td>(0.242)</td><td>(0.293)</td><td>(0.106)</td><td>(0.109)</td><td>(0.173)</td><td>(0.199)</td><td>(0.209)</td></tr><tr><td style=\"text-align:left\">country_year_fe_AU2018</td><td>3.521<sup>***</sup></td><td>2.054<sup>***</sup></td><td>3.427<sup>***</sup></td><td>3.234<sup>***</sup></td><td>1.916<sup>***</sup></td><td>2.067<sup>***</sup></td><td>1.953<sup>***</sup></td></tr><tr><td style=\"text-align:left\"></td><td>(0.140)</td><td>(0.219)</td><td>(0.149)</td><td>(0.169)</td><td>(0.152)</td><td>(0.233)</td><td>(0.238)</td></tr><tr><td style=\"text-align:left\">country_year_fe_AU2019</td><td>2.474<sup>***</sup></td><td>1.062<sup>***</sup></td><td>3.486<sup>***</sup></td><td>2.217<sup>***</sup></td><td>2.242<sup>***</sup></td><td>1.097<sup>***</sup></td><td>2.026<sup>***</sup></td></tr><tr><td style=\"text-align:left\"></td><td>(0.115)</td><td>(0.202)</td><td>(0.120)</td><td>(0.148)</td><td>(0.120)</td><td>(0.218)</td><td>(0.222)</td></tr><tr><td style=\"text-align:left\">country_year_fe_AU2020</td><td>2.917<sup>***</sup></td><td>1.532<sup>***</sup></td><td>2.840<sup>***</sup></td><td>2.655<sup>***</sup></td><td>2.645<sup>***</sup></td><td>1.550<sup>***</sup></td><td>1.443<sup>***</sup></td></tr><tr><td style=\"text-align:left\"></td><td>(0.145)</td><td>(0.219)</td><td>(0.157)</td><td>(0.165)</td><td>(0.138)</td><td>(0.229)</td><td>(0.243)</td></tr><tr><td style=\"text-align:left\">country_year_fe_AU2021</td><td>2.489<sup>***</sup></td><td>1.025<sup>***</sup></td><td>2.402<sup>***</sup></td><td>2.264<sup>***</sup></td><td>2.273<sup>***</sup></td><td>1.065<sup>***</sup></td><td>0.992<sup>***</sup></td></tr><tr><td style=\"text-align:left\"></td><td>(0.242)</td><td>(0.297)</td><td>(0.246)</td><td>(0.265)</td><td>(0.207)</td><td>(0.311)</td><td>(0.311)</td></tr><tr><td style=\"text-align:left\">country_year_fe_BE2017</td><td>1.843<sup>***</sup></td><td>0.651<sup>**</sup></td><td>2.117<sup>***</sup></td><td>2.022<sup>***</sup></td><td>1.711<sup>***</sup></td><td>0.891<sup>***</sup></td><td>0.870<sup>***</sup></td></tr><tr><td style=\"text-align:left\"></td><td>(0.242)</td><td>(0.279)</td><td>(0.095)</td><td>(0.093)</td><td>(0.174)</td><td>(0.177)</td><td>(0.182)</td></tr><tr><td style=\"text-align:left\">country_year_fe_BE2018</td><td>3.240<sup>***</sup></td><td>1.970<sup>***</sup></td><td>3.244<sup>***</sup></td><td>3.037<sup>***</sup></td><td>1.757<sup>***</sup></td><td>1.975<sup>***</sup></td><td>1.960<sup>***</sup></td></tr><tr><td style=\"text-align:left\"></td><td>(0.100)</td><td>(0.178)</td><td>(0.100)</td><td>(0.118)</td><td>(0.118)</td><td>(0.187)</td><td>(0.189)</td></tr><tr><td style=\"text-align:left\">country_year_fe_BE2019</td><td>2.129<sup>***</sup></td><td>0.913<sup>***</sup></td><td>3.230<sup>***</sup></td><td>1.956<sup>***</sup></td><td>2.023<sup>***</sup></td><td>0.942<sup>***</sup></td><td>1.959<sup>***</sup></td></tr><tr><td style=\"text-align:left\"></td><td>(0.131)</td><td>(0.194)</td><td>(0.119)</td><td>(0.146)</td><td>(0.129)</td><td>(0.205)</td><td>(0.200)</td></tr><tr><td style=\"text-align:left\">country_year_fe_BE2020</td><td>2.677<sup>***</sup></td><td>1.479<sup>***</sup></td><td>2.676<sup>***</sup></td><td>2.479<sup>***</sup></td><td>2.516<sup>***</sup></td><td>1.491<sup>***</sup></td><td>1.473<sup>***</sup></td></tr><tr><td style=\"text-align:left\"></td><td>(0.109)</td><td>(0.177)</td><td>(0.109)</td><td>(0.125)</td><td>(0.111)</td><td>(0.186)</td><td>(0.189)</td></tr><tr><td style=\"text-align:left\">country_year_fe_BE2021</td><td>2.090<sup>***</sup></td><td>0.842<sup>***</sup></td><td>2.075<sup>***</sup></td><td>1.865<sup>***</sup></td><td>1.956<sup>***</sup></td><td>0.819<sup>***</sup></td><td>0.789<sup>***</sup></td></tr><tr><td style=\"text-align:left\"></td><td>(0.225)</td><td>(0.271)</td><td>(0.224)</td><td>(0.240)</td><td>(0.195)</td><td>(0.279)</td><td>(0.279)</td></tr><tr><td style=\"text-align:left\">country_year_fe_BG2019</td><td>2.174<sup>***</sup></td><td>0.788<sup>***</sup></td><td>3.261<sup>***</sup></td><td>2.039<sup>***</sup></td><td>1.997<sup>***</sup></td><td>0.793<sup>***</sup></td><td>1.801<sup>***</sup></td></tr><tr><td style=\"text-align:left\"></td><td>(0.138)</td><td>(0.216)</td><td>(0.129)</td><td>(0.148)</td><td>(0.141)</td><td>(0.226)</td><td>(0.224)</td></tr><tr><td style=\"text-align:left\">country_year_fe_BG2020</td><td>2.494<sup>***</sup></td><td>1.175<sup>***</sup></td><td>2.471<sup>***</sup></td><td>2.346<sup>***</sup></td><td>2.268<sup>***</sup></td><td>1.170<sup>***</sup></td><td>1.135<sup>***</sup></td></tr><tr><td style=\"text-align:left\"></td><td>(0.151)</td><td>(0.230)</td><td>(0.153)</td><td>(0.161)</td><td>(0.151)</td><td>(0.238)</td><td>(0.241)</td></tr><tr><td style=\"text-align:left\">country_year_fe_BG2021</td><td>2.194<sup>***</sup></td><td>0.827<sup>***</sup></td><td>2.168<sup>***</sup></td><td>1.992<sup>***</sup></td><td>2.134<sup>***</sup></td><td>0.768<sup>**</sup></td><td>0.727<sup>**</sup></td></tr><tr><td style=\"text-align:left\"></td><td>(0.240)</td><td>(0.293)</td><td>(0.239)</td><td>(0.256)</td><td>(0.208)</td><td>(0.304)</td><td>(0.304)</td></tr><tr><td style=\"text-align:left\">country_year_fe_BO2017</td><td>2.185<sup>***</sup></td><td>0.951<sup>***</sup></td><td></td><td></td><td>2.006<sup>***</sup></td><td></td><td></td></tr><tr><td style=\"text-align:left\"></td><td>(0.254)</td><td>(0.293)</td><td></td><td></td><td>(0.188)</td><td></td><td></td></tr><tr><td style=\"text-align:left\">country_year_fe_BO2018</td><td>3.306<sup>***</sup></td><td>1.984<sup>***</sup></td><td></td><td>3.130<sup>***</sup></td><td>1.825<sup>***</sup></td><td>1.965<sup>***</sup></td><td></td></tr><tr><td style=\"text-align:left\"></td><td>(0.114)</td><td>(0.193)</td><td></td><td>(0.129)</td><td>(0.136)</td><td>(0.202)</td><td></td></tr><tr><td style=\"text-align:left\">country_year_fe_BO2019</td><td>2.198<sup>***</sup></td><td>0.922<sup>***</sup></td><td></td><td>2.044<sup>***</sup></td><td>2.063<sup>***</sup></td><td>0.917<sup>***</sup></td><td></td></tr><tr><td style=\"text-align:left\"></td><td>(0.139)</td><td>(0.205)</td><td></td><td>(0.151)</td><td>(0.156)</td><td>(0.212)</td><td></td></tr><tr><td style=\"text-align:left\">country_year_fe_BO2020</td><td>2.590<sup>***</sup></td><td>1.366<sup>***</sup></td><td></td><td></td><td>2.392<sup>***</sup></td><td></td><td></td></tr><tr><td style=\"text-align:left\"></td><td>(0.127)</td><td>(0.194)</td><td></td><td></td><td>(0.126)</td><td></td><td></td></tr><tr><td style=\"text-align:left\">country_year_fe_BO2021</td><td>2.266<sup>***</sup></td><td>0.946<sup>***</sup></td><td></td><td>2.033<sup>***</sup></td><td>2.137<sup>***</sup></td><td>0.865<sup>***</sup></td><td></td></tr><tr><td style=\"text-align:left\"></td><td>(0.245)</td><td>(0.290)</td><td></td><td>(0.271)</td><td>(0.216)</td><td>(0.308)</td><td></td></tr><tr><td style=\"text-align:left\">country_year_fe_BR2017</td><td>2.045<sup>***</sup></td><td>0.823<sup>***</sup></td><td>2.278<sup>***</sup></td><td>2.160<sup>***</sup></td><td>1.934<sup>***</sup></td><td>1.067<sup>***</sup></td><td>1.016<sup>***</sup></td></tr><tr><td style=\"text-align:left\"></td><td>(0.256)</td><td>(0.294)</td><td>(0.126)</td><td>(0.133)</td><td>(0.188)</td><td>(0.198)</td><td>(0.202)</td></tr><tr><td style=\"text-align:left\">country_year_fe_BR2018</td><td>3.231<sup>***</sup></td><td>1.932<sup>***</sup></td><td>3.201<sup>***</sup></td><td>2.966<sup>***</sup></td><td>1.789<sup>***</sup></td><td>1.940<sup>***</sup></td><td>1.904<sup>***</sup></td></tr><tr><td style=\"text-align:left\"></td><td>(0.166)</td><td>(0.222)</td><td>(0.168)</td><td>(0.188)</td><td>(0.153)</td><td>(0.233)</td><td>(0.235)</td></tr><tr><td style=\"text-align:left\">country_year_fe_BR2019</td><td>1.983<sup>***</sup></td><td>0.736<sup>***</sup></td><td>3.044<sup>***</sup></td><td>1.747<sup>***</sup></td><td>1.963<sup>***</sup></td><td>0.764<sup>***</sup></td><td>1.751<sup>***</sup></td></tr><tr><td style=\"text-align:left\"></td><td>(0.170)</td><td>(0.224)</td><td>(0.171)</td><td>(0.188)</td><td>(0.170)</td><td>(0.234)</td><td>(0.238)</td></tr><tr><td style=\"text-align:left\">country_year_fe_BR2020</td><td>2.553<sup>***</sup></td><td>1.297<sup>***</sup></td><td>2.530<sup>***</sup></td><td>2.320<sup>***</sup></td><td>2.476<sup>***</sup></td><td>1.336<sup>***</sup></td><td>1.293<sup>***</sup></td></tr><tr><td style=\"text-align:left\"></td><td>(0.161)</td><td>(0.226)</td><td>(0.154)</td><td>(0.172)</td><td>(0.165)</td><td>(0.227)</td><td>(0.228)</td></tr><tr><td style=\"text-align:left\">country_year_fe_BR2021</td><td>1.760<sup>***</sup></td><td>0.464<sup></sup></td><td>1.723<sup>***</sup></td><td>1.031<sup>**</sup></td><td>1.714<sup>***</sup></td><td>-0.018<sup></sup></td><td>-0.072<sup></sup></td></tr><tr><td style=\"text-align:left\"></td><td>(0.333)</td><td>(0.373)</td><td>(0.339)</td><td>(0.406)</td><td>(0.253)</td><td>(0.430)</td><td>(0.437)</td></tr><tr><td style=\"text-align:left\">country_year_fe_CA2017</td><td>1.945<sup>***</sup></td><td>0.689<sup>**</sup></td><td>2.162<sup>***</sup></td><td>2.088<sup>***</sup></td><td>1.684<sup>***</sup></td><td>0.933<sup>***</sup></td><td>0.855<sup>***</sup></td></tr><tr><td style=\"text-align:left\"></td><td>(0.258)</td><td>(0.291)</td><td>(0.130)</td><td>(0.132)</td><td>(0.195)</td><td>(0.194)</td><td>(0.200)</td></tr><tr><td style=\"text-align:left\">country_year_fe_CA2018</td><td>3.131<sup>***</sup></td><td>1.813<sup>***</sup></td><td>3.082<sup>***</sup></td><td>2.899<sup>***</sup></td><td>1.613<sup>***</sup></td><td>1.823<sup>***</sup></td><td>1.752<sup>***</sup></td></tr><tr><td style=\"text-align:left\"></td><td>(0.163)</td><td>(0.212)</td><td>(0.157)</td><td>(0.177)</td><td>(0.180)</td><td>(0.220)</td><td>(0.219)</td></tr><tr><td style=\"text-align:left\">country_year_fe_CA2019</td><td>2.175<sup>***</sup></td><td>0.898<sup>***</sup></td><td>3.221<sup>***</sup></td><td>1.967<sup>***</sup></td><td>1.958<sup>***</sup></td><td>0.928<sup>***</sup></td><td>1.889<sup>***</sup></td></tr><tr><td style=\"text-align:left\"></td><td>(0.144)</td><td>(0.196)</td><td>(0.134)</td><td>(0.160)</td><td>(0.147)</td><td>(0.209)</td><td>(0.205)</td></tr><tr><td style=\"text-align:left\">country_year_fe_CA2020</td><td>2.599<sup>***</sup></td><td>1.330<sup>***</sup></td><td>2.558<sup>***</sup></td><td>2.381<sup>***</sup></td><td>2.342<sup>***</sup></td><td>1.346<sup>***</sup></td><td>1.279<sup>***</sup></td></tr><tr><td style=\"text-align:left\"></td><td>(0.164)</td><td>(0.201)</td><td>(0.163)</td><td>(0.172)</td><td>(0.153)</td><td>(0.209)</td><td>(0.212)</td></tr><tr><td style=\"text-align:left\">country_year_fe_CA2021</td><td>2.264<sup>***</sup></td><td>0.902<sup>***</sup></td><td>2.211<sup>***</sup></td><td>2.158<sup>***</sup></td><td>2.105<sup>***</sup></td><td>0.976<sup>***</sup></td><td>0.903<sup>***</sup></td></tr><tr><td style=\"text-align:left\"></td><td>(0.262)</td><td>(0.290)</td><td>(0.260)</td><td>(0.269)</td><td>(0.228)</td><td>(0.305)</td><td>(0.305)</td></tr><tr><td style=\"text-align:left\">country_year_fe_CH2017</td><td>1.899<sup>***</sup></td><td>0.615<sup>**</sup></td><td>2.143<sup>***</sup></td><td>2.079<sup>***</sup></td><td>1.672<sup>***</sup></td><td>0.847<sup>***</sup></td><td>0.791<sup>***</sup></td></tr><tr><td style=\"text-align:left\"></td><td>(0.242)</td><td>(0.285)</td><td>(0.093)</td><td>(0.095)</td><td>(0.177)</td><td>(0.188)</td><td>(0.193)</td></tr><tr><td style=\"text-align:left\">country_year_fe_CH2018</td><td>3.417<sup>***</sup></td><td>2.062<sup>***</sup></td><td>3.397<sup>***</sup></td><td>3.215<sup>***</sup></td><td>1.934<sup>***</sup></td><td>2.058<sup>***</sup></td><td>2.012<sup>***</sup></td></tr><tr><td style=\"text-align:left\"></td><td>(0.101)</td><td>(0.187)</td><td>(0.102)</td><td>(0.121)</td><td>(0.114)</td><td>(0.197)</td><td>(0.201)</td></tr><tr><td style=\"text-align:left\">country_year_fe_CH2019</td><td>2.203<sup>***</sup></td><td>0.923<sup>***</sup></td><td>3.278<sup>***</sup></td><td>2.036<sup>***</sup></td><td>2.042<sup>***</sup></td><td>0.945<sup>***</sup></td><td>1.932<sup>***</sup></td></tr><tr><td style=\"text-align:left\"></td><td>(0.111)</td><td>(0.191)</td><td>(0.099)</td><td>(0.130)</td><td>(0.112)</td><td>(0.203)</td><td>(0.199)</td></tr><tr><td style=\"text-align:left\">country_year_fe_CH2020</td><td>2.618<sup>***</sup></td><td>1.332<sup>***</sup></td><td>2.591<sup>***</sup></td><td>2.425<sup>***</sup></td><td>2.363<sup>***</sup></td><td>1.334<sup>***</sup></td><td>1.284<sup>***</sup></td></tr><tr><td style=\"text-align:left\"></td><td>(0.115)</td><td>(0.192)</td><td>(0.112)</td><td>(0.130)</td><td>(0.123)</td><td>(0.199)</td><td>(0.201)</td></tr><tr><td style=\"text-align:left\">country_year_fe_CH2021</td><td>2.333<sup>***</sup></td><td>0.997<sup>***</sup></td><td>2.297<sup>***</sup></td><td>2.150<sup>***</sup></td><td>2.163<sup>***</sup></td><td>1.010<sup>***</sup></td><td>0.953<sup>***</sup></td></tr><tr><td style=\"text-align:left\"></td><td>(0.228)</td><td>(0.279)</td><td>(0.226)</td><td>(0.240)</td><td>(0.196)</td><td>(0.286)</td><td>(0.285)</td></tr><tr><td style=\"text-align:left\">country_year_fe_CL2017</td><td>2.202<sup>***</sup></td><td>0.940<sup>***</sup></td><td>2.421<sup>***</sup></td><td>2.322<sup>***</sup></td><td>2.000<sup>***</sup></td><td>1.156<sup>***</sup></td><td>1.104<sup>***</sup></td></tr><tr><td style=\"text-align:left\"></td><td>(0.225)</td><td>(0.270)</td><td>(0.076)</td><td>(0.084)</td><td>(0.162)</td><td>(0.175)</td><td>(0.181)</td></tr><tr><td style=\"text-align:left\">country_year_fe_CL2018</td><td>3.332<sup>***</sup></td><td>1.982<sup>***</sup></td><td>3.331<sup>***</sup></td><td>3.094<sup>***</sup></td><td>1.851<sup>***</sup></td><td>1.978<sup>***</sup></td><td>1.957<sup>***</sup></td></tr><tr><td style=\"text-align:left\"></td><td>(0.110)</td><td>(0.191)</td><td>(0.115)</td><td>(0.133)</td><td>(0.130)</td><td>(0.202)</td><td>(0.207)</td></tr><tr><td style=\"text-align:left\">country_year_fe_CL2019</td><td>2.263<sup>***</sup></td><td>0.978<sup>***</sup></td><td>3.347<sup>***</sup></td><td>2.044<sup>***</sup></td><td>2.124<sup>***</sup></td><td>0.991<sup>***</sup></td><td>1.997<sup>***</sup></td></tr><tr><td style=\"text-align:left\"></td><td>(0.135)</td><td>(0.201)</td><td>(0.141)</td><td>(0.153)</td><td>(0.150)</td><td>(0.211)</td><td>(0.218)</td></tr><tr><td style=\"text-align:left\">country_year_fe_CL2020</td><td>2.574<sup>***</sup></td><td>1.331<sup>***</sup></td><td>2.567<sup>***</sup></td><td>2.383<sup>***</sup></td><td>2.388<sup>***</sup></td><td>1.365<sup>***</sup></td><td>1.339<sup>***</sup></td></tr><tr><td style=\"text-align:left\"></td><td>(0.128)</td><td>(0.192)</td><td>(0.127)</td><td>(0.147)</td><td>(0.124)</td><td>(0.201)</td><td>(0.203)</td></tr><tr><td style=\"text-align:left\">country_year_fe_CL2021</td><td>2.238<sup>***</sup></td><td>0.912<sup>***</sup></td><td>2.207<sup>***</sup></td><td>1.931<sup>***</sup></td><td>2.047<sup>***</sup></td><td>0.830<sup>***</sup></td><td>0.781<sup>**</sup></td></tr><tr><td style=\"text-align:left\"></td><td>(0.249)</td><td>(0.292)</td><td>(0.251)</td><td>(0.280)</td><td>(0.224)</td><td>(0.310)</td><td>(0.316)</td></tr><tr><td style=\"text-align:left\">country_year_fe_CO2017</td><td>2.164<sup>***</sup></td><td>0.927<sup>***</sup></td><td>2.422<sup>***</sup></td><td>2.328<sup>***</sup></td><td>1.968<sup>***</sup></td><td>1.159<sup>***</sup></td><td>1.127<sup>***</sup></td></tr><tr><td style=\"text-align:left\"></td><td>(0.237)</td><td>(0.278)</td><td>(0.082)</td><td>(0.086)</td><td>(0.165)</td><td>(0.175)</td><td>(0.180)</td></tr><tr><td style=\"text-align:left\">country_year_fe_CO2018</td><td>3.366<sup>***</sup></td><td>2.043<sup>***</sup></td><td>3.366<sup>***</sup></td><td>3.147<sup>***</sup></td><td>1.838<sup>***</sup></td><td>2.038<sup>***</sup></td><td>2.022<sup>***</sup></td></tr><tr><td style=\"text-align:left\"></td><td>(0.092)</td><td>(0.177)</td><td>(0.098)</td><td>(0.116)</td><td>(0.121)</td><td>(0.188)</td><td>(0.193)</td></tr><tr><td style=\"text-align:left\">country_year_fe_CO2019</td><td>2.342<sup>***</sup></td><td>1.071<sup>***</sup></td><td>3.441<sup>***</sup></td><td>2.139<sup>***</sup></td><td>2.237<sup>***</sup></td><td>1.079<sup>***</sup></td><td>2.099<sup>***</sup></td></tr><tr><td style=\"text-align:left\"></td><td>(0.095)</td><td>(0.173)</td><td>(0.096)</td><td>(0.115)</td><td>(0.109)</td><td>(0.184)</td><td>(0.189)</td></tr><tr><td style=\"text-align:left\">country_year_fe_CO2020</td><td>2.487<sup>***</sup></td><td>1.262<sup>***</sup></td><td>2.483<sup>***</sup></td><td>2.295<sup>***</sup></td><td>2.304<sup>***</sup></td><td>1.278<sup>***</sup></td><td>1.259<sup>***</sup></td></tr><tr><td style=\"text-align:left\"></td><td>(0.131)</td><td>(0.198)</td><td>(0.133)</td><td>(0.152)</td><td>(0.128)</td><td>(0.210)</td><td>(0.211)</td></tr><tr><td style=\"text-align:left\">country_year_fe_CO2021</td><td>2.123<sup>***</sup></td><td>0.802<sup>***</sup></td><td>2.123<sup>***</sup></td><td>1.815<sup>***</sup></td><td>1.997<sup>***</sup></td><td>0.708<sup>**</sup></td><td>0.700<sup>**</sup></td></tr><tr><td style=\"text-align:left\"></td><td>(0.242)</td><td>(0.290)</td><td>(0.240)</td><td>(0.266)</td><td>(0.208)</td><td>(0.306)</td><td>(0.306)</td></tr><tr><td style=\"text-align:left\">country_year_fe_CR2017</td><td>2.141<sup>***</sup></td><td>0.885<sup>***</sup></td><td>2.397<sup>***</sup></td><td>2.344<sup>***</sup></td><td>1.966<sup>***</sup></td><td>1.106<sup>***</sup></td><td>1.067<sup>***</sup></td></tr><tr><td style=\"text-align:left\"></td><td>(0.236)</td><td>(0.279)</td><td>(0.077)</td><td>(0.081)</td><td>(0.163)</td><td>(0.179)</td><td>(0.185)</td></tr><tr><td style=\"text-align:left\">country_year_fe_CR2018</td><td>3.347<sup>***</sup></td><td>2.015<sup>***</sup></td><td>3.353<sup>***</sup></td><td>3.167<sup>***</sup></td><td>1.876<sup>***</sup></td><td>1.998<sup>***</sup></td><td>1.983<sup>***</sup></td></tr><tr><td style=\"text-align:left\"></td><td>(0.085)</td><td>(0.177)</td><td>(0.088)</td><td>(0.103)</td><td>(0.108)</td><td>(0.187)</td><td>(0.191)</td></tr><tr><td style=\"text-align:left\">country_year_fe_CR2019</td><td>1.983<sup>***</sup></td><td>0.699<sup>***</sup></td><td>3.067<sup>***</sup></td><td>1.821<sup>***</sup></td><td>1.851<sup>***</sup></td><td>0.700<sup>***</sup></td><td>1.699<sup>***</sup></td></tr><tr><td style=\"text-align:left\"></td><td>(0.199)</td><td>(0.249)</td><td>(0.210)</td><td>(0.204)</td><td>(0.217)</td><td>(0.254)</td><td>(0.267)</td></tr><tr><td style=\"text-align:left\">country_year_fe_CR2020</td><td>2.524<sup>***</sup></td><td>1.309<sup>***</sup></td><td>2.517<sup>***</sup></td><td></td><td>2.334<sup>***</sup></td><td></td><td></td></tr><tr><td style=\"text-align:left\"></td><td>(0.125)</td><td>(0.190)</td><td>(0.131)</td><td></td><td>(0.125)</td><td></td><td></td></tr><tr><td style=\"text-align:left\">country_year_fe_CR2021</td><td>2.256<sup>***</sup></td><td>0.921<sup>***</sup></td><td>2.267<sup>***</sup></td><td>2.038<sup>***</sup></td><td>2.143<sup>***</sup></td><td>0.888<sup>***</sup></td><td>0.888<sup>***</sup></td></tr><tr><td style=\"text-align:left\"></td><td>(0.232)</td><td>(0.281)</td><td>(0.233)</td><td>(0.254)</td><td>(0.199)</td><td>(0.293)</td><td>(0.297)</td></tr><tr><td style=\"text-align:left\">country_year_fe_CZ2017</td><td>2.048<sup>***</sup></td><td>0.870<sup>***</sup></td><td>2.298<sup>***</sup></td><td>2.241<sup>***</sup></td><td>1.863<sup>***</sup></td><td>1.099<sup>***</sup></td><td>1.056<sup>***</sup></td></tr><tr><td style=\"text-align:left\"></td><td>(0.236)</td><td>(0.273)</td><td>(0.078)</td><td>(0.079)</td><td>(0.164)</td><td>(0.167)</td><td>(0.173)</td></tr><tr><td style=\"text-align:left\">country_year_fe_CZ2018</td><td>3.384<sup>***</sup></td><td>2.152<sup>***</sup></td><td>3.368<sup>***</sup></td><td>3.198<sup>***</sup></td><td>1.950<sup>***</sup></td><td>2.146<sup>***</sup></td><td>2.112<sup>***</sup></td></tr><tr><td style=\"text-align:left\"></td><td>(0.079)</td><td>(0.165)</td><td>(0.082)</td><td>(0.100)</td><td>(0.106)</td><td>(0.175)</td><td>(0.178)</td></tr><tr><td style=\"text-align:left\">country_year_fe_CZ2019</td><td>2.201<sup>***</sup></td><td>0.999<sup>***</sup></td><td>3.276<sup>***</sup></td><td>2.041<sup>***</sup></td><td>2.131<sup>***</sup></td><td>1.016<sup>***</sup></td><td>2.010<sup>***</sup></td></tr><tr><td style=\"text-align:left\"></td><td>(0.101)</td><td>(0.172)</td><td>(0.094)</td><td>(0.118)</td><td>(0.106)</td><td>(0.184)</td><td>(0.182)</td></tr><tr><td style=\"text-align:left\">country_year_fe_CZ2020</td><td>2.490<sup>***</sup></td><td>1.298<sup>***</sup></td><td>2.455<sup>***</sup></td><td>2.311<sup>***</sup></td><td>2.319<sup>***</sup></td><td>1.298<sup>***</sup></td><td>1.246<sup>***</sup></td></tr><tr><td style=\"text-align:left\"></td><td>(0.114)</td><td>(0.182)</td><td>(0.116)</td><td>(0.129)</td><td>(0.111)</td><td>(0.189)</td><td>(0.192)</td></tr><tr><td style=\"text-align:left\">country_year_fe_CZ2021</td><td>2.247<sup>***</sup></td><td>0.985<sup>***</sup></td><td>2.203<sup>***</sup></td><td>2.058<sup>***</sup></td><td>2.114<sup>***</sup></td><td>0.978<sup>***</sup></td><td>0.910<sup>***</sup></td></tr><tr><td style=\"text-align:left\"></td><td>(0.233)</td><td>(0.276)</td><td>(0.231)</td><td>(0.249)</td><td>(0.199)</td><td>(0.285)</td><td>(0.284)</td></tr><tr><td style=\"text-align:left\">country_year_fe_DE2017</td><td>2.011<sup>***</sup></td><td>0.777<sup>***</sup></td><td>2.266<sup>***</sup></td><td>2.146<sup>***</sup></td><td>1.804<sup>***</sup></td><td>1.021<sup>***</sup></td><td>0.984<sup>***</sup></td></tr><tr><td style=\"text-align:left\"></td><td>(0.237)</td><td>(0.279)</td><td>(0.081)</td><td>(0.088)</td><td>(0.165)</td><td>(0.176)</td><td>(0.181)</td></tr><tr><td style=\"text-align:left\">country_year_fe_DE2018</td><td>3.302<sup>***</sup></td><td>1.985<sup>***</sup></td><td>3.284<sup>***</sup></td><td>3.061<sup>***</sup></td><td>1.858<sup>***</sup></td><td>1.993<sup>***</sup></td><td>1.956<sup>***</sup></td></tr><tr><td style=\"text-align:left\"></td><td>(0.085)</td><td>(0.176)</td><td>(0.088)</td><td>(0.116)</td><td>(0.110)</td><td>(0.188)</td><td>(0.191)</td></tr><tr><td style=\"text-align:left\">country_year_fe_DE2019</td><td>2.267<sup>***</sup></td><td>1.012<sup>***</sup></td><td>3.346<sup>***</sup></td><td>2.060<sup>***</sup></td><td>2.078<sup>***</sup></td><td>1.043<sup>***</sup></td><td>2.038<sup>***</sup></td></tr><tr><td style=\"text-align:left\"></td><td>(0.101)</td><td>(0.182)</td><td>(0.088)</td><td>(0.128)</td><td>(0.107)</td><td>(0.196)</td><td>(0.192)</td></tr><tr><td style=\"text-align:left\">country_year_fe_DE2020</td><td>2.553<sup>***</sup></td><td>1.298<sup>***</sup></td><td>2.527<sup>***</sup></td><td>2.326<sup>***</sup></td><td>2.328<sup>***</sup></td><td>1.312<sup>***</sup></td><td>1.272<sup>***</sup></td></tr><tr><td style=\"text-align:left\"></td><td>(0.113)</td><td>(0.188)</td><td>(0.113)</td><td>(0.137)</td><td>(0.113)</td><td>(0.198)</td><td>(0.200)</td></tr><tr><td style=\"text-align:left\">country_year_fe_DE2021</td><td>2.313<sup>***</sup></td><td>1.015<sup>***</sup></td><td>2.287<sup>***</sup></td><td>2.099<sup>***</sup></td><td>2.146<sup>***</sup></td><td>1.055<sup>***</sup></td><td>1.012<sup>***</sup></td></tr><tr><td style=\"text-align:left\"></td><td>(0.221)</td><td>(0.271)</td><td>(0.220)</td><td>(0.237)</td><td>(0.192)</td><td>(0.277)</td><td>(0.277)</td></tr><tr><td style=\"text-align:left\">country_year_fe_DK2017</td><td>1.923<sup>***</sup></td><td>0.669<sup>**</sup></td><td>2.164<sup>***</sup></td><td>2.107<sup>***</sup></td><td>1.813<sup>***</sup></td><td>0.900<sup>***</sup></td><td>0.839<sup>***</sup></td></tr><tr><td style=\"text-align:left\"></td><td>(0.238)</td><td>(0.279)</td><td>(0.084)</td><td>(0.087)</td><td>(0.169)</td><td>(0.178)</td><td>(0.185)</td></tr><tr><td style=\"text-align:left\">country_year_fe_DK2018</td><td>3.196<sup>***</sup></td><td>1.882<sup>***</sup></td><td>3.172<sup>***</sup></td><td>3.006<sup>***</sup></td><td>1.770<sup>***</sup></td><td>1.876<sup>***</sup></td><td>1.825<sup>***</sup></td></tr><tr><td style=\"text-align:left\"></td><td>(0.130)</td><td>(0.203)</td><td>(0.126)</td><td>(0.145)</td><td>(0.144)</td><td>(0.212)</td><td>(0.213)</td></tr><tr><td style=\"text-align:left\">country_year_fe_DK2019</td><td>2.147<sup>***</sup></td><td>0.861<sup>***</sup></td><td>3.229<sup>***</sup></td><td>1.991<sup>***</sup></td><td>2.124<sup>***</sup></td><td>0.878<sup>***</sup></td><td>1.868<sup>***</sup></td></tr><tr><td style=\"text-align:left\"></td><td>(0.108)</td><td>(0.183)</td><td>(0.094)</td><td>(0.124)</td><td>(0.131)</td><td>(0.194)</td><td>(0.190)</td></tr><tr><td style=\"text-align:left\">country_year_fe_DK2020</td><td>2.495<sup>***</sup></td><td>1.246<sup>***</sup></td><td>2.486<sup>***</sup></td><td>2.320<sup>***</sup></td><td>2.347<sup>***</sup></td><td>1.246<sup>***</sup></td><td>1.203<sup>***</sup></td></tr><tr><td style=\"text-align:left\"></td><td>(0.129)</td><td>(0.196)</td><td>(0.121)</td><td>(0.138)</td><td>(0.126)</td><td>(0.202)</td><td>(0.200)</td></tr><tr><td style=\"text-align:left\">country_year_fe_DK2021</td><td>2.154<sup>***</sup></td><td>0.861<sup>***</sup></td><td>2.132<sup>***</sup></td><td>1.946<sup>***</sup></td><td>2.030<sup>***</sup></td><td>0.841<sup>***</sup></td><td>0.800<sup>***</sup></td></tr><tr><td style=\"text-align:left\"></td><td>(0.233)</td><td>(0.279)</td><td>(0.231)</td><td>(0.248)</td><td>(0.203)</td><td>(0.288)</td><td>(0.287)</td></tr><tr><td style=\"text-align:left\">country_year_fe_DO2017</td><td>1.978<sup>***</sup></td><td>0.696<sup>**</sup></td><td>2.177<sup>***</sup></td><td>2.176<sup>***</sup></td><td>1.806<sup>***</sup></td><td>0.920<sup>***</sup></td><td>0.812<sup>***</sup></td></tr><tr><td style=\"text-align:left\"></td><td>(0.243)</td><td>(0.286)</td><td>(0.096)</td><td>(0.099)</td><td>(0.173)</td><td>(0.190)</td><td>(0.199)</td></tr><tr><td style=\"text-align:left\">country_year_fe_DO2018</td><td>3.265<sup>***</sup></td><td>1.894<sup>***</sup></td><td>3.222<sup>***</sup></td><td>3.080<sup>***</sup></td><td>1.795<sup>***</sup></td><td>1.877<sup>***</sup></td><td>1.802<sup>***</sup></td></tr><tr><td style=\"text-align:left\"></td><td>(0.080)</td><td>(0.178)</td><td>(0.084)</td><td>(0.100)</td><td>(0.106)</td><td>(0.189)</td><td>(0.196)</td></tr><tr><td style=\"text-align:left\">country_year_fe_DO2019</td><td>2.158<sup>***</sup></td><td>0.828<sup>***</sup></td><td>3.200<sup>***</sup></td><td></td><td>2.040<sup>***</sup></td><td></td><td></td></tr><tr><td style=\"text-align:left\"></td><td>(0.128)</td><td>(0.196)</td><td>(0.124)</td><td></td><td>(0.140)</td><td></td><td></td></tr><tr><td style=\"text-align:left\">country_year_fe_DO2020</td><td>2.527<sup>***</sup></td><td>1.206<sup>***</sup></td><td>2.460<sup>***</sup></td><td></td><td>2.334<sup>***</sup></td><td></td><td></td></tr><tr><td style=\"text-align:left\"></td><td>(0.153)</td><td>(0.212)</td><td>(0.154)</td><td></td><td>(0.150)</td><td></td><td></td></tr><tr><td style=\"text-align:left\">country_year_fe_DO2021</td><td>2.214<sup>***</sup></td><td>0.799<sup>***</sup></td><td>2.131<sup>***</sup></td><td>2.001<sup>***</sup></td><td>2.097<sup>***</sup></td><td>0.783<sup>**</sup></td><td>0.695<sup>**</sup></td></tr><tr><td style=\"text-align:left\"></td><td>(0.253)</td><td>(0.302)</td><td>(0.251)</td><td>(0.313)</td><td>(0.221)</td><td>(0.342)</td><td>(0.343)</td></tr><tr><td style=\"text-align:left\">country_year_fe_EC2017</td><td>2.182<sup>***</sup></td><td>0.933<sup>***</sup></td><td>2.420<sup>***</sup></td><td>2.379<sup>***</sup></td><td>2.007<sup>***</sup></td><td>1.159<sup>***</sup></td><td>1.099<sup>***</sup></td></tr><tr><td style=\"text-align:left\"></td><td>(0.237)</td><td>(0.279)</td><td>(0.079)</td><td>(0.084)</td><td>(0.165)</td><td>(0.179)</td><td>(0.183)</td></tr><tr><td style=\"text-align:left\">country_year_fe_EC2018</td><td>3.297<sup>***</sup></td><td>1.960<sup>***</sup></td><td>3.277<sup>***</sup></td><td>3.106<sup>***</sup></td><td>1.825<sup>***</sup></td><td>1.946<sup>***</sup></td><td>1.901<sup>***</sup></td></tr><tr><td style=\"text-align:left\"></td><td>(0.103)</td><td>(0.184)</td><td>(0.109)</td><td>(0.119)</td><td>(0.125)</td><td>(0.194)</td><td>(0.199)</td></tr><tr><td style=\"text-align:left\">country_year_fe_EC2019</td><td>2.265<sup>***</sup></td><td>0.969<sup>***</sup></td><td>3.343<sup>***</sup></td><td>2.086<sup>***</sup></td><td>2.136<sup>***</sup></td><td>0.969<sup>***</sup></td><td>1.960<sup>***</sup></td></tr><tr><td style=\"text-align:left\"></td><td>(0.115)</td><td>(0.187)</td><td>(0.117)</td><td>(0.128)</td><td>(0.128)</td><td>(0.196)</td><td>(0.201)</td></tr><tr><td style=\"text-align:left\">country_year_fe_EC2020</td><td>2.551<sup>***</sup></td><td>1.289<sup>***</sup></td><td>2.537<sup>***</sup></td><td></td><td>2.360<sup>***</sup></td><td></td><td></td></tr><tr><td style=\"text-align:left\"></td><td>(0.124)</td><td>(0.195)</td><td>(0.124)</td><td></td><td>(0.122)</td><td></td><td></td></tr><tr><td style=\"text-align:left\">country_year_fe_EC2021</td><td>2.160<sup>***</sup></td><td>0.817<sup>***</sup></td><td>2.164<sup>***</sup></td><td>1.887<sup>***</sup></td><td>2.042<sup>***</sup></td><td>0.733<sup>**</sup></td><td>0.722<sup>**</sup></td></tr><tr><td style=\"text-align:left\"></td><td>(0.240)</td><td>(0.287)</td><td>(0.241)</td><td>(0.264)</td><td>(0.207)</td><td>(0.301)</td><td>(0.306)</td></tr><tr><td style=\"text-align:left\">country_year_fe_EE2017</td><td>1.867<sup>***</sup></td><td>0.618<sup>**</sup></td><td>2.126<sup>***</sup></td><td>2.097<sup>***</sup></td><td>1.667<sup>***</sup></td><td>0.836<sup>***</sup></td><td>0.795<sup>***</sup></td></tr><tr><td style=\"text-align:left\"></td><td>(0.243)</td><td>(0.285)</td><td>(0.098)</td><td>(0.099)</td><td>(0.178)</td><td>(0.190)</td><td>(0.195)</td></tr><tr><td style=\"text-align:left\">country_year_fe_EE2018</td><td>3.293<sup>***</sup></td><td>1.966<sup>***</sup></td><td>3.287<sup>***</sup></td><td>3.147<sup>***</sup></td><td>1.792<sup>***</sup></td><td>1.946<sup>***</sup></td><td>1.916<sup>***</sup></td></tr><tr><td style=\"text-align:left\"></td><td>(0.104)</td><td>(0.188)</td><td>(0.104)</td><td>(0.116)</td><td>(0.122)</td><td>(0.197)</td><td>(0.199)</td></tr><tr><td style=\"text-align:left\">country_year_fe_EE2019</td><td>2.246<sup>***</sup></td><td>0.976<sup>***</sup></td><td>3.325<sup>***</sup></td><td>2.129<sup>***</sup></td><td>2.074<sup>***</sup></td><td>0.980<sup>***</sup></td><td>1.972<sup>***</sup></td></tr><tr><td style=\"text-align:left\"></td><td>(0.101)</td><td>(0.183)</td><td>(0.096)</td><td>(0.113)</td><td>(0.113)</td><td>(0.194)</td><td>(0.194)</td></tr><tr><td style=\"text-align:left\">country_year_fe_EE2020</td><td>2.640<sup>***</sup></td><td>1.404<sup>***</sup></td><td>2.625<sup>***</sup></td><td>2.509<sup>***</sup></td><td>2.445<sup>***</sup></td><td>1.393<sup>***</sup></td><td>1.357<sup>***</sup></td></tr><tr><td style=\"text-align:left\"></td><td>(0.111)</td><td>(0.185)</td><td>(0.112)</td><td>(0.122)</td><td>(0.107)</td><td>(0.194)</td><td>(0.197)</td></tr><tr><td style=\"text-align:left\">country_year_fe_EE2021</td><td>2.279<sup>***</sup></td><td>0.973<sup>***</sup></td><td>2.252<sup>***</sup></td><td>2.130<sup>***</sup></td><td>2.105<sup>***</sup></td><td>0.955<sup>***</sup></td><td>0.904<sup>***</sup></td></tr><tr><td style=\"text-align:left\"></td><td>(0.243)</td><td>(0.289)</td><td>(0.243)</td><td>(0.258)</td><td>(0.212)</td><td>(0.299)</td><td>(0.300)</td></tr><tr><td style=\"text-align:left\">country_year_fe_EG2020</td><td>2.586<sup>***</sup></td><td>1.406<sup>***</sup></td><td>2.572<sup>***</sup></td><td>2.351<sup>***</sup></td><td>2.430<sup>***</sup></td><td>1.390<sup>***</sup></td><td>1.370<sup>***</sup></td></tr><tr><td style=\"text-align:left\"></td><td>(0.124)</td><td>(0.188)</td><td>(0.125)</td><td>(0.147)</td><td>(0.123)</td><td>(0.201)</td><td>(0.202)</td></tr><tr><td style=\"text-align:left\">country_year_fe_EG2021</td><td>2.093<sup>***</sup></td><td>0.859<sup>***</sup></td><td>2.069<sup>***</sup></td><td>1.814<sup>***</sup></td><td>1.997<sup>***</sup></td><td>0.798<sup>**</sup></td><td>0.770<sup>**</sup></td></tr><tr><td style=\"text-align:left\"></td><td>(0.255)</td><td>(0.294)</td><td>(0.254)</td><td>(0.281)</td><td>(0.218)</td><td>(0.311)</td><td>(0.312)</td></tr><tr><td style=\"text-align:left\">country_year_fe_ES2017</td><td>2.060<sup>***</sup></td><td>0.797<sup>***</sup></td><td>2.301<sup>***</sup></td><td>2.204<sup>***</sup></td><td>1.848<sup>***</sup></td><td>1.035<sup>***</sup></td><td>0.980<sup>***</sup></td></tr><tr><td style=\"text-align:left\"></td><td>(0.237)</td><td>(0.280)</td><td>(0.082)</td><td>(0.090)</td><td>(0.167)</td><td>(0.178)</td><td>(0.183)</td></tr><tr><td style=\"text-align:left\">country_year_fe_ES2018</td><td>3.310<sup>***</sup></td><td>1.934<sup>***</sup></td><td>3.292<sup>***</sup></td><td>3.073<sup>***</sup></td><td>1.820<sup>***</sup></td><td>1.931<sup>***</sup></td><td>1.893<sup>***</sup></td></tr><tr><td style=\"text-align:left\"></td><td>(0.105)</td><td>(0.193)</td><td>(0.109)</td><td>(0.130)</td><td>(0.121)</td><td>(0.204)</td><td>(0.208)</td></tr><tr><td style=\"text-align:left\">country_year_fe_ES2019</td><td>2.054<sup>***</sup></td><td>0.743<sup>***</sup></td><td>3.127<sup>***</sup></td><td>1.846<sup>***</sup></td><td>1.952<sup>***</sup></td><td>0.763<sup>***</sup></td><td>1.750<sup>***</sup></td></tr><tr><td style=\"text-align:left\"></td><td>(0.173)</td><td>(0.232)</td><td>(0.172)</td><td>(0.187)</td><td>(0.167)</td><td>(0.240)</td><td>(0.245)</td></tr><tr><td style=\"text-align:left\">country_year_fe_ES2020</td><td>2.598<sup>***</sup></td><td>1.332<sup>***</sup></td><td>2.566<sup>***</sup></td><td>2.344<sup>***</sup></td><td>2.449<sup>***</sup></td><td>1.318<sup>***</sup></td><td>1.265<sup>***</sup></td></tr><tr><td style=\"text-align:left\"></td><td>(0.127)</td><td>(0.200)</td><td>(0.128)</td><td>(0.149)</td><td>(0.122)</td><td>(0.209)</td><td>(0.213)</td></tr><tr><td style=\"text-align:left\">country_year_fe_ES2021</td><td>2.248<sup>***</sup></td><td>0.891<sup>***</sup></td><td>2.192<sup>***</sup></td><td>1.984<sup>***</sup></td><td>2.147<sup>***</sup></td><td>0.841<sup>**</sup></td><td>0.750<sup>*</sup></td></tr><tr><td style=\"text-align:left\"></td><td>(0.299)</td><td>(0.334)</td><td>(0.299)</td><td>(0.365)</td><td>(0.249)</td><td>(0.381)</td><td>(0.384)</td></tr><tr><td style=\"text-align:left\">country_year_fe_FI2017</td><td>1.929<sup>***</sup></td><td>0.690<sup>**</sup></td><td>2.157<sup>***</sup></td><td>2.111<sup>***</sup></td><td>1.777<sup>***</sup></td><td>0.922<sup>***</sup></td><td>0.851<sup>***</sup></td></tr><tr><td style=\"text-align:left\"></td><td>(0.240)</td><td>(0.280)</td><td>(0.084)</td><td>(0.091)</td><td>(0.169)</td><td>(0.179)</td><td>(0.183)</td></tr><tr><td style=\"text-align:left\">country_year_fe_FI2018</td><td>3.337<sup>***</sup></td><td>1.995<sup>***</sup></td><td>3.296<sup>***</sup></td><td>3.143<sup>***</sup></td><td>1.871<sup>***</sup></td><td>1.990<sup>***</sup></td><td>1.923<sup>***</sup></td></tr><tr><td style=\"text-align:left\"></td><td>(0.120)</td><td>(0.196)</td><td>(0.118)</td><td>(0.136)</td><td>(0.134)</td><td>(0.205)</td><td>(0.207)</td></tr><tr><td style=\"text-align:left\">country_year_fe_FI2019</td><td>2.178<sup>***</sup></td><td>0.933<sup>***</sup></td><td>3.238<sup>***</sup></td><td>2.012<sup>***</sup></td><td>2.105<sup>***</sup></td><td>0.952<sup>***</sup></td><td>1.923<sup>***</sup></td></tr><tr><td style=\"text-align:left\"></td><td>(0.111)</td><td>(0.185)</td><td>(0.098)</td><td>(0.127)</td><td>(0.116)</td><td>(0.196)</td><td>(0.192)</td></tr><tr><td style=\"text-align:left\">country_year_fe_FI2020</td><td>2.431<sup>***</sup></td><td>1.170<sup>***</sup></td><td>2.397<sup>***</sup></td><td>2.247<sup>***</sup></td><td>2.273<sup>***</sup></td><td>1.171<sup>***</sup></td><td>1.110<sup>***</sup></td></tr><tr><td style=\"text-align:left\"></td><td>(0.149)</td><td>(0.218)</td><td>(0.145)</td><td>(0.160)</td><td>(0.140)</td><td>(0.223)</td><td>(0.223)</td></tr><tr><td style=\"text-align:left\">country_year_fe_FI2021</td><td>2.120<sup>***</sup></td><td>0.883<sup>***</sup></td><td>2.076<sup>***</sup></td><td>1.904<sup>***</sup></td><td>2.034<sup>***</sup></td><td>0.873<sup>***</sup></td><td>0.809<sup>***</sup></td></tr><tr><td style=\"text-align:left\"></td><td>(0.258)</td><td>(0.298)</td><td>(0.256)</td><td>(0.280)</td><td>(0.226)</td><td>(0.312)</td><td>(0.313)</td></tr><tr><td style=\"text-align:left\">country_year_fe_FR2017</td><td>1.856<sup>***</sup></td><td>0.686<sup>**</sup></td><td>2.112<sup>***</sup></td><td>2.008<sup>***</sup></td><td>1.678<sup>***</sup></td><td>0.928<sup>***</sup></td><td>0.893<sup>***</sup></td></tr><tr><td style=\"text-align:left\"></td><td>(0.238)</td><td>(0.275)</td><td>(0.084)</td><td>(0.086)</td><td>(0.167)</td><td>(0.168)</td><td>(0.173)</td></tr><tr><td style=\"text-align:left\">country_year_fe_FR2018</td><td>3.009<sup>***</sup></td><td>1.769<sup>***</sup></td><td>2.998<sup>***</sup></td><td>2.789<sup>***</sup></td><td>1.603<sup>***</sup></td><td>1.775<sup>***</sup></td><td>1.745<sup>***</sup></td></tr><tr><td style=\"text-align:left\"></td><td>(0.136)</td><td>(0.194)</td><td>(0.138)</td><td>(0.153)</td><td>(0.145)</td><td>(0.203)</td><td>(0.207)</td></tr><tr><td style=\"text-align:left\">country_year_fe_FR2019</td><td>2.148<sup>***</sup></td><td>0.956<sup>***</sup></td><td>3.224<sup>***</sup></td><td>1.951<sup>***</sup></td><td>2.035<sup>***</sup></td><td>0.986<sup>***</sup></td><td>1.985<sup>***</sup></td></tr><tr><td style=\"text-align:left\"></td><td>(0.123)</td><td>(0.190)</td><td>(0.113)</td><td>(0.146)</td><td>(0.121)</td><td>(0.203)</td><td>(0.199)</td></tr><tr><td style=\"text-align:left\">country_year_fe_FR2020</td><td>2.604<sup>***</sup></td><td>1.416<sup>***</sup></td><td>2.577<sup>***</sup></td><td>2.380<sup>***</sup></td><td>2.384<sup>***</sup></td><td>1.411<sup>***</sup></td><td>1.376<sup>***</sup></td></tr><tr><td style=\"text-align:left\"></td><td>(0.141)</td><td>(0.202)</td><td>(0.135)</td><td>(0.155)</td><td>(0.131)</td><td>(0.207)</td><td>(0.207)</td></tr><tr><td style=\"text-align:left\">country_year_fe_FR2021</td><td>2.143<sup>***</sup></td><td>0.906<sup>***</sup></td><td>2.108<sup>***</sup></td><td>1.914<sup>***</sup></td><td>2.018<sup>***</sup></td><td>0.915<sup>***</sup></td><td>0.862<sup>***</sup></td></tr><tr><td style=\"text-align:left\"></td><td>(0.252)</td><td>(0.296)</td><td>(0.250)</td><td>(0.282)</td><td>(0.209)</td><td>(0.319)</td><td>(0.316)</td></tr><tr><td style=\"text-align:left\">country_year_fe_GB2017</td><td>1.917<sup>***</sup></td><td>0.706<sup>**</sup></td><td>2.160<sup>***</sup></td><td>2.068<sup>***</sup></td><td>1.615<sup>***</sup></td><td>0.949<sup>***</sup></td><td>0.895<sup>***</sup></td></tr><tr><td style=\"text-align:left\"></td><td>(0.240)</td><td>(0.278)</td><td>(0.084)</td><td>(0.092)</td><td>(0.188)</td><td>(0.173)</td><td>(0.177)</td></tr><tr><td style=\"text-align:left\">country_year_fe_GB2018</td><td>3.222<sup>***</sup></td><td>1.917<sup>***</sup></td><td>3.183<sup>***</sup></td><td>2.987<sup>***</sup></td><td>1.607<sup>***</sup></td><td>1.926<sup>***</sup></td><td>1.865<sup>***</sup></td></tr><tr><td style=\"text-align:left\"></td><td>(0.092)</td><td>(0.179)</td><td>(0.092)</td><td>(0.120)</td><td>(0.140)</td><td>(0.191)</td><td>(0.194)</td></tr><tr><td style=\"text-align:left\">country_year_fe_GB2019</td><td>2.089<sup>***</sup></td><td>0.853<sup>***</sup></td><td>3.153<sup>***</sup></td><td>1.886<sup>***</sup></td><td>1.835<sup>***</sup></td><td>0.885<sup>***</sup></td><td>1.866<sup>***</sup></td></tr><tr><td style=\"text-align:left\"></td><td>(0.137)</td><td>(0.205)</td><td>(0.126)</td><td>(0.160)</td><td>(0.155)</td><td>(0.218)</td><td>(0.214)</td></tr><tr><td style=\"text-align:left\">country_year_fe_GB2020</td><td>2.325<sup>***</sup></td><td>1.041<sup>***</sup></td><td>2.297<sup>***</sup></td><td>2.099<sup>***</sup></td><td>2.087<sup>***</sup></td><td>1.054<sup>***</sup></td><td>1.001<sup>***</sup></td></tr><tr><td style=\"text-align:left\"></td><td>(0.159)</td><td>(0.230)</td><td>(0.160)</td><td>(0.177)</td><td>(0.142)</td><td>(0.240)</td><td>(0.240)</td></tr><tr><td style=\"text-align:left\">country_year_fe_GB2021</td><td>1.952<sup>***</sup></td><td>0.663<sup>*</sup></td><td>1.920<sup>***</sup></td><td>1.646<sup>***</sup></td><td>1.765<sup>***</sup></td><td>0.565<sup></sup></td><td>0.525<sup></sup></td></tr><tr><td style=\"text-align:left\"></td><td>(0.318)</td><td>(0.361)</td><td>(0.311)</td><td>(0.383)</td><td>(0.255)</td><td>(0.438)</td><td>(0.430)</td></tr><tr><td style=\"text-align:left\">country_year_fe_GR2017</td><td>2.008<sup>***</sup></td><td>0.701<sup>**</sup></td><td>2.269<sup>***</sup></td><td>2.190<sup>***</sup></td><td>1.830<sup>***</sup></td><td>0.927<sup>***</sup></td><td>0.893<sup>***</sup></td></tr><tr><td style=\"text-align:left\"></td><td>(0.241)</td><td>(0.288)</td><td>(0.092)</td><td>(0.095)</td><td>(0.171)</td><td>(0.193)</td><td>(0.198)</td></tr><tr><td style=\"text-align:left\">country_year_fe_GR2018</td><td>3.287<sup>***</sup></td><td>1.870<sup>***</sup></td><td>3.282<sup>***</sup></td><td>3.098<sup>***</sup></td><td>1.810<sup>***</sup></td><td>1.859<sup>***</sup></td><td>1.833<sup>***</sup></td></tr><tr><td style=\"text-align:left\"></td><td>(0.136)</td><td>(0.217)</td><td>(0.137)</td><td>(0.151)</td><td>(0.154)</td><td>(0.226)</td><td>(0.229)</td></tr><tr><td style=\"text-align:left\">country_year_fe_GR2019</td><td>2.193<sup>***</sup></td><td>0.854<sup>***</sup></td><td>3.283<sup>***</sup></td><td>2.035<sup>***</sup></td><td>2.117<sup>***</sup></td><td>0.866<sup>***</sup></td><td>1.871<sup>***</sup></td></tr><tr><td style=\"text-align:left\"></td><td>(0.124)</td><td>(0.206)</td><td>(0.116)</td><td>(0.139)</td><td>(0.127)</td><td>(0.217)</td><td>(0.215)</td></tr><tr><td style=\"text-align:left\">country_year_fe_GR2020</td><td>2.553<sup>***</sup></td><td>1.227<sup>***</sup></td><td>2.543<sup>***</sup></td><td>2.376<sup>***</sup></td><td>2.371<sup>***</sup></td><td>1.233<sup>***</sup></td><td>1.199<sup>***</sup></td></tr><tr><td style=\"text-align:left\"></td><td>(0.118)</td><td>(0.201)</td><td>(0.120)</td><td>(0.136)</td><td>(0.118)</td><td>(0.211)</td><td>(0.214)</td></tr><tr><td style=\"text-align:left\">country_year_fe_GR2021</td><td>2.133<sup>***</sup></td><td>0.759<sup>***</sup></td><td>2.114<sup>***</sup></td><td>1.909<sup>***</sup></td><td>2.071<sup>***</sup></td><td>0.714<sup>**</sup></td><td>0.672<sup>**</sup></td></tr><tr><td style=\"text-align:left\"></td><td>(0.238)</td><td>(0.294)</td><td>(0.237)</td><td>(0.260)</td><td>(0.206)</td><td>(0.311)</td><td>(0.310)</td></tr><tr><td style=\"text-align:left\">country_year_fe_GT2017</td><td>2.157<sup>***</sup></td><td>0.951<sup>***</sup></td><td>2.423<sup>***</sup></td><td>2.367<sup>***</sup></td><td>1.985<sup>***</sup></td><td>1.175<sup>***</sup></td><td>1.148<sup>***</sup></td></tr><tr><td style=\"text-align:left\"></td><td>(0.237)</td><td>(0.279)</td><td>(0.079)</td><td>(0.084)</td><td>(0.164)</td><td>(0.178)</td><td>(0.183)</td></tr><tr><td style=\"text-align:left\">country_year_fe_GT2018</td><td>3.298<sup>***</sup></td><td>1.999<sup>***</sup></td><td>3.308<sup>***</sup></td><td>3.121<sup>***</sup></td><td>1.827<sup>***</sup></td><td>1.982<sup>***</sup></td><td>1.974<sup>***</sup></td></tr><tr><td style=\"text-align:left\"></td><td>(0.087)</td><td>(0.177)</td><td>(0.093)</td><td>(0.104)</td><td>(0.111)</td><td>(0.187)</td><td>(0.191)</td></tr><tr><td style=\"text-align:left\">country_year_fe_GT2019</td><td>2.247<sup>***</sup></td><td>0.978<sup>***</sup></td><td>3.358<sup>***</sup></td><td></td><td>2.129<sup>***</sup></td><td></td><td></td></tr><tr><td style=\"text-align:left\"></td><td>(0.079)</td><td>(0.175)</td><td>(0.082)</td><td></td><td>(0.098)</td><td></td><td></td></tr><tr><td style=\"text-align:left\">country_year_fe_GT2020</td><td>2.460<sup>***</sup></td><td>1.229<sup>***</sup></td><td>2.472<sup>***</sup></td><td>2.314<sup>***</sup></td><td>2.274<sup>***</sup></td><td>1.233<sup>***</sup></td><td>1.226<sup>***</sup></td></tr><tr><td style=\"text-align:left\"></td><td>(0.134)</td><td>(0.202)</td><td>(0.141)</td><td>(0.154)</td><td>(0.137)</td><td>(0.217)</td><td>(0.218)</td></tr><tr><td style=\"text-align:left\">country_year_fe_GT2021</td><td>2.129<sup>***</sup></td><td>0.827<sup>***</sup></td><td>2.143<sup>***</sup></td><td>1.880<sup>***</sup></td><td>2.015<sup>***</sup></td><td>0.794<sup>**</sup></td><td>0.796<sup>**</sup></td></tr><tr><td style=\"text-align:left\"></td><td>(0.249)</td><td>(0.295)</td><td>(0.249)</td><td>(0.287)</td><td>(0.217)</td><td>(0.317)</td><td>(0.317)</td></tr><tr><td style=\"text-align:left\">country_year_fe_HK2017</td><td>2.179<sup>***</sup></td><td>0.898<sup>***</sup></td><td>2.453<sup>***</sup></td><td>2.300<sup>***</sup></td><td>1.934<sup>***</sup></td><td>1.143<sup>***</sup></td><td>1.136<sup>***</sup></td></tr><tr><td style=\"text-align:left\"></td><td>(0.250)</td><td>(0.296)</td><td>(0.113)</td><td>(0.124)</td><td>(0.184)</td><td>(0.201)</td><td>(0.204)</td></tr><tr><td style=\"text-align:left\">country_year_fe_HK2018</td><td>3.543<sup>***</sup></td><td>2.197<sup>***</sup></td><td>3.545<sup>***</sup></td><td>3.286<sup>***</sup></td><td>1.972<sup>***</sup></td><td>2.207<sup>***</sup></td><td>2.205<sup>***</sup></td></tr><tr><td style=\"text-align:left\"></td><td>(0.112)</td><td>(0.195)</td><td>(0.109)</td><td>(0.143)</td><td>(0.128)</td><td>(0.207)</td><td>(0.206)</td></tr><tr><td style=\"text-align:left\">country_year_fe_HK2019</td><td>2.445<sup>***</sup></td><td>1.144<sup>***</sup></td><td>3.543<sup>***</sup></td><td>2.221<sup>***</sup></td><td>2.260<sup>***</sup></td><td>1.174<sup>***</sup></td><td>2.201<sup>***</sup></td></tr><tr><td style=\"text-align:left\"></td><td>(0.115)</td><td>(0.194)</td><td>(0.103)</td><td>(0.144)</td><td>(0.121)</td><td>(0.207)</td><td>(0.202)</td></tr><tr><td style=\"text-align:left\">country_year_fe_HK2020</td><td>2.446<sup>***</sup></td><td>1.172<sup>***</sup></td><td>2.440<sup>***</sup></td><td>2.174<sup>***</sup></td><td>2.198<sup>***</sup></td><td>1.136<sup>***</sup></td><td>1.129<sup>***</sup></td></tr><tr><td style=\"text-align:left\"></td><td>(0.177)</td><td>(0.236)</td><td>(0.176)</td><td>(0.201)</td><td>(0.165)</td><td>(0.251)</td><td>(0.251)</td></tr><tr><td style=\"text-align:left\">country_year_fe_HK2021</td><td>2.429<sup>***</sup></td><td>1.084<sup>***</sup></td><td>2.428<sup>***</sup></td><td>2.266<sup>***</sup></td><td>2.215<sup>***</sup></td><td>1.172<sup>***</sup></td><td>1.151<sup>***</sup></td></tr><tr><td style=\"text-align:left\"></td><td>(0.256)</td><td>(0.303)</td><td>(0.254)</td><td>(0.292)</td><td>(0.222)</td><td>(0.327)</td><td>(0.324)</td></tr><tr><td style=\"text-align:left\">country_year_fe_HN2017</td><td>2.111<sup>***</sup></td><td>0.867<sup>***</sup></td><td></td><td>2.337<sup>***</sup></td><td>1.953<sup>***</sup></td><td>1.082<sup>***</sup></td><td></td></tr><tr><td style=\"text-align:left\"></td><td>(0.236)</td><td>(0.282)</td><td></td><td>(0.081)</td><td>(0.163)</td><td>(0.185)</td><td></td></tr><tr><td style=\"text-align:left\">country_year_fe_HN2018</td><td>3.323<sup>***</sup></td><td>1.976<sup>***</sup></td><td></td><td>3.167<sup>***</sup></td><td>1.853<sup>***</sup></td><td>1.952<sup>***</sup></td><td></td></tr><tr><td style=\"text-align:left\"></td><td>(0.086)</td><td>(0.182)</td><td></td><td>(0.101)</td><td>(0.109)</td><td>(0.192)</td><td></td></tr><tr><td style=\"text-align:left\">country_year_fe_HN2019</td><td>2.252<sup>***</sup></td><td>0.918<sup>***</sup></td><td></td><td></td><td>2.132<sup>***</sup></td><td></td><td></td></tr><tr><td style=\"text-align:left\"></td><td>(0.083)</td><td>(0.182)</td><td></td><td></td><td>(0.101)</td><td></td><td></td></tr><tr><td style=\"text-align:left\">country_year_fe_HN2020</td><td>2.347<sup>***</sup></td><td>1.089<sup>***</sup></td><td></td><td></td><td>2.155<sup>***</sup></td><td></td><td></td></tr><tr><td style=\"text-align:left\"></td><td>(0.159)</td><td>(0.217)</td><td></td><td></td><td>(0.164)</td><td></td><td></td></tr><tr><td style=\"text-align:left\">country_year_fe_HN2021</td><td>1.976<sup>***</sup></td><td>0.628<sup>**</sup></td><td></td><td>1.700<sup>***</sup></td><td>1.861<sup>***</sup></td><td>0.526<sup></sup></td><td></td></tr><tr><td style=\"text-align:left\"></td><td>(0.271)</td><td>(0.312)</td><td></td><td>(0.307)</td><td>(0.243)</td><td>(0.342)</td><td></td></tr><tr><td style=\"text-align:left\">country_year_fe_HU2017</td><td>2.036<sup>***</sup></td><td>0.791<sup>***</sup></td><td>2.293<sup>***</sup></td><td>2.229<sup>***</sup></td><td>1.870<sup>***</sup></td><td>1.018<sup>***</sup></td><td>0.979<sup>***</sup></td></tr><tr><td style=\"text-align:left\"></td><td>(0.237)</td><td>(0.279)</td><td>(0.081)</td><td>(0.084)</td><td>(0.166)</td><td>(0.178)</td><td>(0.184)</td></tr><tr><td style=\"text-align:left\">country_year_fe_HU2018</td><td>3.383<sup>***</sup></td><td>2.063<sup>***</sup></td><td>3.371<sup>***</sup></td><td>3.199<sup>***</sup></td><td>1.909<sup>***</sup></td><td>2.054<sup>***</sup></td><td>2.020<sup>***</sup></td></tr><tr><td style=\"text-align:left\"></td><td>(0.086)</td><td>(0.177)</td><td>(0.089)</td><td>(0.106)</td><td>(0.112)</td><td>(0.187)</td><td>(0.190)</td></tr><tr><td style=\"text-align:left\">country_year_fe_HU2019</td><td>2.146<sup>***</sup></td><td>0.910<sup>***</sup></td><td>3.224<sup>***</sup></td><td>1.990<sup>***</sup></td><td>2.013<sup>***</sup></td><td>0.925<sup>***</sup></td><td>1.920<sup>***</sup></td></tr><tr><td style=\"text-align:left\"></td><td>(0.120)</td><td>(0.192)</td><td>(0.114)</td><td>(0.135)</td><td>(0.127)</td><td>(0.203)</td><td>(0.202)</td></tr><tr><td style=\"text-align:left\">country_year_fe_HU2020</td><td>2.584<sup>***</sup></td><td>1.332<sup>***</sup></td><td>2.567<sup>***</sup></td><td>2.403<sup>***</sup></td><td>2.406<sup>***</sup></td><td>1.332<sup>***</sup></td><td>1.292<sup>***</sup></td></tr><tr><td style=\"text-align:left\"></td><td>(0.125)</td><td>(0.197)</td><td>(0.124)</td><td>(0.140)</td><td>(0.123)</td><td>(0.205)</td><td>(0.207)</td></tr><tr><td style=\"text-align:left\">country_year_fe_HU2021</td><td>2.362<sup>***</sup></td><td>1.038<sup>***</sup></td><td>2.324<sup>***</sup></td><td>2.187<sup>***</sup></td><td>2.240<sup>***</sup></td><td>1.037<sup>***</sup></td><td>0.975<sup>***</sup></td></tr><tr><td style=\"text-align:left\"></td><td>(0.230)</td><td>(0.279)</td><td>(0.229)</td><td>(0.245)</td><td>(0.195)</td><td>(0.289)</td><td>(0.290)</td></tr><tr><td style=\"text-align:left\">country_year_fe_ID2017</td><td>2.339<sup>***</sup></td><td>1.181<sup>***</sup></td><td>2.585<sup>***</sup></td><td>2.462<sup>***</sup></td><td>2.173<sup>***</sup></td><td>1.422<sup>***</sup></td><td>1.394<sup>***</sup></td></tr><tr><td style=\"text-align:left\"></td><td>(0.243)</td><td>(0.278)</td><td>(0.098)</td><td>(0.105)</td><td>(0.175)</td><td>(0.173)</td><td>(0.177)</td></tr><tr><td style=\"text-align:left\">country_year_fe_ID2018</td><td>3.678<sup>***</sup></td><td>2.458<sup>***</sup></td><td>3.652<sup>***</sup></td><td>3.420<sup>***</sup></td><td>2.164<sup>***</sup></td><td>2.465<sup>***</sup></td><td>2.441<sup>***</sup></td></tr><tr><td style=\"text-align:left\"></td><td>(0.117)</td><td>(0.185)</td><td>(0.114)</td><td>(0.144)</td><td>(0.131)</td><td>(0.197)</td><td>(0.197)</td></tr><tr><td style=\"text-align:left\">country_year_fe_ID2019</td><td>2.676<sup>***</sup></td><td>1.499<sup>***</sup></td><td>3.751<sup>***</sup></td><td>2.452<sup>***</sup></td><td>2.521<sup>***</sup></td><td>1.525<sup>***</sup></td><td>2.536<sup>***</sup></td></tr><tr><td style=\"text-align:left\"></td><td>(0.163)</td><td>(0.218)</td><td>(0.153)</td><td>(0.182)</td><td>(0.161)</td><td>(0.229)</td><td>(0.224)</td></tr><tr><td style=\"text-align:left\">country_year_fe_ID2020</td><td>2.916<sup>***</sup></td><td>1.754<sup>***</sup></td><td>2.889<sup>***</sup></td><td>2.675<sup>***</sup></td><td>2.710<sup>***</sup></td><td>1.766<sup>***</sup></td><td>1.742<sup>***</sup></td></tr><tr><td style=\"text-align:left\"></td><td>(0.136)</td><td>(0.193)</td><td>(0.135)</td><td>(0.160)</td><td>(0.134)</td><td>(0.204)</td><td>(0.205)</td></tr><tr><td style=\"text-align:left\">country_year_fe_ID2021</td><td>2.625<sup>***</sup></td><td>1.403<sup>***</sup></td><td>2.593<sup>***</sup></td><td>2.444<sup>***</sup></td><td>2.472<sup>***</sup></td><td>1.472<sup>***</sup></td><td>1.437<sup>***</sup></td></tr><tr><td style=\"text-align:left\"></td><td>(0.258)</td><td>(0.297)</td><td>(0.256)</td><td>(0.285)</td><td>(0.223)</td><td>(0.313)</td><td>(0.313)</td></tr><tr><td style=\"text-align:left\">country_year_fe_IE2017</td><td>1.926<sup>***</sup></td><td>0.671<sup>**</sup></td><td>2.167<sup>***</sup></td><td>2.109<sup>***</sup></td><td>1.734<sup>***</sup></td><td>0.906<sup>***</sup></td><td>0.847<sup>***</sup></td></tr><tr><td style=\"text-align:left\"></td><td>(0.237)</td><td>(0.280)</td><td>(0.080)</td><td>(0.084)</td><td>(0.165)</td><td>(0.179)</td><td>(0.184)</td></tr><tr><td style=\"text-align:left\">country_year_fe_IE2018</td><td>3.289<sup>***</sup></td><td>1.983<sup>***</sup></td><td>3.254<sup>***</sup></td><td>3.097<sup>***</sup></td><td>1.799<sup>***</sup></td><td>1.982<sup>***</sup></td><td>1.918<sup>***</sup></td></tr><tr><td style=\"text-align:left\"></td><td>(0.095)</td><td>(0.182)</td><td>(0.096)</td><td>(0.117)</td><td>(0.118)</td><td>(0.191)</td><td>(0.195)</td></tr><tr><td style=\"text-align:left\">country_year_fe_IE2019</td><td>2.297<sup>***</sup></td><td>1.005<sup>***</sup></td><td>3.359<sup>***</sup></td><td>2.130<sup>***</sup></td><td>2.163<sup>***</sup></td><td>1.027<sup>***</sup></td><td>2.000<sup>***</sup></td></tr><tr><td style=\"text-align:left\"></td><td>(0.117)</td><td>(0.198)</td><td>(0.107)</td><td>(0.138)</td><td>(0.120)</td><td>(0.210)</td><td>(0.208)</td></tr><tr><td style=\"text-align:left\">country_year_fe_IE2020</td><td>2.509<sup>***</sup></td><td>1.222<sup>***</sup></td><td>2.468<sup>***</sup></td><td>2.332<sup>***</sup></td><td>2.299<sup>***</sup></td><td>1.225<sup>***</sup></td><td>1.149<sup>***</sup></td></tr><tr><td style=\"text-align:left\"></td><td>(0.137)</td><td>(0.208)</td><td>(0.136)</td><td>(0.149)</td><td>(0.136)</td><td>(0.215)</td><td>(0.216)</td></tr><tr><td style=\"text-align:left\">country_year_fe_IE2021</td><td>2.110<sup>***</sup></td><td>0.754<sup>**</sup></td><td>2.077<sup>***</sup></td><td>1.910<sup>***</sup></td><td>1.961<sup>***</sup></td><td>0.721<sup>**</sup></td><td>0.672<sup>**</sup></td></tr><tr><td style=\"text-align:left\"></td><td>(0.250)</td><td>(0.299)</td><td>(0.247)</td><td>(0.277)</td><td>(0.220)</td><td>(0.321)</td><td>(0.317)</td></tr><tr><td style=\"text-align:left\">country_year_fe_IL2018</td><td>3.456<sup>***</sup></td><td></td><td>3.422<sup>***</sup></td><td>3.228<sup>***</sup></td><td>2.025<sup>***</sup></td><td></td><td></td></tr><tr><td style=\"text-align:left\"></td><td>(0.099)</td><td></td><td>(0.102)</td><td>(0.127)</td><td>(0.122)</td><td></td><td></td></tr><tr><td style=\"text-align:left\">country_year_fe_IL2019</td><td>2.270<sup>***</sup></td><td></td><td>3.332<sup>***</sup></td><td>2.083<sup>***</sup></td><td>2.116<sup>***</sup></td><td></td><td></td></tr><tr><td style=\"text-align:left\"></td><td>(0.138)</td><td></td><td>(0.133)</td><td>(0.157)</td><td>(0.144)</td><td></td><td></td></tr><tr><td style=\"text-align:left\">country_year_fe_IL2020</td><td>2.592<sup>***</sup></td><td></td><td>2.573<sup>***</sup></td><td>2.393<sup>***</sup></td><td>2.402<sup>***</sup></td><td></td><td></td></tr><tr><td style=\"text-align:left\"></td><td>(0.158)</td><td></td><td>(0.158)</td><td>(0.177)</td><td>(0.161)</td><td></td><td></td></tr><tr><td style=\"text-align:left\">country_year_fe_IL2021</td><td>2.342<sup>***</sup></td><td></td><td>2.299<sup>***</sup></td><td>2.148<sup>***</sup></td><td>2.310<sup>***</sup></td><td></td><td></td></tr><tr><td style=\"text-align:left\"></td><td>(0.240)</td><td></td><td>(0.240)</td><td>(0.264)</td><td>(0.215)</td><td></td><td></td></tr><tr><td style=\"text-align:left\">country_year_fe_IN2019</td><td>2.294<sup>***</sup></td><td>1.159<sup>***</sup></td><td>3.377<sup>***</sup></td><td>2.064<sup>***</sup></td><td>2.112<sup>***</sup></td><td>1.194<sup>***</sup></td><td>2.217<sup>***</sup></td></tr><tr><td style=\"text-align:left\"></td><td>(0.128)</td><td>(0.191)</td><td>(0.117)</td><td>(0.155)</td><td>(0.134)</td><td>(0.204)</td><td>(0.198)</td></tr><tr><td style=\"text-align:left\">country_year_fe_IN2020</td><td>2.627<sup>***</sup></td><td>1.513<sup>***</sup></td><td>2.614<sup>***</sup></td><td>2.387<sup>***</sup></td><td>2.401<sup>***</sup></td><td>1.534<sup>***</sup></td><td>1.528<sup>***</sup></td></tr><tr><td style=\"text-align:left\"></td><td>(0.139)</td><td>(0.203)</td><td>(0.138)</td><td>(0.164)</td><td>(0.139)</td><td>(0.214)</td><td>(0.214)</td></tr><tr><td style=\"text-align:left\">country_year_fe_IN2021</td><td>2.368<sup>***</sup></td><td>1.194<sup>***</sup></td><td>2.354<sup>***</sup></td><td>2.179<sup>***</sup></td><td>2.205<sup>***</sup></td><td>1.271<sup>***</sup></td><td>1.254<sup>***</sup></td></tr><tr><td style=\"text-align:left\"></td><td>(0.259)</td><td>(0.298)</td><td>(0.259)</td><td>(0.290)</td><td>(0.231)</td><td>(0.318)</td><td>(0.319)</td></tr><tr><td style=\"text-align:left\">country_year_fe_IS2017</td><td>1.988<sup>***</sup></td><td>0.619<sup>**</sup></td><td>2.133<sup>***</sup></td><td>2.210<sup>***</sup></td><td>1.806<sup>***</sup></td><td>0.835<sup>***</sup></td><td>0.659<sup>***</sup></td></tr><tr><td style=\"text-align:left\"></td><td>(0.244)</td><td>(0.293)</td><td>(0.105)</td><td>(0.105)</td><td>(0.175)</td><td>(0.206)</td><td>(0.217)</td></tr><tr><td style=\"text-align:left\">country_year_fe_IS2018</td><td>3.407<sup>***</sup></td><td>1.940<sup>***</sup></td><td>3.265<sup>***</sup></td><td>3.243<sup>***</sup></td><td>1.920<sup>***</sup></td><td>1.920<sup>***</sup></td><td>1.733<sup>***</sup></td></tr><tr><td style=\"text-align:left\"></td><td>(0.133)</td><td>(0.199)</td><td>(0.136)</td><td>(0.139)</td><td>(0.149)</td><td>(0.209)</td><td>(0.216)</td></tr><tr><td style=\"text-align:left\">country_year_fe_IS2019</td><td>2.376<sup>***</sup></td><td>1.016<sup>***</sup></td><td>3.362<sup>***</sup></td><td>2.254<sup>***</sup></td><td>2.238<sup>***</sup></td><td>1.018<sup>***</sup></td><td>1.892<sup>***</sup></td></tr><tr><td style=\"text-align:left\"></td><td>(0.154)</td><td>(0.209)</td><td>(0.146)</td><td>(0.156)</td><td>(0.148)</td><td>(0.220)</td><td>(0.220)</td></tr><tr><td style=\"text-align:left\">country_year_fe_IS2020</td><td>2.510<sup>***</sup></td><td>1.084<sup>***</sup></td><td>2.356<sup>***</sup></td><td>2.367<sup>***</sup></td><td>2.313<sup>***</sup></td><td>1.063<sup>***</sup></td><td>0.841<sup>***</sup></td></tr><tr><td style=\"text-align:left\"></td><td>(0.202)</td><td>(0.270)</td><td>(0.212)</td><td>(0.208)</td><td>(0.185)</td><td>(0.280)</td><td>(0.292)</td></tr><tr><td style=\"text-align:left\">country_year_fe_IS2021</td><td>2.252<sup>***</sup></td><td>0.832<sup>***</sup></td><td>2.125<sup>***</sup></td><td>2.101<sup>***</sup></td><td>2.113<sup>***</sup></td><td>0.805<sup>**</sup></td><td>0.669<sup>**</sup></td></tr><tr><td style=\"text-align:left\"></td><td>(0.251)</td><td>(0.303)</td><td>(0.251)</td><td>(0.268)</td><td>(0.217)</td><td>(0.320)</td><td>(0.321)</td></tr><tr><td style=\"text-align:left\">country_year_fe_IT2017</td><td>2.002<sup>***</sup></td><td>0.752<sup>***</sup></td><td>2.246<sup>***</sup></td><td>2.147<sup>***</sup></td><td>1.898<sup>***</sup></td><td>0.991<sup>***</sup></td><td>0.938<sup>***</sup></td></tr><tr><td style=\"text-align:left\"></td><td>(0.238)</td><td>(0.280)</td><td>(0.083)</td><td>(0.089)</td><td>(0.168)</td><td>(0.177)</td><td>(0.183)</td></tr><tr><td style=\"text-align:left\">country_year_fe_IT2018</td><td>3.195<sup>***</sup></td><td>1.866<sup>***</sup></td><td>3.179<sup>***</sup></td><td>2.958<sup>***</sup></td><td>1.827<sup>***</sup></td><td>1.870<sup>***</sup></td><td>1.832<sup>***</sup></td></tr><tr><td style=\"text-align:left\"></td><td>(0.109)</td><td>(0.186)</td><td>(0.106)</td><td>(0.132)</td><td>(0.135)</td><td>(0.198)</td><td>(0.199)</td></tr><tr><td style=\"text-align:left\">country_year_fe_IT2019</td><td>2.132<sup>***</sup></td><td>0.842<sup>***</sup></td><td>3.197<sup>***</sup></td><td>1.920<sup>***</sup></td><td>2.060<sup>***</sup></td><td>0.868<sup>***</sup></td><td>1.848<sup>***</sup></td></tr><tr><td style=\"text-align:left\"></td><td>(0.094)</td><td>(0.180)</td><td>(0.085)</td><td>(0.123)</td><td>(0.110)</td><td>(0.194)</td><td>(0.193)</td></tr><tr><td style=\"text-align:left\">country_year_fe_IT2020</td><td>2.517<sup>***</sup></td><td>1.247<sup>***</sup></td><td>2.492<sup>***</sup></td><td>2.302<sup>***</sup></td><td>2.395<sup>***</sup></td><td>1.270<sup>***</sup></td><td>1.215<sup>***</sup></td></tr><tr><td style=\"text-align:left\"></td><td>(0.114)</td><td>(0.189)</td><td>(0.114)</td><td>(0.138)</td><td>(0.114)</td><td>(0.199)</td><td>(0.202)</td></tr><tr><td style=\"text-align:left\">country_year_fe_IT2021</td><td>2.202<sup>***</sup></td><td>0.888<sup>***</sup></td><td>2.159<sup>***</sup></td><td>1.971<sup>***</sup></td><td>2.119<sup>***</sup></td><td>0.904<sup>***</sup></td><td>0.832<sup>***</sup></td></tr><tr><td style=\"text-align:left\"></td><td>(0.234)</td><td>(0.283)</td><td>(0.233)</td><td>(0.257)</td><td>(0.200)</td><td>(0.293)</td><td>(0.294)</td></tr><tr><td style=\"text-align:left\">country_year_fe_JP2017</td><td>2.141<sup>***</sup></td><td>0.886<sup>***</sup></td><td>2.398<sup>***</sup></td><td>2.237<sup>***</sup></td><td>1.958<sup>***</sup></td><td>1.134<sup>***</sup></td><td>1.110<sup>***</sup></td></tr><tr><td style=\"text-align:left\"></td><td>(0.247)</td><td>(0.289)</td><td>(0.106)</td><td>(0.118)</td><td>(0.178)</td><td>(0.190)</td><td>(0.194)</td></tr><tr><td style=\"text-align:left\">country_year_fe_JP2018</td><td>3.282<sup>***</sup></td><td>1.946<sup>***</sup></td><td>3.265<sup>***</sup></td><td>3.004<sup>***</sup></td><td>1.921<sup>***</sup></td><td>1.956<sup>***</sup></td><td>1.936<sup>***</sup></td></tr><tr><td style=\"text-align:left\"></td><td>(0.173)</td><td>(0.229)</td><td>(0.171)</td><td>(0.191)</td><td>(0.184)</td><td>(0.240)</td><td>(0.239)</td></tr><tr><td style=\"text-align:left\">country_year_fe_JP2019</td><td>2.342<sup>***</sup></td><td>1.052<sup>***</sup></td><td>3.430<sup>***</sup></td><td>2.087<sup>***</sup></td><td>2.360<sup>***</sup></td><td>1.084<sup>***</sup></td><td>2.102<sup>***</sup></td></tr><tr><td style=\"text-align:left\"></td><td>(0.106)</td><td>(0.189)</td><td>(0.094)</td><td>(0.142)</td><td>(0.158)</td><td>(0.204)</td><td>(0.200)</td></tr><tr><td style=\"text-align:left\">country_year_fe_JP2020</td><td>2.398<sup>***</sup></td><td>1.121<sup>***</sup></td><td>2.396<sup>***</sup></td><td>2.145<sup>***</sup></td><td>2.462<sup>***</sup></td><td>1.151<sup>***</sup></td><td>1.130<sup>***</sup></td></tr><tr><td style=\"text-align:left\"></td><td>(0.164)</td><td>(0.224)</td><td>(0.165)</td><td>(0.203)</td><td>(0.231)</td><td>(0.237)</td><td>(0.237)</td></tr><tr><td style=\"text-align:left\">country_year_fe_JP2021</td><td>2.038<sup>***</sup></td><td>0.684<sup>**</sup></td><td>2.040<sup>***</sup></td><td></td><td>2.248<sup>***</sup></td><td></td><td></td></tr><tr><td style=\"text-align:left\"></td><td>(0.229)</td><td>(0.280)</td><td>(0.228)</td><td></td><td>(0.300)</td><td></td><td></td></tr><tr><td style=\"text-align:left\">country_year_fe_KR2021</td><td>2.400<sup>***</sup></td><td>1.078<sup>***</sup></td><td>2.389<sup>***</sup></td><td>2.176<sup>***</sup></td><td>2.238<sup>***</sup></td><td>1.152<sup>***</sup></td><td>1.123<sup>***</sup></td></tr><tr><td style=\"text-align:left\"></td><td>(0.244)</td><td>(0.292)</td><td>(0.245)</td><td>(0.290)</td><td>(0.205)</td><td>(0.316)</td><td>(0.319)</td></tr><tr><td style=\"text-align:left\">country_year_fe_LT2017</td><td>1.678<sup>***</sup></td><td>0.409<sup></sup></td><td>1.939<sup>***</sup></td><td>1.890<sup>***</sup></td><td>1.513<sup>***</sup></td><td>0.630<sup>***</sup></td><td>0.593<sup>***</sup></td></tr><tr><td style=\"text-align:left\"></td><td>(0.249)</td><td>(0.294)</td><td>(0.112)</td><td>(0.112)</td><td>(0.182)</td><td>(0.203)</td><td>(0.209)</td></tr><tr><td style=\"text-align:left\">country_year_fe_LT2018</td><td>3.290<sup>***</sup></td><td>1.927<sup>***</sup></td><td>3.287<sup>***</sup></td><td>3.126<sup>***</sup></td><td>1.805<sup>***</sup></td><td>1.912<sup>***</sup></td><td>1.885<sup>***</sup></td></tr><tr><td style=\"text-align:left\"></td><td>(0.113)</td><td>(0.198)</td><td>(0.113)</td><td>(0.126)</td><td>(0.133)</td><td>(0.207)</td><td>(0.210)</td></tr><tr><td style=\"text-align:left\">country_year_fe_LT2019</td><td>2.258<sup>***</sup></td><td>0.952<sup>***</sup></td><td>3.341<sup>***</sup></td><td>2.125<sup>***</sup></td><td>2.051<sup>***</sup></td><td>0.960<sup>***</sup></td><td>1.957<sup>***</sup></td></tr><tr><td style=\"text-align:left\"></td><td>(0.116)</td><td>(0.197)</td><td>(0.107)</td><td>(0.129)</td><td>(0.127)</td><td>(0.208)</td><td>(0.206)</td></tr><tr><td style=\"text-align:left\">country_year_fe_LT2020</td><td>2.581<sup>***</sup></td><td>1.333<sup>***</sup></td><td>2.574<sup>***</sup></td><td>2.450<sup>***</sup></td><td>2.408<sup>***</sup></td><td>1.339<sup>***</sup></td><td>1.316<sup>***</sup></td></tr><tr><td style=\"text-align:left\"></td><td>(0.116)</td><td>(0.189)</td><td>(0.117)</td><td>(0.130)</td><td>(0.114)</td><td>(0.199)</td><td>(0.201)</td></tr><tr><td style=\"text-align:left\">country_year_fe_LT2021</td><td>2.401<sup>***</sup></td><td>1.086<sup>***</sup></td><td>2.377<sup>***</sup></td><td>2.245<sup>***</sup></td><td>2.197<sup>***</sup></td><td>1.079<sup>***</sup></td><td>1.034<sup>***</sup></td></tr><tr><td style=\"text-align:left\"></td><td>(0.233)</td><td>(0.284)</td><td>(0.232)</td><td>(0.245)</td><td>(0.201)</td><td>(0.293)</td><td>(0.294)</td></tr><tr><td style=\"text-align:left\">country_year_fe_LU2017</td><td>1.674<sup>***</sup></td><td>0.403<sup></sup></td><td>1.919<sup>***</sup></td><td>1.929<sup>***</sup></td><td>1.499<sup>***</sup></td><td>0.619<sup>***</sup></td><td>0.554<sup>***</sup></td></tr><tr><td style=\"text-align:left\"></td><td>(0.248)</td><td>(0.290)</td><td>(0.103)</td><td>(0.104)</td><td>(0.184)</td><td>(0.200)</td><td>(0.205)</td></tr><tr><td style=\"text-align:left\">country_year_fe_LU2018</td><td>1.784<sup>***</sup></td><td>0.445<sup></sup></td><td>1.760<sup>***</sup></td><td>1.662<sup>***</sup></td><td>0.315<sup></sup></td><td>0.425<sup></sup></td><td>0.367<sup></sup></td></tr><tr><td style=\"text-align:left\"></td><td>(0.451)</td><td>(0.475)</td><td>(0.451)</td><td>(0.447)</td><td>(0.459)</td><td>(0.478)</td><td>(0.480)</td></tr><tr><td style=\"text-align:left\">country_year_fe_LU2021</td><td>1.380<sup>***</sup></td><td>0.092<sup></sup></td><td>1.342<sup>***</sup></td><td></td><td>1.253<sup>***</sup></td><td></td><td></td></tr><tr><td style=\"text-align:left\"></td><td>(0.257)</td><td>(0.297)</td><td>(0.256)</td><td></td><td>(0.228)</td><td></td><td></td></tr><tr><td style=\"text-align:left\">country_year_fe_LV2017</td><td>1.902<sup>***</sup></td><td>0.640<sup>**</sup></td><td>2.165<sup>***</sup></td><td>2.141<sup>***</sup></td><td>1.759<sup>***</sup></td><td>0.854<sup>***</sup></td><td>0.816<sup>***</sup></td></tr><tr><td style=\"text-align:left\"></td><td>(0.249)</td><td>(0.293)</td><td>(0.112)</td><td>(0.112)</td><td>(0.180)</td><td>(0.204)</td><td>(0.210)</td></tr><tr><td style=\"text-align:left\">country_year_fe_LV2018</td><td>3.355<sup>***</sup></td><td>1.980<sup>***</sup></td><td>3.351<sup>***</sup></td><td>3.216<sup>***</sup></td><td>1.888<sup>***</sup></td><td>1.958<sup>***</sup></td><td>1.929<sup>***</sup></td></tr><tr><td style=\"text-align:left\"></td><td>(0.098)</td><td>(0.192)</td><td>(0.101)</td><td>(0.110)</td><td>(0.120)</td><td>(0.202)</td><td>(0.207)</td></tr><tr><td style=\"text-align:left\">country_year_fe_LV2019</td><td>2.138<sup>***</sup></td><td>0.811<sup>***</sup></td><td>3.226<sup>***</sup></td><td>2.027<sup>***</sup></td><td>1.996<sup>***</sup></td><td>0.812<sup>***</sup></td><td>1.814<sup>***</sup></td></tr><tr><td style=\"text-align:left\"></td><td>(0.141)</td><td>(0.214)</td><td>(0.136)</td><td>(0.149)</td><td>(0.151)</td><td>(0.224)</td><td>(0.225)</td></tr><tr><td style=\"text-align:left\">country_year_fe_LV2020</td><td>2.500<sup>***</sup></td><td>1.242<sup>***</sup></td><td>2.491<sup>***</sup></td><td>2.391<sup>***</sup></td><td>2.330<sup>***</sup></td><td>1.252<sup>***</sup></td><td>1.226<sup>***</sup></td></tr><tr><td style=\"text-align:left\"></td><td>(0.120)</td><td>(0.194)</td><td>(0.121)</td><td>(0.129)</td><td>(0.115)</td><td>(0.203)</td><td>(0.206)</td></tr><tr><td style=\"text-align:left\">country_year_fe_LV2021</td><td>2.297<sup>***</sup></td><td>0.966<sup>***</sup></td><td>2.281<sup>***</sup></td><td>2.140<sup>***</sup></td><td>2.157<sup>***</sup></td><td>0.939<sup>***</sup></td><td>0.903<sup>***</sup></td></tr><tr><td style=\"text-align:left\"></td><td>(0.241)</td><td>(0.290)</td><td>(0.238)</td><td>(0.254)</td><td>(0.208)</td><td>(0.302)</td><td>(0.301)</td></tr><tr><td style=\"text-align:left\">country_year_fe_MA2019</td><td>2.239<sup>***</sup></td><td>1.017<sup>***</sup></td><td>3.313<sup>***</sup></td><td>2.067<sup>***</sup></td><td>2.138<sup>***</sup></td><td>1.032<sup>***</sup></td><td>2.030<sup>***</sup></td></tr><tr><td style=\"text-align:left\"></td><td>(0.159)</td><td>(0.207)</td><td>(0.152)</td><td>(0.170)</td><td>(0.164)</td><td>(0.216)</td><td>(0.213)</td></tr><tr><td style=\"text-align:left\">country_year_fe_MA2020</td><td>2.744<sup>***</sup></td><td>1.538<sup>***</sup></td><td>2.718<sup>***</sup></td><td>2.507<sup>***</sup></td><td>2.560<sup>***</sup></td><td>1.473<sup>***</sup></td><td>1.448<sup>***</sup></td></tr><tr><td style=\"text-align:left\"></td><td>(0.138)</td><td>(0.193)</td><td>(0.136)</td><td>(0.154)</td><td>(0.138)</td><td>(0.203)</td><td>(0.204)</td></tr><tr><td style=\"text-align:left\">country_year_fe_MA2021</td><td>2.201<sup>***</sup></td><td>0.948<sup>***</sup></td><td>2.170<sup>***</sup></td><td>2.004<sup>***</sup></td><td>2.065<sup>***</sup></td><td>0.924<sup>***</sup></td><td>0.878<sup>***</sup></td></tr><tr><td style=\"text-align:left\"></td><td>(0.280)</td><td>(0.307)</td><td>(0.279)</td><td>(0.312)</td><td>(0.251)</td><td>(0.328)</td><td>(0.327)</td></tr><tr><td style=\"text-align:left\">country_year_fe_MX2017</td><td>2.106<sup>***</sup></td><td>0.903<sup>***</sup></td><td>2.368<sup>***</sup></td><td>2.236<sup>***</sup></td><td>1.892<sup>***</sup></td><td>1.146<sup>***</sup></td><td>1.124<sup>***</sup></td></tr><tr><td style=\"text-align:left\"></td><td>(0.238)</td><td>(0.279)</td><td>(0.085)</td><td>(0.095)</td><td>(0.168)</td><td>(0.175)</td><td>(0.180)</td></tr><tr><td style=\"text-align:left\">country_year_fe_MX2018</td><td>3.327<sup>***</sup></td><td>2.025<sup>***</sup></td><td>3.333<sup>***</sup></td><td>3.082<sup>***</sup></td><td>1.780<sup>***</sup></td><td>2.026<sup>***</sup></td><td>2.021<sup>***</sup></td></tr><tr><td style=\"text-align:left\"></td><td>(0.095)</td><td>(0.183)</td><td>(0.100)</td><td>(0.125)</td><td>(0.128)</td><td>(0.194)</td><td>(0.198)</td></tr><tr><td style=\"text-align:left\">country_year_fe_MX2020</td><td>2.277<sup>***</sup></td><td>1.036<sup>***</sup></td><td>2.276<sup>***</sup></td><td>2.008<sup>***</sup></td><td>2.057<sup>***</sup></td><td>1.025<sup>***</sup></td><td>1.014<sup>***</sup></td></tr><tr><td style=\"text-align:left\"></td><td>(0.177)</td><td>(0.223)</td><td>(0.184)</td><td>(0.211)</td><td>(0.161)</td><td>(0.246)</td><td>(0.248)</td></tr><tr><td style=\"text-align:left\">country_year_fe_MX2021</td><td>2.298<sup>***</sup></td><td>0.991<sup>***</sup></td><td>2.300<sup>***</sup></td><td>2.078<sup>***</sup></td><td>2.087<sup>***</sup></td><td>1.044<sup>***</sup></td><td>1.049<sup>***</sup></td></tr><tr><td style=\"text-align:left\"></td><td>(0.240)</td><td>(0.290)</td><td>(0.240)</td><td>(0.272)</td><td>(0.214)</td><td>(0.302)</td><td>(0.303)</td></tr><tr><td style=\"text-align:left\">country_year_fe_MY2017</td><td>2.346<sup>***</sup></td><td>1.113<sup>***</sup></td><td>2.606<sup>***</sup></td><td>2.466<sup>***</sup></td><td>2.172<sup>***</sup></td><td>1.354<sup>***</sup></td><td>1.335<sup>***</sup></td></tr><tr><td style=\"text-align:left\"></td><td>(0.240)</td><td>(0.281)</td><td>(0.090)</td><td>(0.099)</td><td>(0.170)</td><td>(0.179)</td><td>(0.183)</td></tr><tr><td style=\"text-align:left\">country_year_fe_MY2018</td><td>3.553<sup>***</sup></td><td>2.240<sup>***</sup></td><td>3.541<sup>***</sup></td><td>3.295<sup>***</sup></td><td>2.120<sup>***</sup></td><td>2.245<sup>***</sup></td><td>2.230<sup>***</sup></td></tr><tr><td style=\"text-align:left\"></td><td>(0.105)</td><td>(0.189)</td><td>(0.105)</td><td>(0.136)</td><td>(0.122)</td><td>(0.201)</td><td>(0.203)</td></tr><tr><td style=\"text-align:left\">country_year_fe_MY2019</td><td>2.504<sup>***</sup></td><td>1.233<sup>***</sup></td><td>3.593<sup>***</sup></td><td>2.277<sup>***</sup></td><td>2.376<sup>***</sup></td><td>1.259<sup>***</sup></td><td>2.280<sup>***</sup></td></tr><tr><td style=\"text-align:left\"></td><td>(0.131)</td><td>(0.202)</td><td>(0.124)</td><td>(0.156)</td><td>(0.135)</td><td>(0.215)</td><td>(0.212)</td></tr><tr><td style=\"text-align:left\">country_year_fe_MY2020</td><td>2.848<sup>***</sup></td><td>1.621<sup>***</sup></td><td>2.829<sup>***</sup></td><td>2.677<sup>***</sup></td><td>2.681<sup>***</sup></td><td>1.717<sup>***</sup></td><td>1.703<sup>***</sup></td></tr><tr><td style=\"text-align:left\"></td><td>(0.142)</td><td>(0.204)</td><td>(0.143)</td><td>(0.159)</td><td>(0.139)</td><td>(0.210)</td><td>(0.211)</td></tr><tr><td style=\"text-align:left\">country_year_fe_MY2021</td><td>2.583<sup>***</sup></td><td>1.279<sup>***</sup></td><td>2.558<sup>***</sup></td><td>2.395<sup>***</sup></td><td>2.477<sup>***</sup></td><td>1.346<sup>***</sup></td><td>1.320<sup>***</sup></td></tr><tr><td style=\"text-align:left\"></td><td>(0.241)</td><td>(0.287)</td><td>(0.240)</td><td>(0.263)</td><td>(0.207)</td><td>(0.297)</td><td>(0.297)</td></tr><tr><td style=\"text-align:left\">country_year_fe_NI2017</td><td>1.848<sup>***</sup></td><td>0.621<sup>**</sup></td><td></td><td>2.087<sup>***</sup></td><td>1.675<sup>***</sup></td><td>0.834<sup>***</sup></td><td></td></tr><tr><td style=\"text-align:left\"></td><td>(0.246)</td><td>(0.286)</td><td></td><td>(0.110)</td><td>(0.177)</td><td>(0.193)</td><td></td></tr><tr><td style=\"text-align:left\">country_year_fe_NI2018</td><td>2.213<sup>***</sup></td><td>0.876<sup>***</sup></td><td></td><td>2.071<sup>***</sup></td><td>0.745<sup>***</sup></td><td>0.853<sup>***</sup></td><td></td></tr><tr><td style=\"text-align:left\"></td><td>(0.206)</td><td>(0.255)</td><td></td><td>(0.214)</td><td>(0.218)</td><td>(0.262)</td><td></td></tr><tr><td style=\"text-align:left\">country_year_fe_NI2019</td><td>2.121<sup>***</sup></td><td>0.852<sup>***</sup></td><td></td><td>1.985<sup>***</sup></td><td>2.007<sup>***</sup></td><td>0.841<sup>***</sup></td><td></td></tr><tr><td style=\"text-align:left\"></td><td>(0.084)</td><td>(0.172)</td><td></td><td>(0.102)</td><td>(0.101)</td><td>(0.183)</td><td></td></tr><tr><td style=\"text-align:left\">country_year_fe_NI2020</td><td>2.387<sup>***</sup></td><td>1.158<sup>***</sup></td><td></td><td></td><td>2.190<sup>***</sup></td><td></td><td></td></tr><tr><td style=\"text-align:left\"></td><td>(0.155)</td><td>(0.215)</td><td></td><td></td><td>(0.160)</td><td></td><td></td></tr><tr><td style=\"text-align:left\">country_year_fe_NI2021</td><td>2.194<sup>***</sup></td><td>0.881<sup>***</sup></td><td></td><td>2.006<sup>***</sup></td><td>2.071<sup>***</sup></td><td>0.831<sup>***</sup></td><td></td></tr><tr><td style=\"text-align:left\"></td><td>(0.234)</td><td>(0.282)</td><td></td><td>(0.253)</td><td>(0.202)</td><td>(0.293)</td><td></td></tr><tr><td style=\"text-align:left\">country_year_fe_NL2017</td><td>1.805<sup>***</sup></td><td>0.581<sup>**</sup></td><td>2.046<sup>***</sup></td><td>1.961<sup>***</sup></td><td>1.590<sup>***</sup></td><td>0.820<sup>***</sup></td><td>0.763<sup>***</sup></td></tr><tr><td style=\"text-align:left\"></td><td>(0.243)</td><td>(0.282)</td><td>(0.098)</td><td>(0.100)</td><td>(0.180)</td><td>(0.181)</td><td>(0.187)</td></tr><tr><td style=\"text-align:left\">country_year_fe_NL2018</td><td>3.307<sup>***</sup></td><td>2.040<sup>***</sup></td><td>3.281<sup>***</sup></td><td>3.079<sup>***</sup></td><td>1.779<sup>***</sup></td><td>2.044<sup>***</sup></td><td>1.995<sup>***</sup></td></tr><tr><td style=\"text-align:left\"></td><td>(0.085)</td><td>(0.169)</td><td>(0.084)</td><td>(0.112)</td><td>(0.120)</td><td>(0.181)</td><td>(0.183)</td></tr><tr><td style=\"text-align:left\">country_year_fe_NL2019</td><td>2.126<sup>***</sup></td><td>0.871<sup>***</sup></td><td>3.204<sup>***</sup></td><td>1.934<sup>***</sup></td><td>1.984<sup>***</sup></td><td>0.897<sup>***</sup></td><td>1.890<sup>***</sup></td></tr><tr><td style=\"text-align:left\"></td><td>(0.119)</td><td>(0.188)</td><td>(0.108)</td><td>(0.139)</td><td>(0.118)</td><td>(0.200)</td><td>(0.197)</td></tr><tr><td style=\"text-align:left\">country_year_fe_NL2020</td><td>2.647<sup>***</sup></td><td>1.413<sup>***</sup></td><td>2.625<sup>***</sup></td><td>2.422<sup>***</sup></td><td>2.473<sup>***</sup></td><td>1.413<sup>***</sup></td><td>1.370<sup>***</sup></td></tr><tr><td style=\"text-align:left\"></td><td>(0.115)</td><td>(0.184)</td><td>(0.111)</td><td>(0.132)</td><td>(0.107)</td><td>(0.192)</td><td>(0.193)</td></tr><tr><td style=\"text-align:left\">country_year_fe_NL2021</td><td>2.148<sup>***</sup></td><td>0.907<sup>***</sup></td><td>2.122<sup>***</sup></td><td>1.920<sup>***</sup></td><td>1.978<sup>***</sup></td><td>0.907<sup>***</sup></td><td>0.863<sup>***</sup></td></tr><tr><td style=\"text-align:left\"></td><td>(0.229)</td><td>(0.272)</td><td>(0.228)</td><td>(0.246)</td><td>(0.199)</td><td>(0.279)</td><td>(0.280)</td></tr><tr><td style=\"text-align:left\">country_year_fe_NO2017</td><td>2.006<sup>***</sup></td><td>0.732<sup>***</sup></td><td>2.246<sup>***</sup></td><td>2.187<sup>***</sup></td><td>1.820<sup>***</sup></td><td>0.962<sup>***</sup></td><td>0.900<sup>***</sup></td></tr><tr><td style=\"text-align:left\"></td><td>(0.234)</td><td>(0.279)</td><td>(0.073)</td><td>(0.075)</td><td>(0.161)</td><td>(0.177)</td><td>(0.184)</td></tr><tr><td style=\"text-align:left\">country_year_fe_NO2018</td><td>3.412<sup>***</sup></td><td>2.043<sup>***</sup></td><td>3.382<sup>***</sup></td><td>3.215<sup>***</sup></td><td>1.913<sup>***</sup></td><td>2.037<sup>***</sup></td><td>1.980<sup>***</sup></td></tr><tr><td style=\"text-align:left\"></td><td>(0.081)</td><td>(0.176)</td><td>(0.081)</td><td>(0.104)</td><td>(0.109)</td><td>(0.187)</td><td>(0.190)</td></tr><tr><td style=\"text-align:left\">country_year_fe_NO2019</td><td>2.245<sup>***</sup></td><td>0.970<sup>***</sup></td><td>3.318<sup>***</sup></td><td>2.078<sup>***</sup></td><td>2.113<sup>***</sup></td><td>0.988<sup>***</sup></td><td>1.969<sup>***</sup></td></tr><tr><td style=\"text-align:left\"></td><td>(0.101)</td><td>(0.183)</td><td>(0.087)</td><td>(0.120)</td><td>(0.105)</td><td>(0.196)</td><td>(0.193)</td></tr><tr><td style=\"text-align:left\">country_year_fe_NO2020</td><td>2.543<sup>***</sup></td><td>1.273<sup>***</sup></td><td>2.521<sup>***</sup></td><td>2.395<sup>***</sup></td><td>2.401<sup>***</sup></td><td>1.312<sup>***</sup></td><td>1.262<sup>***</sup></td></tr><tr><td style=\"text-align:left\"></td><td>(0.134)</td><td>(0.201)</td><td>(0.130)</td><td>(0.141)</td><td>(0.123)</td><td>(0.207)</td><td>(0.207)</td></tr><tr><td style=\"text-align:left\">country_year_fe_NO2021</td><td>2.249<sup>***</sup></td><td>0.950<sup>***</sup></td><td>2.213<sup>***</sup></td><td>2.055<sup>***</sup></td><td>2.160<sup>***</sup></td><td>0.954<sup>***</sup></td><td>0.895<sup>***</sup></td></tr><tr><td style=\"text-align:left\"></td><td>(0.250)</td><td>(0.295)</td><td>(0.248)</td><td>(0.269)</td><td>(0.217)</td><td>(0.307)</td><td>(0.307)</td></tr><tr><td style=\"text-align:left\">country_year_fe_NZ2017</td><td>2.236<sup>***</sup></td><td>0.836<sup>***</sup></td><td>2.437<sup>***</sup></td><td>2.371<sup>***</sup></td><td>1.983<sup>***</sup></td><td>1.073<sup>***</sup></td><td>0.977<sup>***</sup></td></tr><tr><td style=\"text-align:left\"></td><td>(0.242)</td><td>(0.292)</td><td>(0.096)</td><td>(0.100)</td><td>(0.172)</td><td>(0.199)</td><td>(0.206)</td></tr><tr><td style=\"text-align:left\">country_year_fe_NZ2018</td><td>3.381<sup>***</sup></td><td>1.913<sup>***</sup></td><td>3.311<sup>***</sup></td><td>3.140<sup>***</sup></td><td>1.834<sup>***</sup></td><td>1.916<sup>***</sup></td><td>1.820<sup>***</sup></td></tr><tr><td style=\"text-align:left\"></td><td>(0.135)</td><td>(0.216)</td><td>(0.134)</td><td>(0.156)</td><td>(0.145)</td><td>(0.226)</td><td>(0.229)</td></tr><tr><td style=\"text-align:left\">country_year_fe_NZ2019</td><td>2.421<sup>***</sup></td><td>1.002<sup>***</sup></td><td>3.454<sup>***</sup></td><td>2.210<sup>***</sup></td><td>2.229<sup>***</sup></td><td>1.026<sup>***</sup></td><td>1.972<sup>***</sup></td></tr><tr><td style=\"text-align:left\"></td><td>(0.120)</td><td>(0.205)</td><td>(0.111)</td><td>(0.142)</td><td>(0.119)</td><td>(0.218)</td><td>(0.216)</td></tr><tr><td style=\"text-align:left\">country_year_fe_NZ2020</td><td>2.798<sup>***</sup></td><td>1.395<sup>***</sup></td><td>2.748<sup>***</sup></td><td>2.581<sup>***</sup></td><td>2.559<sup>***</sup></td><td>1.407<sup>***</sup></td><td>1.319<sup>***</sup></td></tr><tr><td style=\"text-align:left\"></td><td>(0.130)</td><td>(0.206)</td><td>(0.132)</td><td>(0.146)</td><td>(0.129)</td><td>(0.216)</td><td>(0.219)</td></tr><tr><td style=\"text-align:left\">country_year_fe_NZ2021</td><td>2.434<sup>***</sup></td><td>0.969<sup>***</sup></td><td>2.361<sup>***</sup></td><td>2.229<sup>***</sup></td><td>2.337<sup>***</sup></td><td>0.978<sup>***</sup></td><td>0.885<sup>***</sup></td></tr><tr><td style=\"text-align:left\"></td><td>(0.239)</td><td>(0.293)</td><td>(0.238)</td><td>(0.257)</td><td>(0.219)</td><td>(0.306)</td><td>(0.307)</td></tr><tr><td style=\"text-align:left\">country_year_fe_PA2017</td><td>2.140<sup>***</sup></td><td>0.908<sup>***</sup></td><td>2.398<sup>***</sup></td><td>2.342<sup>***</sup></td><td>1.965<sup>***</sup></td><td>1.130<sup>***</sup></td><td>1.094<sup>***</sup></td></tr><tr><td style=\"text-align:left\"></td><td>(0.236)</td><td>(0.277)</td><td>(0.077)</td><td>(0.080)</td><td>(0.163)</td><td>(0.176)</td><td>(0.181)</td></tr><tr><td style=\"text-align:left\">country_year_fe_PA2018</td><td>3.350<sup>***</sup></td><td>2.029<sup>***</sup></td><td>3.347<sup>***</sup></td><td></td><td>1.878<sup>***</sup></td><td></td><td></td></tr><tr><td style=\"text-align:left\"></td><td>(0.087)</td><td>(0.176)</td><td>(0.090)</td><td></td><td>(0.109)</td><td></td><td></td></tr><tr><td style=\"text-align:left\">country_year_fe_PA2019</td><td>2.237<sup>***</sup></td><td>0.973<sup>***</sup></td><td>3.332<sup>***</sup></td><td></td><td>2.113<sup>***</sup></td><td></td><td></td></tr><tr><td style=\"text-align:left\"></td><td>(0.103)</td><td>(0.181)</td><td>(0.105)</td><td></td><td>(0.118)</td><td></td><td></td></tr><tr><td style=\"text-align:left\">country_year_fe_PA2020</td><td>2.386<sup>***</sup></td><td>1.193<sup>***</sup></td><td>2.370<sup>***</sup></td><td></td><td>2.195<sup>***</sup></td><td></td><td></td></tr><tr><td style=\"text-align:left\"></td><td>(0.138)</td><td>(0.194)</td><td>(0.146)</td><td></td><td>(0.138)</td><td></td><td></td></tr><tr><td style=\"text-align:left\">country_year_fe_PA2021</td><td>2.166<sup>***</sup></td><td>0.852<sup>***</sup></td><td>2.153<sup>***</sup></td><td>1.883<sup>***</sup></td><td>2.047<sup>***</sup></td><td>0.768<sup>**</sup></td><td>0.728<sup>**</sup></td></tr><tr><td style=\"text-align:left\"></td><td>(0.249)</td><td>(0.294)</td><td>(0.247)</td><td>(0.292)</td><td>(0.214)</td><td>(0.324)</td><td>(0.324)</td></tr><tr><td style=\"text-align:left\">country_year_fe_PE2017</td><td>2.200<sup>***</sup></td><td>0.963<sup>***</sup></td><td>2.450<sup>***</sup></td><td>2.365<sup>***</sup></td><td>2.003<sup>***</sup></td><td>1.196<sup>***</sup></td><td>1.155<sup>***</sup></td></tr><tr><td style=\"text-align:left\"></td><td>(0.242)</td><td>(0.280)</td><td>(0.095)</td><td>(0.100)</td><td>(0.175)</td><td>(0.179)</td><td>(0.183)</td></tr><tr><td style=\"text-align:left\">country_year_fe_PE2018</td><td>3.323<sup>***</sup></td><td>2.004<sup>***</sup></td><td>3.323<sup>***</sup></td><td>3.105<sup>***</sup></td><td>1.847<sup>***</sup></td><td>1.997<sup>***</sup></td><td>1.980<sup>***</sup></td></tr><tr><td style=\"text-align:left\"></td><td>(0.100)</td><td>(0.182)</td><td>(0.105)</td><td>(0.122)</td><td>(0.122)</td><td>(0.192)</td><td>(0.197)</td></tr><tr><td style=\"text-align:left\">country_year_fe_PE2019</td><td>2.215<sup>***</sup></td><td>0.951<sup>***</sup></td><td>3.312<sup>***</sup></td><td>2.015<sup>***</sup></td><td>2.083<sup>***</sup></td><td>0.959<sup>***</sup></td><td>1.979<sup>***</sup></td></tr><tr><td style=\"text-align:left\"></td><td>(0.172)</td><td>(0.221)</td><td>(0.176)</td><td>(0.182)</td><td>(0.185)</td><td>(0.229)</td><td>(0.235)</td></tr><tr><td style=\"text-align:left\">country_year_fe_PE2020</td><td>2.604<sup>***</sup></td><td>1.391<sup>***</sup></td><td>2.593<sup>***</sup></td><td>2.434<sup>***</sup></td><td>2.405<sup>***</sup></td><td>1.428<sup>***</sup></td><td>1.405<sup>***</sup></td></tr><tr><td style=\"text-align:left\"></td><td>(0.120)</td><td>(0.188)</td><td>(0.124)</td><td>(0.142)</td><td>(0.120)</td><td>(0.199)</td><td>(0.201)</td></tr><tr><td style=\"text-align:left\">country_year_fe_PE2021</td><td>2.148<sup>***</sup></td><td>0.836<sup>***</sup></td><td>2.118<sup>***</sup></td><td>1.854<sup>***</sup></td><td>2.016<sup>***</sup></td><td>0.752<sup>**</sup></td><td>0.702<sup>**</sup></td></tr><tr><td style=\"text-align:left\"></td><td>(0.247)</td><td>(0.293)</td><td>(0.250)</td><td>(0.273)</td><td>(0.216)</td><td>(0.308)</td><td>(0.313)</td></tr><tr><td style=\"text-align:left\">country_year_fe_PH2017</td><td>2.067<sup>***</sup></td><td>0.840<sup>***</sup></td><td>2.337<sup>***</sup></td><td>2.216<sup>***</sup></td><td>1.850<sup>***</sup></td><td>1.077<sup>***</sup></td><td>1.068<sup>***</sup></td></tr><tr><td style=\"text-align:left\"></td><td>(0.273)</td><td>(0.312)</td><td>(0.160)</td><td>(0.163)</td><td>(0.212)</td><td>(0.225)</td><td>(0.230)</td></tr><tr><td style=\"text-align:left\">country_year_fe_PH2018</td><td>3.496<sup>***</sup></td><td>2.199<sup>***</sup></td><td>3.495<sup>***</sup></td><td>3.265<sup>***</sup></td><td>1.974<sup>***</sup></td><td>2.202<sup>***</sup></td><td>2.199<sup>***</sup></td></tr><tr><td style=\"text-align:left\"></td><td>(0.117)</td><td>(0.193)</td><td>(0.116)</td><td>(0.141)</td><td>(0.134)</td><td>(0.203)</td><td>(0.203)</td></tr><tr><td style=\"text-align:left\">country_year_fe_PH2019</td><td>2.497<sup>***</sup></td><td>1.239<sup>***</sup></td><td>3.600<sup>***</sup></td><td>2.295<sup>***</sup></td><td>2.299<sup>***</sup></td><td>1.263<sup>***</sup></td><td>2.298<sup>***</sup></td></tr><tr><td style=\"text-align:left\"></td><td>(0.134)</td><td>(0.197)</td><td>(0.125)</td><td>(0.154)</td><td>(0.137)</td><td>(0.209)</td><td>(0.204)</td></tr><tr><td style=\"text-align:left\">country_year_fe_PH2020</td><td>2.898<sup>***</sup></td><td>1.655<sup>***</sup></td><td>2.900<sup>***</sup></td><td>2.679<sup>***</sup></td><td>2.646<sup>***</sup></td><td>1.665<sup>***</sup></td><td>1.664<sup>***</sup></td></tr><tr><td style=\"text-align:left\"></td><td>(0.135)</td><td>(0.199)</td><td>(0.133)</td><td>(0.154)</td><td>(0.133)</td><td>(0.208)</td><td>(0.208)</td></tr><tr><td style=\"text-align:left\">country_year_fe_PH2021</td><td>2.503<sup>***</sup></td><td>1.203<sup>***</sup></td><td>2.497<sup>***</sup></td><td>2.337<sup>***</sup></td><td>2.313<sup>***</sup></td><td>1.262<sup>***</sup></td><td>1.249<sup>***</sup></td></tr><tr><td style=\"text-align:left\"></td><td>(0.248)</td><td>(0.295)</td><td>(0.248)</td><td>(0.268)</td><td>(0.214)</td><td>(0.305)</td><td>(0.305)</td></tr><tr><td style=\"text-align:left\">country_year_fe_PL2017</td><td>1.927<sup>***</sup></td><td>0.683<sup>**</sup></td><td>2.188<sup>***</sup></td><td>2.090<sup>***</sup></td><td>1.756<sup>***</sup></td><td>0.917<sup>***</sup></td><td>0.887<sup>***</sup></td></tr><tr><td style=\"text-align:left\"></td><td>(0.241)</td><td>(0.285)</td><td>(0.094)</td><td>(0.097)</td><td>(0.173)</td><td>(0.186)</td><td>(0.190)</td></tr><tr><td style=\"text-align:left\">country_year_fe_PL2018</td><td>3.404<sup>***</sup></td><td>2.136<sup>***</sup></td><td>3.399<sup>***</sup></td><td>3.191<sup>***</sup></td><td>1.929<sup>***</sup></td><td>2.136<sup>***</sup></td><td>2.114<sup>***</sup></td></tr><tr><td style=\"text-align:left\"></td><td>(0.098)</td><td>(0.184)</td><td>(0.099)</td><td>(0.122)</td><td>(0.118)</td><td>(0.195)</td><td>(0.197)</td></tr><tr><td style=\"text-align:left\">country_year_fe_PL2019</td><td>2.077<sup>***</sup></td><td>0.783<sup>***</sup></td><td>3.163<sup>***</sup></td><td>1.889<sup>***</sup></td><td>1.952<sup>***</sup></td><td>0.807<sup>***</sup></td><td>1.813<sup>***</sup></td></tr><tr><td style=\"text-align:left\"></td><td>(0.120)</td><td>(0.194)</td><td>(0.114)</td><td>(0.140)</td><td>(0.126)</td><td>(0.205)</td><td>(0.204)</td></tr><tr><td style=\"text-align:left\">country_year_fe_PL2020</td><td>2.431<sup>***</sup></td><td>1.192<sup>***</sup></td><td>2.416<sup>***</sup></td><td>2.234<sup>***</sup></td><td>2.252<sup>***</sup></td><td>1.209<sup>***</sup></td><td>1.174<sup>***</sup></td></tr><tr><td style=\"text-align:left\"></td><td>(0.127)</td><td>(0.196)</td><td>(0.129)</td><td>(0.143)</td><td>(0.128)</td><td>(0.203)</td><td>(0.206)</td></tr><tr><td style=\"text-align:left\">country_year_fe_PL2021</td><td>2.136<sup>***</sup></td><td>0.877<sup>***</sup></td><td>2.105<sup>***</sup></td><td>1.907<sup>***</sup></td><td>2.024<sup>***</sup></td><td>0.867<sup>***</sup></td><td>0.819<sup>***</sup></td></tr><tr><td style=\"text-align:left\"></td><td>(0.234)</td><td>(0.282)</td><td>(0.233)</td><td>(0.255)</td><td>(0.201)</td><td>(0.294)</td><td>(0.292)</td></tr><tr><td style=\"text-align:left\">country_year_fe_PT2017</td><td>2.060<sup>***</sup></td><td>0.755<sup>***</sup></td><td>2.334<sup>***</sup></td><td>2.242<sup>***</sup></td><td>1.967<sup>***</sup></td><td>0.984<sup>***</sup></td><td>0.958<sup>***</sup></td></tr><tr><td style=\"text-align:left\"></td><td>(0.235)</td><td>(0.282)</td><td>(0.074)</td><td>(0.078)</td><td>(0.170)</td><td>(0.184)</td><td>(0.188)</td></tr><tr><td style=\"text-align:left\">country_year_fe_PT2018</td><td>3.387<sup>***</sup></td><td>1.986<sup>***</sup></td><td>3.399<sup>***</sup></td><td>3.194<sup>***</sup></td><td>1.956<sup>***</sup></td><td>1.978<sup>***</sup></td><td>1.966<sup>***</sup></td></tr><tr><td style=\"text-align:left\"></td><td>(0.082)</td><td>(0.181)</td><td>(0.085)</td><td>(0.103)</td><td>(0.108)</td><td>(0.192)</td><td>(0.195)</td></tr><tr><td style=\"text-align:left\">country_year_fe_PT2019</td><td>2.218<sup>***</sup></td><td>0.889<sup>***</sup></td><td>3.313<sup>***</sup></td><td>2.049<sup>***</sup></td><td>2.078<sup>***</sup></td><td>0.903<sup>***</sup></td><td>1.912<sup>***</sup></td></tr><tr><td style=\"text-align:left\"></td><td>(0.148)</td><td>(0.219)</td><td>(0.136)</td><td>(0.159)</td><td>(0.148)</td><td>(0.229)</td><td>(0.224)</td></tr><tr><td style=\"text-align:left\">country_year_fe_PT2020</td><td>2.692<sup>***</sup></td><td>1.390<sup>***</sup></td><td>2.690<sup>***</sup></td><td>2.514<sup>***</sup></td><td>2.496<sup>***</sup></td><td>1.390<sup>***</sup></td><td>1.369<sup>***</sup></td></tr><tr><td style=\"text-align:left\"></td><td>(0.137)</td><td>(0.213)</td><td>(0.135)</td><td>(0.148)</td><td>(0.134)</td><td>(0.217)</td><td>(0.219)</td></tr><tr><td style=\"text-align:left\">country_year_fe_PT2021</td><td>2.112<sup>***</sup></td><td>0.797<sup>**</sup></td><td>2.066<sup>***</sup></td><td>1.861<sup>***</sup></td><td>2.051<sup>***</sup></td><td>0.743<sup>**</sup></td><td>0.681<sup>**</sup></td></tr><tr><td style=\"text-align:left\"></td><td>(0.271)</td><td>(0.314)</td><td>(0.278)</td><td>(0.300)</td><td>(0.239)</td><td>(0.337)</td><td>(0.344)</td></tr><tr><td style=\"text-align:left\">country_year_fe_PY2017</td><td>2.112<sup>***</sup></td><td>0.855<sup>***</sup></td><td></td><td>2.323<sup>***</sup></td><td>1.930<sup>***</sup></td><td>1.075<sup>***</sup></td><td></td></tr><tr><td style=\"text-align:left\"></td><td>(0.242)</td><td>(0.283)</td><td></td><td>(0.097)</td><td>(0.172)</td><td>(0.186)</td><td></td></tr><tr><td style=\"text-align:left\">country_year_fe_PY2018</td><td>3.359<sup>***</sup></td><td>1.983<sup>***</sup></td><td></td><td>3.183<sup>***</sup></td><td>1.880<sup>***</sup></td><td>1.963<sup>***</sup></td><td></td></tr><tr><td style=\"text-align:left\"></td><td>(0.095)</td><td>(0.183)</td><td></td><td>(0.111)</td><td>(0.117)</td><td>(0.194)</td><td></td></tr><tr><td style=\"text-align:left\">country_year_fe_PY2019</td><td>2.325<sup>***</sup></td><td>0.997<sup>***</sup></td><td></td><td>2.160<sup>***</sup></td><td>2.174<sup>***</sup></td><td>0.995<sup>***</sup></td><td></td></tr><tr><td style=\"text-align:left\"></td><td>(0.066)</td><td>(0.170)</td><td></td><td>(0.087)</td><td>(0.114)</td><td>(0.181)</td><td></td></tr><tr><td style=\"text-align:left\">country_year_fe_PY2020</td><td>2.524<sup>***</sup></td><td>1.229<sup>***</sup></td><td></td><td></td><td>2.340<sup>***</sup></td><td></td><td></td></tr><tr><td style=\"text-align:left\"></td><td>(0.130)</td><td>(0.204)</td><td></td><td></td><td>(0.130)</td><td></td><td></td></tr><tr><td style=\"text-align:left\">country_year_fe_PY2021</td><td>2.228<sup>***</sup></td><td>0.888<sup>***</sup></td><td></td><td>1.972<sup>***</sup></td><td>2.109<sup>***</sup></td><td>0.788<sup>**</sup></td><td></td></tr><tr><td style=\"text-align:left\"></td><td>(0.251)</td><td>(0.295)</td><td></td><td>(0.277)</td><td>(0.219)</td><td>(0.315)</td><td></td></tr><tr><td style=\"text-align:left\">country_year_fe_RO2018</td><td>3.297<sup>***</sup></td><td>1.909<sup>***</sup></td><td>3.308<sup>***</sup></td><td>3.107<sup>***</sup></td><td>1.853<sup>***</sup></td><td>1.899<sup>***</sup></td><td>1.890<sup>***</sup></td></tr><tr><td style=\"text-align:left\"></td><td>(0.107)</td><td>(0.199)</td><td>(0.111)</td><td>(0.126)</td><td>(0.125)</td><td>(0.208)</td><td>(0.212)</td></tr><tr><td style=\"text-align:left\">country_year_fe_RO2019</td><td>2.227<sup>***</sup></td><td>0.908<sup>***</sup></td><td>3.322<sup>***</sup></td><td>2.067<sup>***</sup></td><td>2.088<sup>***</sup></td><td>0.922<sup>***</sup></td><td>1.940<sup>***</sup></td></tr><tr><td style=\"text-align:left\"></td><td>(0.102)</td><td>(0.194)</td><td>(0.095)</td><td>(0.122)</td><td>(0.109)</td><td>(0.205)</td><td>(0.204)</td></tr><tr><td style=\"text-align:left\">country_year_fe_RO2020</td><td>2.406<sup>***</sup></td><td>1.071<sup>***</sup></td><td>2.391<sup>***</sup></td><td>2.229<sup>***</sup></td><td>2.219<sup>***</sup></td><td>1.066<sup>***</sup></td><td>1.045<sup>***</sup></td></tr><tr><td style=\"text-align:left\"></td><td>(0.147)</td><td>(0.228)</td><td>(0.150)</td><td>(0.163)</td><td>(0.149)</td><td>(0.237)</td><td>(0.240)</td></tr><tr><td style=\"text-align:left\">country_year_fe_RO2021</td><td>2.260<sup>***</sup></td><td>0.873<sup>***</sup></td><td>2.238<sup>***</sup></td><td>2.052<sup>***</sup></td><td>2.156<sup>***</sup></td><td>0.831<sup>***</sup></td><td>0.795<sup>***</sup></td></tr><tr><td style=\"text-align:left\"></td><td>(0.239)</td><td>(0.293)</td><td>(0.238)</td><td>(0.258)</td><td>(0.206)</td><td>(0.305)</td><td>(0.305)</td></tr><tr><td style=\"text-align:left\">country_year_fe_RU2020</td><td>2.494<sup>***</sup></td><td></td><td>2.490<sup>***</sup></td><td>2.282<sup>***</sup></td><td>2.289<sup>***</sup></td><td></td><td></td></tr><tr><td style=\"text-align:left\"></td><td>(0.182)</td><td></td><td>(0.179)</td><td>(0.198)</td><td>(0.159)</td><td></td><td></td></tr><tr><td style=\"text-align:left\">country_year_fe_RU2021</td><td>2.169<sup>***</sup></td><td></td><td>2.154<sup>***</sup></td><td>1.936<sup>***</sup></td><td>2.096<sup>***</sup></td><td></td><td></td></tr><tr><td style=\"text-align:left\"></td><td>(0.281)</td><td></td><td>(0.278)</td><td>(0.326)</td><td>(0.239)</td><td></td><td></td></tr><tr><td style=\"text-align:left\">country_year_fe_SA2019</td><td>2.346<sup>***</sup></td><td>1.050<sup>***</sup></td><td>3.351<sup>***</sup></td><td>2.140<sup>***</sup></td><td>2.245<sup>***</sup></td><td>1.074<sup>***</sup></td><td>1.990<sup>***</sup></td></tr><tr><td style=\"text-align:left\"></td><td>(0.153)</td><td>(0.216)</td><td>(0.143)</td><td>(0.169)</td><td>(0.158)</td><td>(0.227)</td><td>(0.221)</td></tr><tr><td style=\"text-align:left\">country_year_fe_SA2020</td><td>2.791<sup>***</sup></td><td>1.555<sup>***</sup></td><td>2.710<sup>***</sup></td><td></td><td>2.600<sup>***</sup></td><td></td><td></td></tr><tr><td style=\"text-align:left\"></td><td>(0.136)</td><td>(0.198)</td><td>(0.135)</td><td></td><td>(0.136)</td><td></td><td></td></tr><tr><td style=\"text-align:left\">country_year_fe_SA2021</td><td>2.374<sup>***</sup></td><td>1.113<sup>***</sup></td><td>2.268<sup>***</sup></td><td>2.146<sup>***</sup></td><td>2.226<sup>***</sup></td><td>1.125<sup>***</sup></td><td>1.001<sup>***</sup></td></tr><tr><td style=\"text-align:left\"></td><td>(0.246)</td><td>(0.288)</td><td>(0.242)</td><td>(0.267)</td><td>(0.213)</td><td>(0.300)</td><td>(0.299)</td></tr><tr><td style=\"text-align:left\">country_year_fe_SE2017</td><td>2.056<sup>***</sup></td><td>0.777<sup>***</sup></td><td>2.305<sup>***</sup></td><td>2.221<sup>***</sup></td><td>1.821<sup>***</sup></td><td>1.011<sup>***</sup></td><td>0.964<sup>***</sup></td></tr><tr><td style=\"text-align:left\"></td><td>(0.244)</td><td>(0.285)</td><td>(0.102)</td><td>(0.102)</td><td>(0.180)</td><td>(0.187)</td><td>(0.193)</td></tr><tr><td style=\"text-align:left\">country_year_fe_SE2018</td><td>3.431<sup>***</sup></td><td>2.045<sup>***</sup></td><td>3.407<sup>***</sup></td><td>3.219<sup>***</sup></td><td>1.929<sup>***</sup></td><td>2.044<sup>***</sup></td><td>1.994<sup>***</sup></td></tr><tr><td style=\"text-align:left\"></td><td>(0.106)</td><td>(0.193)</td><td>(0.108)</td><td>(0.130)</td><td>(0.121)</td><td>(0.203)</td><td>(0.207)</td></tr><tr><td style=\"text-align:left\">country_year_fe_SE2019</td><td>2.028<sup>***</sup></td><td>0.781<sup>***</sup></td><td>3.110<sup>***</sup></td><td>1.850<sup>***</sup></td><td>1.894<sup>***</sup></td><td>0.802<sup>***</sup></td><td>1.797<sup>***</sup></td></tr><tr><td style=\"text-align:left\"></td><td>(0.149)</td><td>(0.207)</td><td>(0.139)</td><td>(0.164)</td><td>(0.144)</td><td>(0.219)</td><td>(0.215)</td></tr><tr><td style=\"text-align:left\">country_year_fe_SE2020</td><td>2.411<sup>***</sup></td><td>1.099<sup>***</sup></td><td>2.401<sup>***</sup></td><td>2.221<sup>***</sup></td><td>2.274<sup>***</sup></td><td>1.107<sup>***</sup></td><td>1.065<sup>***</sup></td></tr><tr><td style=\"text-align:left\"></td><td>(0.139)</td><td>(0.214)</td><td>(0.137)</td><td>(0.153)</td><td>(0.132)</td><td>(0.221)</td><td>(0.222)</td></tr><tr><td style=\"text-align:left\">country_year_fe_SE2021</td><td>2.008<sup>***</sup></td><td>0.762<sup>**</sup></td><td>1.989<sup>***</sup></td><td>1.772<sup>***</sup></td><td>1.941<sup>***</sup></td><td>0.746<sup>**</sup></td><td>0.710<sup>**</sup></td></tr><tr><td style=\"text-align:left\"></td><td>(0.269)</td><td>(0.307)</td><td>(0.268)</td><td>(0.298)</td><td>(0.234)</td><td>(0.323)</td><td>(0.323)</td></tr><tr><td style=\"text-align:left\">country_year_fe_SG2017</td><td>2.311<sup>***</sup></td><td>0.995<sup>***</sup></td><td>2.584<sup>***</sup></td><td>2.417<sup>***</sup></td><td>2.059<sup>***</sup></td><td>1.242<sup>***</sup></td><td>1.233<sup>***</sup></td></tr><tr><td style=\"text-align:left\"></td><td>(0.245)</td><td>(0.291)</td><td>(0.101)</td><td>(0.113)</td><td>(0.178)</td><td>(0.196)</td><td>(0.198)</td></tr><tr><td style=\"text-align:left\">country_year_fe_SG2018</td><td>3.634<sup>***</sup></td><td>2.242<sup>***</sup></td><td>3.631<sup>***</sup></td><td>3.364<sup>***</sup></td><td>2.040<sup>***</sup></td><td>2.253<sup>***</sup></td><td>2.245<sup>***</sup></td></tr><tr><td style=\"text-align:left\"></td><td>(0.116)</td><td>(0.202)</td><td>(0.112)</td><td>(0.147)</td><td>(0.137)</td><td>(0.214)</td><td>(0.213)</td></tr><tr><td style=\"text-align:left\">country_year_fe_SG2019</td><td>2.519<sup>***</sup></td><td>1.172<sup>***</sup></td><td>3.621<sup>***</sup></td><td>2.281<sup>***</sup></td><td>2.278<sup>***</sup></td><td>1.205<sup>***</sup></td><td>2.236<sup>***</sup></td></tr><tr><td style=\"text-align:left\"></td><td>(0.127)</td><td>(0.202)</td><td>(0.116)</td><td>(0.156)</td><td>(0.133)</td><td>(0.216)</td><td>(0.210)</td></tr><tr><td style=\"text-align:left\">country_year_fe_SG2020</td><td>2.773<sup>***</sup></td><td>1.455<sup>***</sup></td><td>2.772<sup>***</sup></td><td>2.491<sup>***</sup></td><td>2.511<sup>***</sup></td><td>1.436<sup>***</sup></td><td>1.434<sup>***</sup></td></tr><tr><td style=\"text-align:left\"></td><td>(0.152)</td><td>(0.224)</td><td>(0.149)</td><td>(0.180)</td><td>(0.150)</td><td>(0.238)</td><td>(0.236)</td></tr><tr><td style=\"text-align:left\">country_year_fe_SG2021</td><td>2.522<sup>***</sup></td><td>1.135<sup>***</sup></td><td>2.511<sup>***</sup></td><td>2.300<sup>***</sup></td><td>2.314<sup>***</sup></td><td>1.168<sup>***</sup></td><td>1.146<sup>***</sup></td></tr><tr><td style=\"text-align:left\"></td><td>(0.245)</td><td>(0.296)</td><td>(0.243)</td><td>(0.271)</td><td>(0.214)</td><td>(0.310)</td><td>(0.309)</td></tr><tr><td style=\"text-align:left\">country_year_fe_SK2017</td><td>2.032<sup>***</sup></td><td>0.830<sup>***</sup></td><td>2.328<sup>***</sup></td><td>2.250<sup>***</sup></td><td>1.884<sup>***</sup></td><td>1.051<sup>***</sup></td><td>1.059<sup>***</sup></td></tr><tr><td style=\"text-align:left\"></td><td>(0.237)</td><td>(0.278)</td><td>(0.082)</td><td>(0.084)</td><td>(0.170)</td><td>(0.176)</td><td>(0.181)</td></tr><tr><td style=\"text-align:left\">country_year_fe_SK2018</td><td>3.389<sup>***</sup></td><td>2.092<sup>***</sup></td><td>3.417<sup>***</sup></td><td>3.232<sup>***</sup></td><td>1.928<sup>***</sup></td><td>2.077<sup>***</sup></td><td>2.090<sup>***</sup></td></tr><tr><td style=\"text-align:left\"></td><td>(0.093)</td><td>(0.176)</td><td>(0.096)</td><td>(0.106)</td><td>(0.113)</td><td>(0.185)</td><td>(0.188)</td></tr><tr><td style=\"text-align:left\">country_year_fe_SK2019</td><td>2.302<sup>***</sup></td><td>1.052<sup>***</sup></td><td>3.424<sup>***</sup></td><td>2.169<sup>***</sup></td><td>2.160<sup>***</sup></td><td>1.060<sup>***</sup></td><td>2.103<sup>***</sup></td></tr><tr><td style=\"text-align:left\"></td><td>(0.109)</td><td>(0.179)</td><td>(0.102)</td><td>(0.121)</td><td>(0.110)</td><td>(0.189)</td><td>(0.187)</td></tr><tr><td style=\"text-align:left\">country_year_fe_SK2020</td><td>2.568<sup>***</sup></td><td>1.357<sup>***</sup></td><td>2.586<sup>***</sup></td><td>2.406<sup>***</sup></td><td>2.387<sup>***</sup></td><td>1.354<sup>***</sup></td><td>1.361<sup>***</sup></td></tr><tr><td style=\"text-align:left\"></td><td>(0.117)</td><td>(0.187)</td><td>(0.116)</td><td>(0.130)</td><td>(0.112)</td><td>(0.193)</td><td>(0.195)</td></tr><tr><td style=\"text-align:left\">country_year_fe_SK2021</td><td>2.261<sup>***</sup></td><td>0.971<sup>***</sup></td><td>2.269<sup>***</sup></td><td></td><td>2.167<sup>***</sup></td><td></td><td></td></tr><tr><td style=\"text-align:left\"></td><td>(0.230)</td><td>(0.276)</td><td>(0.229)</td><td></td><td>(0.194)</td><td></td><td></td></tr><tr><td style=\"text-align:left\">country_year_fe_SV2017</td><td>2.144<sup>***</sup></td><td>0.912<sup>***</sup></td><td>2.399<sup>***</sup></td><td>2.374<sup>***</sup></td><td>1.969<sup>***</sup></td><td>1.130<sup>***</sup></td><td>1.089<sup>***</sup></td></tr><tr><td style=\"text-align:left\"></td><td>(0.237)</td><td>(0.281)</td><td>(0.079)</td><td>(0.083)</td><td>(0.164)</td><td>(0.184)</td><td>(0.189)</td></tr><tr><td style=\"text-align:left\">country_year_fe_SV2018</td><td>3.328<sup>***</sup></td><td>1.999<sup>***</sup></td><td>3.331<sup>***</sup></td><td>3.171<sup>***</sup></td><td>1.858<sup>***</sup></td><td>1.977<sup>***</sup></td><td>1.957<sup>***</sup></td></tr><tr><td style=\"text-align:left\"></td><td>(0.084)</td><td>(0.179)</td><td>(0.088)</td><td>(0.099)</td><td>(0.108)</td><td>(0.189)</td><td>(0.194)</td></tr><tr><td style=\"text-align:left\">country_year_fe_SV2019</td><td>2.223<sup>***</sup></td><td>0.924<sup>***</sup></td><td>3.324<sup>***</sup></td><td>2.073<sup>***</sup></td><td>2.079<sup>***</sup></td><td>0.918<sup>***</sup></td><td>1.931<sup>***</sup></td></tr><tr><td style=\"text-align:left\"></td><td>(0.094)</td><td>(0.183)</td><td>(0.098)</td><td>(0.107)</td><td>(0.113)</td><td>(0.192)</td><td>(0.200)</td></tr><tr><td style=\"text-align:left\">country_year_fe_SV2020</td><td>2.414<sup>***</sup></td><td>1.170<sup>***</sup></td><td>2.412<sup>***</sup></td><td>2.309<sup>***</sup></td><td>2.206<sup>***</sup></td><td>1.193<sup>***</sup></td><td>1.171<sup>***</sup></td></tr><tr><td style=\"text-align:left\"></td><td>(0.134)</td><td>(0.199)</td><td>(0.139)</td><td>(0.146)</td><td>(0.138)</td><td>(0.210)</td><td>(0.212)</td></tr><tr><td style=\"text-align:left\">country_year_fe_SV2021</td><td>2.077<sup>***</sup></td><td>0.737<sup>**</sup></td><td>2.098<sup>***</sup></td><td>1.810<sup>***</sup></td><td>1.962<sup>***</sup></td><td>0.665<sup>**</sup></td><td>0.678<sup>**</sup></td></tr><tr><td style=\"text-align:left\"></td><td>(0.247)</td><td>(0.293)</td><td>(0.247)</td><td>(0.277)</td><td>(0.218)</td><td>(0.312)</td><td>(0.315)</td></tr><tr><td style=\"text-align:left\">country_year_fe_TH2017</td><td>2.114<sup>***</sup></td><td>0.872<sup>***</sup></td><td>2.358<sup>***</sup></td><td>2.237<sup>***</sup></td><td>1.926<sup>***</sup></td><td>1.112<sup>***</sup></td><td>1.074<sup>***</sup></td></tr><tr><td style=\"text-align:left\"></td><td>(0.245)</td><td>(0.284)</td><td>(0.103)</td><td>(0.111)</td><td>(0.176)</td><td>(0.184)</td><td>(0.188)</td></tr><tr><td style=\"text-align:left\">country_year_fe_TH2018</td><td>3.536<sup>***</sup></td><td>2.220<sup>***</sup></td><td>3.506<sup>***</sup></td><td>3.280<sup>***</sup></td><td>2.034<sup>***</sup></td><td>2.225<sup>***</sup></td><td>2.189<sup>***</sup></td></tr><tr><td style=\"text-align:left\"></td><td>(0.109)</td><td>(0.188)</td><td>(0.108)</td><td>(0.138)</td><td>(0.127)</td><td>(0.200)</td><td>(0.201)</td></tr><tr><td style=\"text-align:left\">country_year_fe_TH2019</td><td>2.634<sup>***</sup></td><td>1.367<sup>***</sup></td><td>3.709<sup>***</sup></td><td>2.402<sup>***</sup></td><td>2.475<sup>***</sup></td><td>1.392<sup>***</sup></td><td>2.396<sup>***</sup></td></tr><tr><td style=\"text-align:left\"></td><td>(0.171)</td><td>(0.224)</td><td>(0.164)</td><td>(0.194)</td><td>(0.172)</td><td>(0.236)</td><td>(0.232)</td></tr><tr><td style=\"text-align:left\">country_year_fe_TH2020</td><td>2.914<sup>***</sup></td><td>1.664<sup>***</sup></td><td>2.890<sup>***</sup></td><td>2.677<sup>***</sup></td><td>2.713<sup>***</sup></td><td>1.683<sup>***</sup></td><td>1.650<sup>***</sup></td></tr><tr><td style=\"text-align:left\"></td><td>(0.173)</td><td>(0.227)</td><td>(0.170)</td><td>(0.194)</td><td>(0.171)</td><td>(0.237)</td><td>(0.237)</td></tr><tr><td style=\"text-align:left\">country_year_fe_TH2021</td><td>2.456<sup>***</sup></td><td>1.151<sup>***</sup></td><td>2.418<sup>***</sup></td><td>2.286<sup>***</sup></td><td>2.317<sup>***</sup></td><td>1.225<sup>***</sup></td><td>1.177<sup>***</sup></td></tr><tr><td style=\"text-align:left\"></td><td>(0.273)</td><td>(0.310)</td><td>(0.274)</td><td>(0.316)</td><td>(0.243)</td><td>(0.339)</td><td>(0.342)</td></tr><tr><td style=\"text-align:left\">country_year_fe_TR2017</td><td>2.105<sup>***</sup></td><td>0.890<sup>***</sup></td><td>2.349<sup>***</sup></td><td>2.247<sup>***</sup></td><td>1.929<sup>***</sup></td><td>1.129<sup>***</sup></td><td>1.084<sup>***</sup></td></tr><tr><td style=\"text-align:left\"></td><td>(0.250)</td><td>(0.295)</td><td>(0.112)</td><td>(0.120)</td><td>(0.182)</td><td>(0.201)</td><td>(0.204)</td></tr><tr><td style=\"text-align:left\">country_year_fe_TR2018</td><td>3.372<sup>***</sup></td><td>2.095<sup>***</sup></td><td>3.346<sup>***</sup></td><td>3.137<sup>***</sup></td><td>1.885<sup>***</sup></td><td>2.099<sup>***</sup></td><td>2.058<sup>***</sup></td></tr><tr><td style=\"text-align:left\"></td><td>(0.129)</td><td>(0.196)</td><td>(0.130)</td><td>(0.151)</td><td>(0.144)</td><td>(0.207)</td><td>(0.209)</td></tr><tr><td style=\"text-align:left\">country_year_fe_TR2019</td><td>2.404<sup>***</sup></td><td>1.123<sup>***</sup></td><td>3.475<sup>***</sup></td><td>2.192<sup>***</sup></td><td>2.273<sup>***</sup></td><td>1.149<sup>***</sup></td><td>2.147<sup>***</sup></td></tr><tr><td style=\"text-align:left\"></td><td>(0.122)</td><td>(0.190)</td><td>(0.111)</td><td>(0.146)</td><td>(0.125)</td><td>(0.203)</td><td>(0.199)</td></tr><tr><td style=\"text-align:left\">country_year_fe_TR2020</td><td>2.734<sup>***</sup></td><td>1.536<sup>***</sup></td><td>2.707<sup>***</sup></td><td>2.516<sup>***</sup></td><td>2.562<sup>***</sup></td><td>1.554<sup>***</sup></td><td>1.512<sup>***</sup></td></tr><tr><td style=\"text-align:left\"></td><td>(0.152)</td><td>(0.213)</td><td>(0.150)</td><td>(0.172)</td><td>(0.147)</td><td>(0.223)</td><td>(0.223)</td></tr><tr><td style=\"text-align:left\">country_year_fe_TR2021</td><td>2.239<sup>***</sup></td><td>0.967<sup>***</sup></td><td>2.201<sup>***</sup></td><td>1.997<sup>***</sup></td><td>2.131<sup>***</sup></td><td>0.950<sup>***</sup></td><td>0.898<sup>***</sup></td></tr><tr><td style=\"text-align:left\"></td><td>(0.252)</td><td>(0.295)</td><td>(0.250)</td><td>(0.284)</td><td>(0.219)</td><td>(0.317)</td><td>(0.314)</td></tr><tr><td style=\"text-align:left\">country_year_fe_TW2017</td><td>2.196<sup>***</sup></td><td>0.974<sup>***</sup></td><td>2.439<sup>***</sup></td><td>2.316<sup>***</sup></td><td>2.045<sup>***</sup></td><td>1.215<sup>***</sup></td><td>1.178<sup>***</sup></td></tr><tr><td style=\"text-align:left\"></td><td>(0.250)</td><td>(0.291)</td><td>(0.113)</td><td>(0.123)</td><td>(0.180)</td><td>(0.194)</td><td>(0.198)</td></tr><tr><td style=\"text-align:left\">country_year_fe_TW2018</td><td>3.420<sup>***</sup></td><td>2.124<sup>***</sup></td><td>3.397<sup>***</sup></td><td>3.164<sup>***</sup></td><td>1.909<sup>***</sup></td><td>2.130<sup>***</sup></td><td>2.104<sup>***</sup></td></tr><tr><td style=\"text-align:left\"></td><td>(0.126)</td><td>(0.202)</td><td>(0.127)</td><td>(0.154)</td><td>(0.143)</td><td>(0.214)</td><td>(0.215)</td></tr><tr><td style=\"text-align:left\">country_year_fe_TW2020</td><td>2.624<sup>***</sup></td><td>1.365<sup>***</sup></td><td>2.609<sup>***</sup></td><td></td><td>2.367<sup>***</sup></td><td></td><td></td></tr><tr><td style=\"text-align:left\"></td><td>(0.167)</td><td>(0.225)</td><td>(0.158)</td><td></td><td>(0.163)</td><td></td><td></td></tr><tr><td style=\"text-align:left\">country_year_fe_TW2021</td><td>2.471<sup>***</sup></td><td>1.158<sup>***</sup></td><td>2.450<sup>***</sup></td><td></td><td>2.313<sup>***</sup></td><td></td><td></td></tr><tr><td style=\"text-align:left\"></td><td>(0.245)</td><td>(0.291)</td><td>(0.242)</td><td></td><td>(0.210)</td><td></td><td></td></tr><tr><td style=\"text-align:left\">country_year_fe_UA2020</td><td>2.464<sup>***</sup></td><td>1.220<sup>***</sup></td><td>2.392<sup>***</sup></td><td></td><td>2.277<sup>***</sup></td><td></td><td></td></tr><tr><td style=\"text-align:left\"></td><td>(0.148)</td><td>(0.212)</td><td>(0.146)</td><td></td><td>(0.149)</td><td></td><td></td></tr><tr><td style=\"text-align:left\">country_year_fe_UA2021</td><td>2.310<sup>***</sup></td><td>0.967<sup>***</sup></td><td>2.245<sup>***</sup></td><td>2.146<sup>***</sup></td><td>2.176<sup>***</sup></td><td>0.962<sup>***</sup></td><td>0.882<sup>***</sup></td></tr><tr><td style=\"text-align:left\"></td><td>(0.266)</td><td>(0.298)</td><td>(0.258)</td><td>(0.291)</td><td>(0.235)</td><td>(0.321)</td><td>(0.320)</td></tr><tr><td style=\"text-align:left\">country_year_fe_US2017</td><td>1.978<sup>***</sup></td><td>0.710<sup>**</sup></td><td>2.203<sup>***</sup></td><td>2.058<sup>***</sup></td><td>1.631<sup>***</sup></td><td>0.965<sup>***</sup></td><td>0.908<sup>***</sup></td></tr><tr><td style=\"text-align:left\"></td><td>(0.252)</td><td>(0.294)</td><td>(0.116)</td><td>(0.131)</td><td>(0.209)</td><td>(0.199)</td><td>(0.201)</td></tr><tr><td style=\"text-align:left\">country_year_fe_US2018</td><td>3.169<sup>***</sup></td><td>1.843<sup>***</sup></td><td>3.083<sup>***</sup></td><td>2.887<sup>***</sup></td><td>1.508<sup>***</sup></td><td>1.861<sup>***</sup></td><td>1.761<sup>***</sup></td></tr><tr><td style=\"text-align:left\"></td><td>(0.100)</td><td>(0.186)</td><td>(0.108)</td><td>(0.136)</td><td>(0.151)</td><td>(0.200)</td><td>(0.206)</td></tr><tr><td style=\"text-align:left\">country_year_fe_US2019</td><td>2.129<sup>***</sup></td><td>0.838<sup>***</sup></td><td>3.158<sup>***</sup></td><td>1.859<sup>***</sup></td><td>1.819<sup>***</sup></td><td>0.883<sup>***</sup></td><td>1.838<sup>***</sup></td></tr><tr><td style=\"text-align:left\"></td><td>(0.171)</td><td>(0.231)</td><td>(0.180)</td><td>(0.198)</td><td>(0.177)</td><td>(0.247)</td><td>(0.257)</td></tr><tr><td style=\"text-align:left\">country_year_fe_US2020</td><td>2.564<sup>***</sup></td><td>1.271<sup>***</sup></td><td>2.506<sup>***</sup></td><td>2.280<sup>***</sup></td><td>2.174<sup>***</sup></td><td>1.290<sup>***</sup></td><td>1.216<sup>***</sup></td></tr><tr><td style=\"text-align:left\"></td><td>(0.127)</td><td>(0.199)</td><td>(0.135)</td><td>(0.158)</td><td>(0.168)</td><td>(0.213)</td><td>(0.219)</td></tr><tr><td style=\"text-align:left\">country_year_fe_US2021</td><td>1.781<sup>***</sup></td><td>0.638<sup></sup></td><td>1.731<sup>***</sup></td><td></td><td>1.576<sup>***</sup></td><td></td><td></td></tr><tr><td style=\"text-align:left\"></td><td>(0.435)</td><td>(0.426)</td><td>(0.421)</td><td></td><td>(0.278)</td><td></td><td></td></tr><tr><td style=\"text-align:left\">country_year_fe_UY2017</td><td>2.218<sup>***</sup></td><td>0.946<sup>***</sup></td><td>2.461<sup>***</sup></td><td>2.415<sup>***</sup></td><td>2.045<sup>***</sup></td><td>1.169<sup>***</sup></td><td>1.116<sup>***</sup></td></tr><tr><td style=\"text-align:left\"></td><td>(0.240)</td><td>(0.284)</td><td>(0.090)</td><td>(0.093)</td><td>(0.149)</td><td>(0.186)</td><td>(0.192)</td></tr><tr><td style=\"text-align:left\">country_year_fe_UY2018</td><td>3.438<sup>***</sup></td><td>2.089<sup>***</sup></td><td>3.438<sup>***</sup></td><td>3.256<sup>***</sup></td><td>1.959<sup>***</sup></td><td>2.071<sup>***</sup></td><td>2.044<sup>***</sup></td></tr><tr><td style=\"text-align:left\"></td><td>(0.088)</td><td>(0.179)</td><td>(0.091)</td><td>(0.106)</td><td>(0.109)</td><td>(0.190)</td><td>(0.195)</td></tr><tr><td style=\"text-align:left\">country_year_fe_UY2019</td><td>2.447<sup>***</sup></td><td>1.155<sup>***</sup></td><td>3.528<sup>***</sup></td><td>2.285<sup>***</sup></td><td>2.315<sup>***</sup></td><td>1.155<sup>***</sup></td><td>2.150<sup>***</sup></td></tr><tr><td style=\"text-align:left\"></td><td>(0.096)</td><td>(0.181)</td><td>(0.098)</td><td>(0.113)</td><td>(0.114)</td><td>(0.191)</td><td>(0.195)</td></tr><tr><td style=\"text-align:left\">country_year_fe_UY2020</td><td>2.737<sup>***</sup></td><td>1.491<sup>***</sup></td><td>2.722<sup>***</sup></td><td></td><td>2.538<sup>***</sup></td><td></td><td></td></tr><tr><td style=\"text-align:left\"></td><td>(0.127)</td><td>(0.193)</td><td>(0.126)</td><td></td><td>(0.122)</td><td></td><td></td></tr><tr><td style=\"text-align:left\">country_year_fe_UY2021</td><td>2.455<sup>***</sup></td><td>1.112<sup>***</sup></td><td>2.400<sup>***</sup></td><td>2.300<sup>***</sup></td><td>2.303<sup>***</sup></td><td>1.115<sup>***</sup></td><td>1.015<sup>***</sup></td></tr><tr><td style=\"text-align:left\"></td><td>(0.259)</td><td>(0.307)</td><td>(0.253)</td><td>(0.302)</td><td>(0.222)</td><td>(0.339)</td><td>(0.328)</td></tr><tr><td style=\"text-align:left\">country_year_fe_VN2018</td><td>3.546<sup>***</sup></td><td>2.292<sup>***</sup></td><td>3.522<sup>***</sup></td><td>3.302<sup>***</sup></td><td>2.086<sup>***</sup></td><td>2.295<sup>***</sup></td><td>2.267<sup>***</sup></td></tr><tr><td style=\"text-align:left\"></td><td>(0.132)</td><td>(0.200)</td><td>(0.131)</td><td>(0.161)</td><td>(0.145)</td><td>(0.212)</td><td>(0.212)</td></tr><tr><td style=\"text-align:left\">country_year_fe_VN2019</td><td>2.584<sup>***</sup></td><td>1.356<sup>***</sup></td><td>3.662<sup>***</sup></td><td>2.370<sup>***</sup></td><td>2.456<sup>***</sup></td><td>1.381<sup>***</sup></td><td>2.391<sup>***</sup></td></tr><tr><td style=\"text-align:left\"></td><td>(0.123)</td><td>(0.192)</td><td>(0.116)</td><td>(0.145)</td><td>(0.128)</td><td>(0.204)</td><td>(0.202)</td></tr><tr><td style=\"text-align:left\">country_year_fe_VN2020</td><td>2.809<sup>***</sup></td><td>1.590<sup>***</sup></td><td>2.783<sup>***</sup></td><td>2.578<sup>***</sup></td><td>2.621<sup>***</sup></td><td>1.599<sup>***</sup></td><td>1.572<sup>***</sup></td></tr><tr><td style=\"text-align:left\"></td><td>(0.136)</td><td>(0.198)</td><td>(0.137)</td><td>(0.159)</td><td>(0.134)</td><td>(0.210)</td><td>(0.212)</td></tr><tr><td style=\"text-align:left\">country_year_fe_VN2021</td><td>2.455<sup>***</sup></td><td>1.178<sup>***</sup></td><td>2.424<sup>***</sup></td><td>2.289<sup>***</sup></td><td>2.352<sup>***</sup></td><td>1.267<sup>***</sup></td><td>1.231<sup>***</sup></td></tr><tr><td style=\"text-align:left\"></td><td>(0.262)</td><td>(0.302)</td><td>(0.261)</td><td>(0.299)</td><td>(0.233)</td><td>(0.325)</td><td>(0.324)</td></tr><tr><td style=\"text-align:left\">country_year_fe_ZA2018</td><td>3.417<sup>***</sup></td><td>2.138<sup>***</sup></td><td>3.360<sup>***</sup></td><td>3.174<sup>***</sup></td><td>1.895<sup>***</sup></td><td>2.146<sup>***</sup></td><td>2.078<sup>***</sup></td></tr><tr><td style=\"text-align:left\"></td><td>(0.113)</td><td>(0.184)</td><td>(0.114)</td><td>(0.137)</td><td>(0.070)</td><td>(0.196)</td><td>(0.198)</td></tr><tr><td style=\"text-align:left\">country_year_fe_ZA2019</td><td>2.336<sup>***</sup></td><td>1.109<sup>***</sup></td><td>3.375<sup>***</sup></td><td>2.117<sup>***</sup></td><td>2.155<sup>***</sup></td><td>1.139<sup>***</sup></td><td>2.105<sup>***</sup></td></tr><tr><td style=\"text-align:left\"></td><td>(0.122)</td><td>(0.189)</td><td>(0.113)</td><td>(0.146)</td><td>(0.070)</td><td>(0.203)</td><td>(0.199)</td></tr><tr><td style=\"text-align:left\">country_year_fe_ZA2020</td><td>2.730<sup>***</sup></td><td>1.519<sup>***</sup></td><td>2.678<sup>***</sup></td><td>2.504<sup>***</sup></td><td>2.443<sup>***</sup></td><td>1.532<sup>***</sup></td><td>1.463<sup>***</sup></td></tr><tr><td style=\"text-align:left\"></td><td>(0.125)</td><td>(0.189)</td><td>(0.125)</td><td>(0.143)</td><td>(0.123)</td><td>(0.198)</td><td>(0.200)</td></tr><tr><td style=\"text-align:left\">country_year_fe_ZA2021</td><td>2.277<sup>***</sup></td><td>0.963<sup>***</sup></td><td>2.212<sup>***</sup></td><td>2.034<sup>***</sup></td><td>2.126<sup>***</sup></td><td>0.933<sup>***</sup></td><td>0.865<sup>***</sup></td></tr><tr><td style=\"text-align:left\"></td><td>(0.252)</td><td>(0.297)</td><td>(0.251)</td><td>(0.283)</td><td>(0.184)</td><td>(0.323)</td><td>(0.322)</td></tr><tr><td style=\"text-align:left\">dist_cultural</td><td></td><td></td><td>-0.081<sup>***</sup></td><td></td><td></td><td></td><td>-0.093<sup>***</sup></td></tr><tr><td style=\"text-align:left\"></td><td></td><td></td><td>(0.018)</td><td></td><td></td><td></td><td>(0.020)</td></tr><tr><td style=\"text-align:left\">dist_eco</td><td></td><td></td><td></td><td>-0.030<sup>***</sup></td><td></td><td>0.008<sup></sup></td><td>0.010<sup></sup></td></tr><tr><td style=\"text-align:left\"></td><td></td><td></td><td></td><td>(0.011)</td><td></td><td>(0.011)</td><td>(0.012)</td></tr><tr><td style=\"text-align:left\">dist_geo</td><td>-0.133<sup>***</sup></td><td>-0.055<sup>***</sup></td><td>-0.120<sup>***</sup></td><td>-0.093<sup>***</sup></td><td>-0.117<sup>***</sup></td><td>-0.060<sup>***</sup></td><td>-0.049<sup>***</sup></td></tr><tr><td style=\"text-align:left\"></td><td>(0.008)</td><td>(0.012)</td><td>(0.008)</td><td>(0.015)</td><td>(0.008)</td><td>(0.016)</td><td>(0.017)</td></tr><tr><td style=\"text-align:left\">dist_social</td><td></td><td>-0.082<sup>***</sup></td><td></td><td></td><td></td><td>-0.083<sup>***</sup></td><td>-0.089<sup>***</sup></td></tr><tr><td style=\"text-align:left\"></td><td></td><td>(0.009)</td><td></td><td></td><td></td><td>(0.010)</td><td>(0.011)</td></tr><tr><td style=\"text-align:left\">home_bias</td><td></td><td></td><td></td><td></td><td>0.298<sup>***</sup></td><td>0.660<sup>**</sup></td><td></td></tr><tr><td style=\"text-align:left\"></td><td></td><td></td><td></td><td></td><td>(0.032)</td><td>(0.323)</td><td></td></tr><tr><td style=\"text-align:left\">issue_country_year_fe_AE2019</td><td>0.556<sup>***</sup></td><td>0.430<sup>***</sup></td><td>-0.533<sup>***</sup></td><td>0.532<sup>***</sup></td><td>0.234<sup></sup></td><td>0.418<sup>***</sup></td><td>-0.628<sup>***</sup></td></tr><tr><td style=\"text-align:left\"></td><td>(0.135)</td><td>(0.131)</td><td>(0.105)</td><td>(0.129)</td><td>(0.216)</td><td>(0.134)</td><td>(0.104)</td></tr><tr><td style=\"text-align:left\">issue_country_year_fe_AE2020</td><td>-0.097<sup></sup></td><td>-0.231<sup></sup></td><td>-0.087<sup></sup></td><td></td><td>-0.255<sup></sup></td><td></td><td></td></tr><tr><td style=\"text-align:left\"></td><td>(0.159)</td><td>(0.141)</td><td>(0.151)</td><td></td><td>(0.198)</td><td></td><td></td></tr><tr><td style=\"text-align:left\">issue_country_year_fe_AE2021</td><td>0.372<sup></sup></td><td>0.230<sup></sup></td><td>0.390<sup>*</sup></td><td>0.391<sup></sup></td><td>0.310<sup></sup></td><td>0.256<sup></sup></td><td>0.251<sup></sup></td></tr><tr><td style=\"text-align:left\"></td><td>(0.232)</td><td>(0.233)</td><td>(0.227)</td><td>(0.238)</td><td>(0.201)</td><td>(0.239)</td><td>(0.232)</td></tr><tr><td style=\"text-align:left\">issue_country_year_fe_AL2019</td><td>-0.936<sup>***</sup></td><td>-1.067<sup>***</sup></td><td>-2.012<sup>***</sup></td><td>-0.809<sup>***</sup></td><td>-0.891<sup>***</sup></td><td>-1.137<sup>***</sup></td><td>-2.172<sup>***</sup></td></tr><tr><td style=\"text-align:left\"></td><td>(0.100)</td><td>(0.098)</td><td>(0.075)</td><td>(0.117)</td><td>(0.102)</td><td>(0.120)</td><td>(0.102)</td></tr><tr><td style=\"text-align:left\">issue_country_year_fe_AL2020</td><td>-0.891<sup>***</sup></td><td>-1.016<sup>***</sup></td><td>-0.864<sup>***</sup></td><td></td><td>-0.751<sup>***</sup></td><td></td><td></td></tr><tr><td style=\"text-align:left\"></td><td>(0.092)</td><td>(0.090)</td><td>(0.087)</td><td></td><td>(0.105)</td><td></td><td></td></tr><tr><td style=\"text-align:left\">issue_country_year_fe_AR2017</td><td>-0.560<sup></sup></td><td>-0.575<sup></sup></td><td>-0.812<sup></sup></td><td>-0.922<sup></sup></td><td>-0.306<sup></sup></td><td>-0.798<sup></sup></td><td>-0.789<sup></sup></td></tr><tr><td style=\"text-align:left\"></td><td>(0.621)</td><td>(0.655)</td><td>(0.587)</td><td>(0.596)</td><td>(0.328)</td><td>(0.617)</td><td>(0.621)</td></tr><tr><td style=\"text-align:left\">issue_country_year_fe_AR2018</td><td>-1.026<sup>***</sup></td><td>-0.988<sup>***</sup></td><td>-1.109<sup>***</sup></td><td>-1.006<sup>***</sup></td><td>0.276<sup>**</sup></td><td>-0.969<sup>***</sup></td><td>-1.010<sup>***</sup></td></tr><tr><td style=\"text-align:left\"></td><td>(0.114)</td><td>(0.102)</td><td>(0.141)</td><td>(0.107)</td><td>(0.115)</td><td>(0.105)</td><td>(0.150)</td></tr><tr><td style=\"text-align:left\">issue_country_year_fe_AR2019</td><td>-0.023<sup></sup></td><td>-0.057<sup></sup></td><td>-1.061<sup>***</sup></td><td>-0.038<sup></sup></td><td>-0.066<sup></sup></td><td>-0.056<sup></sup></td><td>-1.012<sup>***</sup></td></tr><tr><td style=\"text-align:left\"></td><td>(0.134)</td><td>(0.131)</td><td>(0.176)</td><td>(0.138)</td><td>(0.147)</td><td>(0.130)</td><td>(0.169)</td></tr><tr><td style=\"text-align:left\">issue_country_year_fe_AR2020</td><td>-0.125<sup></sup></td><td>-0.209<sup>***</sup></td><td>-0.093<sup></sup></td><td>-0.111<sup></sup></td><td>-0.152<sup>*</sup></td><td>-0.185<sup>**</sup></td><td>-0.190<sup>**</sup></td></tr><tr><td style=\"text-align:left\"></td><td>(0.086)</td><td>(0.079)</td><td>(0.088)</td><td>(0.098)</td><td>(0.086)</td><td>(0.087)</td><td>(0.085)</td></tr><tr><td style=\"text-align:left\">issue_country_year_fe_AR2021</td><td>-0.574<sup>*</sup></td><td>-0.577<sup></sup></td><td>-0.290<sup></sup></td><td>-0.527<sup></sup></td><td>-0.533<sup>*</sup></td><td>-0.508<sup></sup></td><td>-0.201<sup></sup></td></tr><tr><td style=\"text-align:left\"></td><td>(0.346)</td><td>(0.355)</td><td>(0.310)</td><td>(0.351)</td><td>(0.277)</td><td>(0.351)</td><td>(0.310)</td></tr><tr><td style=\"text-align:left\">issue_country_year_fe_AT2017</td><td>-0.203<sup></sup></td><td>-0.266<sup></sup></td><td>-0.438<sup></sup></td><td>-0.534<sup></sup></td><td>-0.233<sup></sup></td><td>-0.512<sup></sup></td><td>-0.482<sup></sup></td></tr><tr><td style=\"text-align:left\"></td><td>(0.674)</td><td>(0.671)</td><td>(0.635)</td><td>(0.643)</td><td>(0.343)</td><td>(0.632)</td><td>(0.630)</td></tr><tr><td style=\"text-align:left\">issue_country_year_fe_AT2018</td><td>-1.898<sup>***</sup></td><td>-1.866<sup>***</sup></td><td>-1.851<sup>***</sup></td><td>-1.848<sup>***</sup></td><td>-0.491<sup>***</sup></td><td>-1.875<sup>***</sup></td><td>-1.835<sup>***</sup></td></tr><tr><td style=\"text-align:left\"></td><td>(0.223)</td><td>(0.230)</td><td>(0.225)</td><td>(0.222)</td><td>(0.186)</td><td>(0.231)</td><td>(0.234)</td></tr><tr><td style=\"text-align:left\">issue_country_year_fe_AT2019</td><td>-0.739<sup>***</sup></td><td>-0.775<sup>***</sup></td><td>-1.797<sup>***</sup></td><td>-0.719<sup>***</sup></td><td>-0.605<sup>***</sup></td><td>-0.808<sup>***</sup></td><td>-1.805<sup>***</sup></td></tr><tr><td style=\"text-align:left\"></td><td>(0.218)</td><td>(0.236)</td><td>(0.211)</td><td>(0.218)</td><td>(0.195)</td><td>(0.238)</td><td>(0.232)</td></tr><tr><td style=\"text-align:left\">issue_country_year_fe_AT2020</td><td>-1.125<sup>***</sup></td><td>-1.199<sup>***</sup></td><td>-1.059<sup>***</sup></td><td>-1.127<sup>***</sup></td><td>-0.871<sup>***</sup></td><td>-1.210<sup>***</sup></td><td>-1.166<sup>***</sup></td></tr><tr><td style=\"text-align:left\"></td><td>(0.132)</td><td>(0.143)</td><td>(0.134)</td><td>(0.132)</td><td>(0.112)</td><td>(0.141)</td><td>(0.142)</td></tr><tr><td style=\"text-align:left\">issue_country_year_fe_AT2021</td><td>-0.726<sup>***</sup></td><td>-0.704<sup>***</sup></td><td>-0.663<sup>**</sup></td><td>-0.694<sup>***</sup></td><td>-0.884<sup>***</sup></td><td>-0.714<sup>***</sup></td><td>-0.672<sup>***</sup></td></tr><tr><td style=\"text-align:left\"></td><td>(0.258)</td><td>(0.244)</td><td>(0.258)</td><td>(0.265)</td><td>(0.230)</td><td>(0.247)</td><td>(0.241)</td></tr><tr><td style=\"text-align:left\">issue_country_year_fe_AU2017</td><td>0.128<sup></sup></td><td>-0.054<sup></sup></td><td>-0.124<sup></sup></td><td>-0.240<sup></sup></td><td>0.158<sup></sup></td><td>-0.296<sup>**</sup></td><td>-0.282<sup>*</sup></td></tr><tr><td style=\"text-align:left\"></td><td>(0.266)</td><td>(0.266)</td><td>(0.144)</td><td>(0.148)</td><td>(0.193)</td><td>(0.148)</td><td>(0.150)</td></tr><tr><td style=\"text-align:left\">issue_country_year_fe_AU2018</td><td>-0.607<sup>***</sup></td><td>-0.705<sup>***</sup></td><td>-0.599<sup>***</sup></td><td>-0.594<sup>***</sup></td><td>0.701<sup>***</sup></td><td>-0.714<sup>***</sup></td><td>-0.713<sup>***</sup></td></tr><tr><td style=\"text-align:left\"></td><td>(0.037)</td><td>(0.038)</td><td>(0.035)</td><td>(0.038)</td><td>(0.087)</td><td>(0.039)</td><td>(0.038)</td></tr><tr><td style=\"text-align:left\">issue_country_year_fe_AU2019</td><td>0.343<sup>***</sup></td><td>0.215<sup>**</sup></td><td>-0.753<sup>***</sup></td><td>0.322<sup>***</sup></td><td>0.304<sup>***</sup></td><td>0.183<sup>**</sup></td><td>-0.857<sup>***</sup></td></tr><tr><td style=\"text-align:left\"></td><td>(0.094)</td><td>(0.086)</td><td>(0.067)</td><td>(0.095)</td><td>(0.093)</td><td>(0.089)</td><td>(0.061)</td></tr><tr><td style=\"text-align:left\">issue_country_year_fe_AU2020</td><td>-0.302<sup>**</sup></td><td>-0.470<sup>***</sup></td><td>-0.296<sup>**</sup></td><td>-0.294<sup>**</sup></td><td>-0.277<sup>**</sup></td><td>-0.471<sup>***</sup></td><td>-0.472<sup>***</sup></td></tr><tr><td style=\"text-align:left\"></td><td>(0.133)</td><td>(0.128)</td><td>(0.131)</td><td>(0.137)</td><td>(0.126)</td><td>(0.132)</td><td>(0.131)</td></tr><tr><td style=\"text-align:left\">issue_country_year_fe_AU2021</td><td>-0.106<sup></sup></td><td>-0.200<sup></sup></td><td>-0.089<sup></sup></td><td>-0.062<sup></sup></td><td>-0.161<sup></sup></td><td>-0.165<sup></sup></td><td>-0.160<sup></sup></td></tr><tr><td style=\"text-align:left\"></td><td>(0.245)</td><td>(0.240)</td><td>(0.243)</td><td>(0.248)</td><td>(0.214)</td><td>(0.239)</td><td>(0.238)</td></tr><tr><td style=\"text-align:left\">issue_country_year_fe_BE2017</td><td>-0.441<sup></sup></td><td>-0.456<sup></sup></td><td>-0.678<sup>***</sup></td><td>-0.759<sup>***</sup></td><td>-0.275<sup></sup></td><td>-0.698<sup>***</sup></td><td>-0.671<sup>***</sup></td></tr><tr><td style=\"text-align:left\"></td><td>(0.321)</td><td>(0.326)</td><td>(0.238)</td><td>(0.229)</td><td>(0.246)</td><td>(0.239)</td><td>(0.249)</td></tr><tr><td style=\"text-align:left\">issue_country_year_fe_BE2018</td><td>-1.215<sup>***</sup></td><td>-1.186<sup>***</sup></td><td>-1.198<sup>***</sup></td><td>-1.179<sup>***</sup></td><td>0.118<sup></sup></td><td>-1.192<sup>***</sup></td><td>-1.185<sup>***</sup></td></tr><tr><td style=\"text-align:left\"></td><td>(0.430)</td><td>(0.415)</td><td>(0.429)</td><td>(0.441)</td><td>(0.241)</td><td>(0.414)</td><td>(0.410)</td></tr><tr><td style=\"text-align:left\">issue_country_year_fe_BE2019</td><td>-0.395<sup>**</sup></td><td>-0.428<sup>**</sup></td><td>-1.451<sup>***</sup></td><td>-0.374<sup>*</sup></td><td>-0.350<sup>**</sup></td><td>-0.459<sup>**</sup></td><td>-1.462<sup>***</sup></td></tr><tr><td style=\"text-align:left\"></td><td>(0.193)</td><td>(0.197)</td><td>(0.182)</td><td>(0.198)</td><td>(0.162)</td><td>(0.199)</td><td>(0.189)</td></tr><tr><td style=\"text-align:left\">issue_country_year_fe_BE2020</td><td>-1.064<sup>***</sup></td><td>-1.081<sup>***</sup></td><td>-0.926<sup>***</sup></td><td>-0.850<sup>***</sup></td><td>-0.939<sup>***</sup></td><td>-0.927<sup>***</sup></td><td>-0.897<sup>***</sup></td></tr><tr><td style=\"text-align:left\"></td><td>(0.309)</td><td>(0.299)</td><td>(0.296)</td><td>(0.293)</td><td>(0.253)</td><td>(0.279)</td><td>(0.275)</td></tr><tr><td style=\"text-align:left\">issue_country_year_fe_BE2021</td><td>-0.269<sup></sup></td><td>-0.273<sup></sup></td><td>-0.214<sup></sup></td><td>-0.220<sup></sup></td><td>-0.223<sup></sup></td><td>-0.277<sup></sup></td><td>-0.235<sup></sup></td></tr><tr><td style=\"text-align:left\"></td><td>(0.327)</td><td>(0.324)</td><td>(0.326)</td><td>(0.331)</td><td>(0.272)</td><td>(0.325)</td><td>(0.323)</td></tr><tr><td style=\"text-align:left\">issue_country_year_fe_BG2017</td><td>-0.996<sup>**</sup></td><td>-1.023<sup>***</sup></td><td>-1.232<sup>***</sup></td><td>-1.324<sup>***</sup></td><td>-0.930<sup>***</sup></td><td>-1.269<sup>***</sup></td><td>-1.239<sup>***</sup></td></tr><tr><td style=\"text-align:left\"></td><td>(0.388)</td><td>(0.380)</td><td>(0.320)</td><td>(0.317)</td><td>(0.351)</td><td>(0.307)</td><td>(0.312)</td></tr><tr><td style=\"text-align:left\">issue_country_year_fe_BG2018</td><td>-1.223<sup>***</sup></td><td>-1.132<sup>***</sup></td><td>-1.235<sup>***</sup></td><td>-1.168<sup>***</sup></td><td>0.109<sup></sup></td><td>-1.139<sup>***</sup></td><td>-1.153<sup>***</sup></td></tr><tr><td style=\"text-align:left\"></td><td>(0.085)</td><td>(0.089)</td><td>(0.103)</td><td>(0.092)</td><td>(0.118)</td><td>(0.092)</td><td>(0.112)</td></tr><tr><td style=\"text-align:left\">issue_country_year_fe_BG2019</td><td>0.309<sup>***</sup></td><td>0.356<sup>***</sup></td><td>-0.805<sup>***</sup></td><td>0.350<sup>***</sup></td><td>0.258<sup>***</sup></td><td>0.320<sup>***</sup></td><td>-0.742<sup>***</sup></td></tr><tr><td style=\"text-align:left\"></td><td>(0.065)</td><td>(0.063)</td><td>(0.057)</td><td>(0.070)</td><td>(0.094)</td><td>(0.070)</td><td>(0.068)</td></tr><tr><td style=\"text-align:left\">issue_country_year_fe_BG2020</td><td>0.219<sup>**</sup></td><td>0.268<sup>***</sup></td><td>0.224<sup>**</sup></td><td>0.303<sup>***</sup></td><td>0.025<sup></sup></td><td>0.239<sup>**</sup></td><td>0.231<sup>**</sup></td></tr><tr><td style=\"text-align:left\"></td><td>(0.107)</td><td>(0.101)</td><td>(0.106)</td><td>(0.113)</td><td>(0.173)</td><td>(0.107)</td><td>(0.107)</td></tr><tr><td style=\"text-align:left\">issue_country_year_fe_BG2021</td><td>-2.072<sup>**</sup></td><td>-2.051<sup>**</sup></td><td>-2.029<sup>**</sup></td><td>-2.052<sup>**</sup></td><td>-0.759<sup></sup></td><td>-2.057<sup>**</sup></td><td>-2.029<sup>**</sup></td></tr><tr><td style=\"text-align:left\"></td><td>(0.899)</td><td>(0.891)</td><td>(0.926)</td><td>(0.899)</td><td>(0.524)</td><td>(0.893)</td><td>(0.917)</td></tr><tr><td style=\"text-align:left\">issue_country_year_fe_BR2017</td><td>0.211<sup></sup></td><td>0.163<sup></sup></td><td>-0.076<sup></sup></td><td>-0.172<sup>**</sup></td><td>0.280<sup>*</sup></td><td>-0.061<sup></sup></td><td>-0.082<sup></sup></td></tr><tr><td style=\"text-align:left\"></td><td>(0.233)</td><td>(0.233)</td><td>(0.072)</td><td>(0.081)</td><td>(0.160)</td><td>(0.077)</td><td>(0.084)</td></tr><tr><td style=\"text-align:left\">issue_country_year_fe_BR2018</td><td>-0.645<sup>***</sup></td><td>-0.603<sup>***</sup></td><td>-0.688<sup>***</sup></td><td>-0.671<sup>***</sup></td><td>0.698<sup>***</sup></td><td>-0.594<sup>***</sup></td><td>-0.637<sup>***</sup></td></tr><tr><td style=\"text-align:left\"></td><td>(0.063)</td><td>(0.060)</td><td>(0.072)</td><td>(0.068)</td><td>(0.102)</td><td>(0.066)</td><td>(0.076)</td></tr><tr><td style=\"text-align:left\">issue_country_year_fe_BR2019</td><td>0.116<sup></sup></td><td>0.097<sup></sup></td><td>-0.922<sup>**</sup></td><td>0.058<sup></sup></td><td>0.291<sup></sup></td><td>0.088<sup></sup></td><td>-0.872<sup>**</sup></td></tr><tr><td style=\"text-align:left\"></td><td>(0.281)</td><td>(0.248)</td><td>(0.412)</td><td>(0.281)</td><td>(0.231)</td><td>(0.249)</td><td>(0.352)</td></tr><tr><td style=\"text-align:left\">issue_country_year_fe_BR2020</td><td>-0.637<sup></sup></td><td>-0.688<sup></sup></td><td>-0.650<sup></sup></td><td>-0.683<sup></sup></td><td>-0.310<sup></sup></td><td>-0.677<sup></sup></td><td>-0.695<sup></sup></td></tr><tr><td style=\"text-align:left\"></td><td>(0.585)</td><td>(0.549)</td><td>(0.587)</td><td>(0.584)</td><td>(0.347)</td><td>(0.548)</td><td>(0.550)</td></tr><tr><td style=\"text-align:left\">issue_country_year_fe_BR2021</td><td>0.688<sup>**</sup></td><td>0.604<sup>**</sup></td><td>0.934<sup>***</sup></td><td>0.712<sup>**</sup></td><td>0.690<sup>***</sup></td><td>0.686<sup>***</sup></td><td>0.849<sup>***</sup></td></tr><tr><td style=\"text-align:left\"></td><td>(0.276)</td><td>(0.261)</td><td>(0.266)</td><td>(0.284)</td><td>(0.217)</td><td>(0.265)</td><td>(0.287)</td></tr><tr><td style=\"text-align:left\">issue_country_year_fe_CA2017</td><td>0.011<sup></sup></td><td>-0.076<sup></sup></td><td>-0.251<sup>*</sup></td><td>-0.322<sup>**</sup></td><td>-0.067<sup></sup></td><td>-0.322<sup>**</sup></td><td>-0.318<sup>**</sup></td></tr><tr><td style=\"text-align:left\"></td><td>(0.266)</td><td>(0.269)</td><td>(0.145)</td><td>(0.148)</td><td>(0.216)</td><td>(0.153)</td><td>(0.155)</td></tr><tr><td style=\"text-align:left\">issue_country_year_fe_CA2018</td><td>-1.229<sup>***</sup></td><td>-1.265<sup>***</sup></td><td>-1.222<sup>***</sup></td><td>-1.187<sup>***</sup></td><td>0.095<sup></sup></td><td>-1.277<sup>***</sup></td><td>-1.278<sup>***</sup></td></tr><tr><td style=\"text-align:left\"></td><td>(0.191)</td><td>(0.201)</td><td>(0.190)</td><td>(0.193)</td><td>(0.215)</td><td>(0.203)</td><td>(0.202)</td></tr><tr><td style=\"text-align:left\">issue_country_year_fe_CA2019</td><td>-0.581<sup>***</sup></td><td>-0.652<sup>***</sup></td><td>-1.683<sup>***</sup></td><td>-0.564<sup>**</sup></td><td>-0.644<sup>***</sup></td><td>-0.692<sup>***</sup></td><td>-1.740<sup>***</sup></td></tr><tr><td style=\"text-align:left\"></td><td>(0.222)</td><td>(0.222)</td><td>(0.213)</td><td>(0.242)</td><td>(0.228)</td><td>(0.245)</td><td>(0.236)</td></tr><tr><td style=\"text-align:left\">issue_country_year_fe_CA2020</td><td>-0.750<sup>***</sup></td><td>-0.824<sup>***</sup></td><td>-0.703<sup>***</sup></td><td>-0.683<sup>***</sup></td><td>-0.720<sup>***</sup></td><td>-0.813<sup>***</sup></td><td>-0.813<sup>***</sup></td></tr><tr><td style=\"text-align:left\"></td><td>(0.147)</td><td>(0.142)</td><td>(0.148)</td><td>(0.143)</td><td>(0.146)</td><td>(0.141)</td><td>(0.140)</td></tr><tr><td style=\"text-align:left\">issue_country_year_fe_CA2021</td><td>0.157<sup></sup></td><td>0.130<sup></sup></td><td>0.239<sup></sup></td><td>0.191<sup></sup></td><td>0.140<sup></sup></td><td>0.113<sup></sup></td><td>0.176<sup></sup></td></tr><tr><td style=\"text-align:left\"></td><td>(0.249)</td><td>(0.246)</td><td>(0.239)</td><td>(0.250)</td><td>(0.223)</td><td>(0.246)</td><td>(0.238)</td></tr><tr><td style=\"text-align:left\">issue_country_year_fe_CH2017</td><td>0.410<sup>*</sup></td><td>0.306<sup></sup></td><td>0.172<sup>*</sup></td><td>0.061<sup></sup></td><td>0.197<sup></sup></td><td>0.061<sup></sup></td><td>0.063<sup></sup></td></tr><tr><td style=\"text-align:left\"></td><td>(0.234)</td><td>(0.236)</td><td>(0.095)</td><td>(0.077)</td><td>(0.251)</td><td>(0.080)</td><td>(0.097)</td></tr><tr><td style=\"text-align:left\">issue_country_year_fe_CH2018</td><td>-1.520<sup>***</sup></td><td>-1.555<sup>***</sup></td><td>-1.496<sup>***</sup></td><td>-1.472<sup>***</sup></td><td>-0.175<sup>*</sup></td><td>-1.568<sup>***</sup></td><td>-1.556<sup>***</sup></td></tr><tr><td style=\"text-align:left\"></td><td>(0.067)</td><td>(0.069)</td><td>(0.069)</td><td>(0.070)</td><td>(0.103)</td><td>(0.073)</td><td>(0.076)</td></tr><tr><td style=\"text-align:left\">issue_country_year_fe_CH2019</td><td>-0.248<sup></sup></td><td>-0.322<sup>*</sup></td><td>-1.321<sup>***</sup></td><td>-0.234<sup></sup></td><td>-0.269<sup></sup></td><td>-0.354<sup>*</sup></td><td>-1.373<sup>***</sup></td></tr><tr><td style=\"text-align:left\"></td><td>(0.172)</td><td>(0.178)</td><td>(0.161)</td><td>(0.172)</td><td>(0.167)</td><td>(0.181)</td><td>(0.171)</td></tr><tr><td style=\"text-align:left\">issue_country_year_fe_CH2020</td><td>-0.393<sup>**</sup></td><td>-0.456<sup>**</sup></td><td>-0.352<sup>*</sup></td><td>-0.425<sup>**</sup></td><td>-0.410<sup>**</sup></td><td>-0.507<sup>***</sup></td><td>-0.501<sup>**</sup></td></tr><tr><td style=\"text-align:left\"></td><td>(0.181)</td><td>(0.177)</td><td>(0.184)</td><td>(0.196)</td><td>(0.180)</td><td>(0.196)</td><td>(0.196)</td></tr><tr><td style=\"text-align:left\">issue_country_year_fe_CH2021</td><td>-0.283<sup></sup></td><td>-0.332<sup></sup></td><td>-0.355<sup></sup></td><td>-0.265<sup></sup></td><td>-0.359<sup></sup></td><td>-0.344<sup></sup></td><td>-0.432<sup></sup></td></tr><tr><td style=\"text-align:left\"></td><td>(0.324)</td><td>(0.321)</td><td>(0.341)</td><td>(0.321)</td><td>(0.272)</td><td>(0.321)</td><td>(0.336)</td></tr><tr><td style=\"text-align:left\">issue_country_year_fe_CL2017</td><td>-0.365<sup></sup></td><td>-0.364<sup></sup></td><td>-0.640<sup>***</sup></td><td>-0.739<sup>***</sup></td><td>-0.843<sup>**</sup></td><td>-0.585<sup>***</sup></td><td>-0.596<sup>***</sup></td></tr><tr><td style=\"text-align:left\"></td><td>(0.233)</td><td>(0.232)</td><td>(0.065)</td><td>(0.077)</td><td>(0.363)</td><td>(0.074)</td><td>(0.078)</td></tr><tr><td style=\"text-align:left\">issue_country_year_fe_CL2018</td><td></td><td></td><td></td><td></td><td>-0.012<sup></sup></td><td></td><td></td></tr><tr><td style=\"text-align:left\"></td><td></td><td></td><td></td><td></td><td>(0.114)</td><td></td><td></td></tr><tr><td style=\"text-align:left\">issue_country_year_fe_CL2019</td><td></td><td></td><td></td><td></td><td>-0.207<sup></sup></td><td></td><td></td></tr><tr><td style=\"text-align:left\"></td><td></td><td></td><td></td><td></td><td>(0.137)</td><td></td><td></td></tr><tr><td style=\"text-align:left\">issue_country_year_fe_CL2020</td><td>-1.504<sup>***</sup></td><td>-1.489<sup>***</sup></td><td>-1.498<sup>***</sup></td><td>-1.479<sup>***</sup></td><td>-1.135<sup>***</sup></td><td>-1.452<sup>***</sup></td><td>-1.449<sup>***</sup></td></tr><tr><td style=\"text-align:left\"></td><td>(0.151)</td><td>(0.150)</td><td>(0.148)</td><td>(0.154)</td><td>(0.129)</td><td>(0.157)</td><td>(0.155)</td></tr><tr><td style=\"text-align:left\">issue_country_year_fe_CL2021</td><td>-0.109<sup></sup></td><td>-0.036<sup></sup></td><td>-0.085<sup></sup></td><td>-0.137<sup></sup></td><td>-0.640<sup></sup></td><td>-0.036<sup></sup></td><td>0.001<sup></sup></td></tr><tr><td style=\"text-align:left\"></td><td>(0.247)</td><td>(0.249)</td><td>(0.241)</td><td>(0.281)</td><td>(0.456)</td><td>(0.281)</td><td>(0.269)</td></tr><tr><td style=\"text-align:left\">issue_country_year_fe_CO2017</td><td>0.089<sup></sup></td><td>0.026<sup></sup></td><td>-0.128<sup></sup></td><td>-0.297<sup>***</sup></td><td>0.052<sup></sup></td><td>-0.225<sup>**</sup></td><td>-0.153<sup>*</sup></td></tr><tr><td style=\"text-align:left\"></td><td>(0.242)</td><td>(0.243)</td><td>(0.078)</td><td>(0.103)</td><td>(0.172)</td><td>(0.104)</td><td>(0.088)</td></tr><tr><td style=\"text-align:left\">issue_country_year_fe_CO2018</td><td>-0.722<sup>***</sup></td><td>-0.687<sup>***</sup></td><td>-0.730<sup>***</sup></td><td>-0.692<sup>***</sup></td><td>0.541<sup>***</sup></td><td>-0.660<sup>***</sup></td><td>-0.676<sup>***</sup></td></tr><tr><td style=\"text-align:left\"></td><td>(0.041)</td><td>(0.040)</td><td>(0.045)</td><td>(0.042)</td><td>(0.095)</td><td>(0.039)</td><td>(0.042)</td></tr><tr><td style=\"text-align:left\">issue_country_year_fe_CO2019</td><td>-0.682<sup>***</sup></td><td>-0.638<sup>***</sup></td><td>-1.812<sup>***</sup></td><td>-0.688<sup>***</sup></td><td>-0.444<sup>***</sup></td><td>-0.636<sup>***</sup></td><td>-1.708<sup>***</sup></td></tr><tr><td style=\"text-align:left\"></td><td>(0.075)</td><td>(0.081)</td><td>(0.075)</td><td>(0.077)</td><td>(0.152)</td><td>(0.083)</td><td>(0.087)</td></tr><tr><td style=\"text-align:left\">issue_country_year_fe_CO2020</td><td>-0.752<sup>***</sup></td><td>-0.761<sup>***</sup></td><td>-0.779<sup>***</sup></td><td>-0.806<sup>***</sup></td><td>-0.523<sup>***</sup></td><td>-0.789<sup>***</sup></td><td>-0.826<sup>***</sup></td></tr><tr><td style=\"text-align:left\"></td><td>(0.114)</td><td>(0.107)</td><td>(0.118)</td><td>(0.116)</td><td>(0.138)</td><td>(0.111)</td><td>(0.110)</td></tr><tr><td style=\"text-align:left\">issue_country_year_fe_CO2021</td><td>-0.226<sup></sup></td><td>-0.167<sup></sup></td><td>-0.412<sup></sup></td><td>-0.153<sup></sup></td><td>-0.316<sup></sup></td><td>-0.085<sup></sup></td><td>-0.283<sup></sup></td></tr><tr><td style=\"text-align:left\"></td><td>(0.257)</td><td>(0.251)</td><td>(0.266)</td><td>(0.260)</td><td>(0.209)</td><td>(0.261)</td><td>(0.273)</td></tr><tr><td style=\"text-align:left\">issue_country_year_fe_CZ2017</td><td></td><td></td><td></td><td></td><td>-0.467<sup>***</sup></td><td></td><td></td></tr><tr><td style=\"text-align:left\"></td><td></td><td></td><td></td><td></td><td>(0.159)</td><td></td><td></td></tr><tr><td style=\"text-align:left\">issue_country_year_fe_CZ2018</td><td>-1.739<sup>***</sup></td><td>-1.645<sup>***</sup></td><td>-1.720<sup>***</sup></td><td>-1.694<sup>***</sup></td><td>-0.327<sup>**</sup></td><td>-1.651<sup>***</sup></td><td>-1.641<sup>***</sup></td></tr><tr><td style=\"text-align:left\"></td><td>(0.146)</td><td>(0.147)</td><td>(0.152)</td><td>(0.146)</td><td>(0.151)</td><td>(0.148)</td><td>(0.155)</td></tr><tr><td style=\"text-align:left\">issue_country_year_fe_CZ2019</td><td>-0.365<sup></sup></td><td>-0.330<sup></sup></td><td>-1.427<sup>***</sup></td><td>-0.361<sup></sup></td><td>-0.221<sup></sup></td><td>-0.355<sup></sup></td><td>-1.359<sup>***</sup></td></tr><tr><td style=\"text-align:left\"></td><td>(0.253)</td><td>(0.231)</td><td>(0.247)</td><td>(0.250)</td><td>(0.189)</td><td>(0.235)</td><td>(0.225)</td></tr><tr><td style=\"text-align:left\">issue_country_year_fe_CZ2020</td><td>0.019<sup></sup></td><td>-0.166<sup>*</sup></td><td>0.072<sup></sup></td><td>0.025<sup></sup></td><td>-0.038<sup></sup></td><td>-0.164<sup>*</sup></td><td>-0.137<sup></sup></td></tr><tr><td style=\"text-align:left\"></td><td>(0.099)</td><td>(0.100)</td><td>(0.096)</td><td>(0.099)</td><td>(0.100)</td><td>(0.095)</td><td>(0.095)</td></tr><tr><td style=\"text-align:left\">issue_country_year_fe_CZ2021</td><td>0.212<sup></sup></td><td>0.108<sup></sup></td><td>0.276<sup></sup></td><td></td><td>0.067<sup></sup></td><td></td><td></td></tr><tr><td style=\"text-align:left\"></td><td>(0.220)</td><td>(0.222)</td><td>(0.218)</td><td></td><td>(0.191)</td><td></td><td></td></tr><tr><td style=\"text-align:left\">issue_country_year_fe_DE2017</td><td>0.596<sup>***</sup></td><td>0.529<sup>**</sup></td><td>0.348<sup>***</sup></td><td>0.247<sup>***</sup></td><td>0.645<sup>***</sup></td><td>0.287<sup>***</sup></td><td>0.304<sup>***</sup></td></tr><tr><td style=\"text-align:left\"></td><td>(0.231)</td><td>(0.231)</td><td>(0.059)</td><td>(0.065)</td><td>(0.156)</td><td>(0.062)</td><td>(0.068)</td></tr><tr><td style=\"text-align:left\">issue_country_year_fe_DE2018</td><td>-1.050<sup>***</sup></td><td>-1.041<sup>***</sup></td><td>-1.028<sup>***</sup></td><td>-1.017<sup>***</sup></td><td>0.312<sup>***</sup></td><td>-1.047<sup>***</sup></td><td>-1.035<sup>***</sup></td></tr><tr><td style=\"text-align:left\"></td><td>(0.071)</td><td>(0.074)</td><td>(0.071)</td><td>(0.073)</td><td>(0.103)</td><td>(0.075)</td><td>(0.075)</td></tr><tr><td style=\"text-align:left\">issue_country_year_fe_DE2019</td><td>0.555<sup>***</sup></td><td>0.511<sup>***</sup></td><td>-0.517<sup>***</sup></td><td>0.557<sup>***</sup></td><td>0.558<sup>***</sup></td><td>0.482<sup>***</sup></td><td>-0.537<sup>***</sup></td></tr><tr><td style=\"text-align:left\"></td><td>(0.071)</td><td>(0.069)</td><td>(0.035)</td><td>(0.074)</td><td>(0.081)</td><td>(0.073)</td><td>(0.038)</td></tr><tr><td style=\"text-align:left\">issue_country_year_fe_DE2020</td><td>0.193<sup>***</sup></td><td>0.140<sup>**</sup></td><td>0.220<sup>***</sup></td><td>0.225<sup>***</sup></td><td>0.254<sup>***</sup></td><td>0.137<sup>**</sup></td><td>0.153<sup>**</sup></td></tr><tr><td style=\"text-align:left\"></td><td>(0.073)</td><td>(0.067)</td><td>(0.071)</td><td>(0.072)</td><td>(0.076)</td><td>(0.066)</td><td>(0.066)</td></tr><tr><td style=\"text-align:left\">issue_country_year_fe_DE2021</td><td>0.361<sup>*</sup></td><td>0.351<sup></sup></td><td>0.396<sup>*</sup></td><td>0.393<sup>*</sup></td><td>0.354<sup>*</sup></td><td>0.351<sup></sup></td><td>0.374<sup>*</sup></td></tr><tr><td style=\"text-align:left\"></td><td>(0.216)</td><td>(0.216)</td><td>(0.214)</td><td>(0.218)</td><td>(0.182)</td><td>(0.217)</td><td>(0.214)</td></tr><tr><td style=\"text-align:left\">issue_country_year_fe_DK2017</td><td>-0.447<sup></sup></td><td>-0.564<sup></sup></td><td>-0.711<sup>*</sup></td><td>-0.794<sup>**</sup></td><td>-0.017<sup></sup></td><td>-0.805<sup>**</sup></td><td>-0.815<sup>**</sup></td></tr><tr><td style=\"text-align:left\"></td><td>(0.460)</td><td>(0.448)</td><td>(0.384)</td><td>(0.398)</td><td>(0.310)</td><td>(0.390)</td><td>(0.369)</td></tr><tr><td style=\"text-align:left\">issue_country_year_fe_DK2018</td><td>-1.239<sup>**</sup></td><td>-1.270<sup>***</sup></td><td>-1.238<sup>***</sup></td><td>-1.210<sup>**</sup></td><td>0.225<sup></sup></td><td>-1.277<sup>***</sup></td><td>-1.297<sup>***</sup></td></tr><tr><td style=\"text-align:left\"></td><td>(0.483)</td><td>(0.440)</td><td>(0.476)</td><td>(0.471)</td><td>(0.313)</td><td>(0.444)</td><td>(0.434)</td></tr><tr><td style=\"text-align:left\">issue_country_year_fe_DK2019</td><td>-0.872<sup>*</sup></td><td>-0.970<sup>**</sup></td><td>-1.942<sup>***</sup></td><td>-0.873<sup>*</sup></td><td>-0.586<sup></sup></td><td>-1.000<sup>**</sup></td><td>-2.025<sup>***</sup></td></tr><tr><td style=\"text-align:left\"></td><td>(0.491)</td><td>(0.467)</td><td>(0.476)</td><td>(0.487)</td><td>(0.366)</td><td>(0.471)</td><td>(0.453)</td></tr><tr><td style=\"text-align:left\">issue_country_year_fe_DK2020</td><td>-0.338<sup></sup></td><td>-0.261<sup></sup></td><td>-0.335<sup></sup></td><td>-0.324<sup></sup></td><td>-0.230<sup></sup></td><td>-0.275<sup></sup></td><td>-0.286<sup></sup></td></tr><tr><td style=\"text-align:left\"></td><td>(0.295)</td><td>(0.217)</td><td>(0.293)</td><td>(0.288)</td><td>(0.223)</td><td>(0.219)</td><td>(0.219)</td></tr><tr><td style=\"text-align:left\">issue_country_year_fe_DK2021</td><td>0.170<sup></sup></td><td>0.036<sup></sup></td><td>0.154<sup></sup></td><td>0.151<sup></sup></td><td>0.147<sup></sup></td><td>0.023<sup></sup></td><td>-0.030<sup></sup></td></tr><tr><td style=\"text-align:left\"></td><td>(0.457)</td><td>(0.455)</td><td>(0.458)</td><td>(0.440)</td><td>(0.321)</td><td>(0.451)</td><td>(0.450)</td></tr><tr><td style=\"text-align:left\">issue_country_year_fe_EE2017</td><td></td><td></td><td></td><td></td><td>-0.050<sup></sup></td><td></td><td></td></tr><tr><td style=\"text-align:left\"></td><td></td><td></td><td></td><td></td><td>(0.174)</td><td></td><td></td></tr><tr><td style=\"text-align:left\">issue_country_year_fe_EE2018</td><td></td><td></td><td></td><td></td><td>-0.108<sup></sup></td><td></td><td></td></tr><tr><td style=\"text-align:left\"></td><td></td><td></td><td></td><td></td><td>(0.110)</td><td></td><td></td></tr><tr><td style=\"text-align:left\">issue_country_year_fe_EE2019</td><td>-0.931<sup>***</sup></td><td>-1.006<sup>***</sup></td><td>-2.010<sup>***</sup></td><td>-0.940<sup>***</sup></td><td>-0.591<sup>***</sup></td><td>-1.031<sup>***</sup></td><td>-2.059<sup>***</sup></td></tr><tr><td style=\"text-align:left\"></td><td>(0.173)</td><td>(0.167)</td><td>(0.215)</td><td>(0.183)</td><td>(0.196)</td><td>(0.166)</td><td>(0.217)</td></tr><tr><td style=\"text-align:left\">issue_country_year_fe_EE2020</td><td>-0.483<sup>***</sup></td><td>-0.484<sup>***</sup></td><td>-0.453<sup>***</sup></td><td>-0.405<sup>***</sup></td><td>-0.546<sup>***</sup></td><td>-0.521<sup>***</sup></td><td>-0.496<sup>***</sup></td></tr><tr><td style=\"text-align:left\"></td><td>(0.131)</td><td>(0.136)</td><td>(0.129)</td><td>(0.137)</td><td>(0.102)</td><td>(0.140)</td><td>(0.137)</td></tr><tr><td style=\"text-align:left\">issue_country_year_fe_EE2021</td><td>0.040<sup></sup></td><td>0.113<sup></sup></td><td>0.081<sup></sup></td><td>0.145<sup></sup></td><td>-0.218<sup></sup></td><td>0.110<sup></sup></td><td>0.145<sup></sup></td></tr><tr><td style=\"text-align:left\"></td><td>(0.239)</td><td>(0.240)</td><td>(0.236)</td><td>(0.260)</td><td>(0.226)</td><td>(0.259)</td><td>(0.255)</td></tr><tr><td style=\"text-align:left\">issue_country_year_fe_EG2019</td><td>0.008<sup></sup></td><td>-0.085<sup></sup></td><td>-1.037<sup>***</sup></td><td>-0.004<sup></sup></td><td>-0.085<sup></sup></td><td>-0.102<sup></sup></td><td>-1.091<sup>***</sup></td></tr><tr><td style=\"text-align:left\"></td><td>(0.165)</td><td>(0.173)</td><td>(0.119)</td><td>(0.149)</td><td>(0.170)</td><td>(0.179)</td><td>(0.127)</td></tr><tr><td style=\"text-align:left\">issue_country_year_fe_EG2020</td><td>-0.392<sup>*</sup></td><td>-0.504<sup>**</sup></td><td>-0.357<sup>*</sup></td><td>-0.049<sup></sup></td><td>-0.295<sup>**</sup></td><td>-0.097<sup></sup></td><td>-0.154<sup></sup></td></tr><tr><td style=\"text-align:left\"></td><td>(0.215)</td><td>(0.206)</td><td>(0.215)</td><td>(0.121)</td><td>(0.147)</td><td>(0.119)</td><td>(0.118)</td></tr><tr><td style=\"text-align:left\">issue_country_year_fe_EG2021</td><td>0.111<sup></sup></td><td>0.010<sup></sup></td><td>0.176<sup></sup></td><td>0.124<sup></sup></td><td>0.179<sup></sup></td><td>0.017<sup></sup></td><td>0.075<sup></sup></td></tr><tr><td style=\"text-align:left\"></td><td>(0.238)</td><td>(0.245)</td><td>(0.233)</td><td>(0.246)</td><td>(0.212)</td><td>(0.256)</td><td>(0.240)</td></tr><tr><td style=\"text-align:left\">issue_country_year_fe_ES2017</td><td>0.624<sup>***</sup></td><td>0.474<sup>**</sup></td><td>0.342<sup>***</sup></td><td>0.225<sup>***</sup></td><td>0.573<sup>***</sup></td><td>0.237<sup>***</sup></td><td>0.245<sup>***</sup></td></tr><tr><td style=\"text-align:left\"></td><td>(0.232)</td><td>(0.232)</td><td>(0.065)</td><td>(0.076)</td><td>(0.159)</td><td>(0.072)</td><td>(0.078)</td></tr><tr><td style=\"text-align:left\">issue_country_year_fe_ES2018</td><td>-0.728<sup>***</sup></td><td>-0.779<sup>***</sup></td><td>-0.778<sup>***</sup></td><td>-0.733<sup>***</sup></td><td>0.548<sup>***</sup></td><td>-0.783<sup>***</sup></td><td>-0.825<sup>***</sup></td></tr><tr><td style=\"text-align:left\"></td><td>(0.090)</td><td>(0.084)</td><td>(0.103)</td><td>(0.094)</td><td>(0.118)</td><td>(0.088)</td><td>(0.102)</td></tr><tr><td style=\"text-align:left\">issue_country_year_fe_ES2019</td><td>0.195<sup></sup></td><td>0.080<sup></sup></td><td>-0.935<sup>***</sup></td><td>0.166<sup></sup></td><td>0.140<sup></sup></td><td>0.063<sup></sup></td><td>-0.995<sup>***</sup></td></tr><tr><td style=\"text-align:left\"></td><td>(0.125)</td><td>(0.122)</td><td>(0.161)</td><td>(0.144)</td><td>(0.147)</td><td>(0.143)</td><td>(0.184)</td></tr><tr><td style=\"text-align:left\">issue_country_year_fe_ES2020</td><td>-0.439<sup>***</sup></td><td>-0.597<sup>***</sup></td><td>-0.420<sup>***</sup></td><td>-0.439<sup>**</sup></td><td>-0.409<sup>***</sup></td><td>-0.557<sup>***</sup></td><td>-0.575<sup>***</sup></td></tr><tr><td style=\"text-align:left\"></td><td>(0.127)</td><td>(0.132)</td><td>(0.134)</td><td>(0.173)</td><td>(0.121)</td><td>(0.181)</td><td>(0.179)</td></tr><tr><td style=\"text-align:left\">issue_country_year_fe_ES2021</td><td>-0.010<sup></sup></td><td>-0.026<sup></sup></td><td>-0.009<sup></sup></td><td>0.027<sup></sup></td><td>-0.070<sup></sup></td><td>0.008<sup></sup></td><td>0.015<sup></sup></td></tr><tr><td style=\"text-align:left\"></td><td>(0.242)</td><td>(0.236)</td><td>(0.247)</td><td>(0.249)</td><td>(0.208)</td><td>(0.242)</td><td>(0.246)</td></tr><tr><td style=\"text-align:left\">issue_country_year_fe_FI2017</td><td>0.321<sup></sup></td><td>0.232<sup></sup></td><td>0.074<sup></sup></td><td>-0.005<sup></sup></td><td>0.444<sup>***</sup></td><td>-0.017<sup></sup></td><td>-0.004<sup></sup></td></tr><tr><td style=\"text-align:left\"></td><td>(0.243)</td><td>(0.247)</td><td>(0.093)</td><td>(0.101)</td><td>(0.170)</td><td>(0.103)</td><td>(0.104)</td></tr><tr><td style=\"text-align:left\">issue_country_year_fe_FI2018</td><td>-1.261<sup>***</sup></td><td>-1.329<sup>***</sup></td><td>-1.213<sup>***</sup></td><td>-1.221<sup>***</sup></td><td>0.345<sup>**</sup></td><td>-1.329<sup>***</sup></td><td>-1.311<sup>***</sup></td></tr><tr><td style=\"text-align:left\"></td><td>(0.086)</td><td>(0.085)</td><td>(0.084)</td><td>(0.088)</td><td>(0.136)</td><td>(0.087)</td><td>(0.086)</td></tr><tr><td style=\"text-align:left\">issue_country_year_fe_FI2019</td><td>-0.951<sup></sup></td><td>-1.007<sup>*</sup></td><td>-2.000<sup>***</sup></td><td>-0.970<sup></sup></td><td>-0.198<sup></sup></td><td>-1.024<sup>*</sup></td><td>-2.030<sup>***</sup></td></tr><tr><td style=\"text-align:left\"></td><td>(0.623)</td><td>(0.567)</td><td>(0.630)</td><td>(0.629)</td><td>(0.361)</td><td>(0.568)</td><td>(0.568)</td></tr><tr><td style=\"text-align:left\">issue_country_year_fe_FI2020</td><td>-0.283<sup></sup></td><td>-0.367<sup>**</sup></td><td>-0.248<sup></sup></td><td>-0.295<sup>*</sup></td><td>-0.103<sup></sup></td><td>-0.372<sup>**</sup></td><td>-0.359<sup>**</sup></td></tr><tr><td style=\"text-align:left\"></td><td>(0.177)</td><td>(0.163)</td><td>(0.183)</td><td>(0.164)</td><td>(0.145)</td><td>(0.161)</td><td>(0.164)</td></tr><tr><td style=\"text-align:left\">issue_country_year_fe_FI2021</td><td>-0.287<sup></sup></td><td>-0.279<sup></sup></td><td>-0.255<sup></sup></td><td>-0.243<sup></sup></td><td>-0.202<sup></sup></td><td>-0.286<sup></sup></td><td>-0.276<sup></sup></td></tr><tr><td style=\"text-align:left\"></td><td>(0.248)</td><td>(0.247)</td><td>(0.247)</td><td>(0.250)</td><td>(0.221)</td><td>(0.248)</td><td>(0.247)</td></tr><tr><td style=\"text-align:left\">issue_country_year_fe_FR2017</td><td>0.686<sup>***</sup></td><td>0.669<sup>***</sup></td><td>0.422<sup>***</sup></td><td>0.340<sup>***</sup></td><td>0.733<sup>***</sup></td><td>0.424<sup>***</sup></td><td>0.430<sup>***</sup></td></tr><tr><td style=\"text-align:left\"></td><td>(0.231)</td><td>(0.230)</td><td>(0.059)</td><td>(0.064)</td><td>(0.156)</td><td>(0.061)</td><td>(0.066)</td></tr><tr><td style=\"text-align:left\">issue_country_year_fe_FR2018</td><td>-0.877<sup>***</sup></td><td>-0.829<sup>***</sup></td><td>-0.873<sup>***</sup></td><td>-0.845<sup>***</sup></td><td>0.473<sup>***</sup></td><td>-0.838<sup>***</sup></td><td>-0.844<sup>***</sup></td></tr><tr><td style=\"text-align:left\"></td><td>(0.059)</td><td>(0.059)</td><td>(0.061)</td><td>(0.061)</td><td>(0.100)</td><td>(0.061)</td><td>(0.063)</td></tr><tr><td style=\"text-align:left\">issue_country_year_fe_FR2019</td><td>0.321<sup>***</sup></td><td>0.313<sup>***</sup></td><td>-0.771<sup>***</sup></td><td>0.323<sup>***</sup></td><td>0.327<sup>***</sup></td><td>0.286<sup>***</sup></td><td>-0.751<sup>***</sup></td></tr><tr><td style=\"text-align:left\"></td><td>(0.105)</td><td>(0.105)</td><td>(0.084)</td><td>(0.106)</td><td>(0.108)</td><td>(0.107)</td><td>(0.086)</td></tr><tr><td style=\"text-align:left\">issue_country_year_fe_FR2020</td><td>0.167<sup>**</sup></td><td>0.132<sup>*</sup></td><td>0.158<sup>**</sup></td><td>0.154<sup>*</sup></td><td>0.218<sup>***</sup></td><td>0.083<sup></sup></td><td>0.081<sup></sup></td></tr><tr><td style=\"text-align:left\"></td><td>(0.077)</td><td>(0.072)</td><td>(0.076)</td><td>(0.079)</td><td>(0.079)</td><td>(0.073)</td><td>(0.072)</td></tr><tr><td style=\"text-align:left\">issue_country_year_fe_FR2021</td><td>0.336<sup></sup></td><td>0.362<sup></sup></td><td>0.358<sup></sup></td><td>0.359<sup></sup></td><td>0.334<sup>*</sup></td><td>0.345<sup></sup></td><td>0.353<sup></sup></td></tr><tr><td style=\"text-align:left\"></td><td>(0.219)</td><td>(0.220)</td><td>(0.218)</td><td>(0.222)</td><td>(0.187)</td><td>(0.220)</td><td>(0.218)</td></tr><tr><td style=\"text-align:left\">issue_country_year_fe_GB2017</td><td>1.042<sup>***</sup></td><td>0.980<sup>***</sup></td><td>0.803<sup>***</sup></td><td>0.703<sup>***</sup></td><td>1.073<sup>***</sup></td><td>0.736<sup>***</sup></td><td>0.761<sup>***</sup></td></tr><tr><td style=\"text-align:left\"></td><td>(0.230)</td><td>(0.230)</td><td>(0.055)</td><td>(0.061)</td><td>(0.155)</td><td>(0.056)</td><td>(0.062)</td></tr><tr><td style=\"text-align:left\">issue_country_year_fe_GB2018</td><td>-0.323<sup>***</sup></td><td>-0.312<sup>***</sup></td><td>-0.298<sup>***</sup></td><td>-0.287<sup>***</sup></td><td>1.009<sup>***</sup></td><td>-0.321<sup>***</sup></td><td>-0.306<sup>***</sup></td></tr><tr><td style=\"text-align:left\"></td><td>(0.021)</td><td>(0.023)</td><td>(0.022)</td><td>(0.025)</td><td>(0.082)</td><td>(0.026)</td><td>(0.027)</td></tr><tr><td style=\"text-align:left\">issue_country_year_fe_GB2019</td><td>0.719<sup>***</sup></td><td>0.680<sup>***</sup></td><td>-0.350<sup>***</sup></td><td>0.734<sup>***</sup></td><td>0.707<sup>***</sup></td><td>0.650<sup>***</sup></td><td>-0.365<sup>***</sup></td></tr><tr><td style=\"text-align:left\"></td><td>(0.065)</td><td>(0.062)</td><td>(0.030)</td><td>(0.068)</td><td>(0.079)</td><td>(0.067)</td><td>(0.033)</td></tr><tr><td style=\"text-align:left\">issue_country_year_fe_GB2020</td><td>0.265<sup>***</sup></td><td>0.208<sup>***</sup></td><td>0.289<sup>***</sup></td><td>0.292<sup>***</sup></td><td>0.314<sup>***</sup></td><td>0.191<sup>***</sup></td><td>0.215<sup>***</sup></td></tr><tr><td style=\"text-align:left\"></td><td>(0.071)</td><td>(0.064)</td><td>(0.069)</td><td>(0.070)</td><td>(0.073)</td><td>(0.064)</td><td>(0.063)</td></tr><tr><td style=\"text-align:left\">issue_country_year_fe_GB2021</td><td>0.589<sup>***</sup></td><td>0.595<sup>***</sup></td><td>0.623<sup>***</sup></td><td>0.623<sup>***</sup></td><td>0.573<sup>***</sup></td><td>0.586<sup>***</sup></td><td>0.604<sup>***</sup></td></tr><tr><td style=\"text-align:left\"></td><td>(0.213)</td><td>(0.214)</td><td>(0.211)</td><td>(0.216)</td><td>(0.180)</td><td>(0.214)</td><td>(0.212)</td></tr><tr><td style=\"text-align:left\">issue_country_year_fe_GR2017</td><td></td><td></td><td></td><td></td><td>-0.578<sup>***</sup></td><td></td><td></td></tr><tr><td style=\"text-align:left\"></td><td></td><td></td><td></td><td></td><td>(0.164)</td><td></td><td></td></tr><tr><td style=\"text-align:left\">issue_country_year_fe_GR2018</td><td></td><td></td><td></td><td></td><td>-0.033<sup></sup></td><td></td><td></td></tr><tr><td style=\"text-align:left\"></td><td></td><td></td><td></td><td></td><td>(0.143)</td><td></td><td></td></tr><tr><td style=\"text-align:left\">issue_country_year_fe_GR2019</td><td>-0.594<sup>***</sup></td><td>-0.618<sup>***</sup></td><td>-1.652<sup>***</sup></td><td>-0.577<sup>***</sup></td><td>-0.349<sup>*</sup></td><td>-0.653<sup>***</sup></td><td>-1.652<sup>***</sup></td></tr><tr><td style=\"text-align:left\"></td><td>(0.156)</td><td>(0.184)</td><td>(0.140)</td><td>(0.155)</td><td>(0.189)</td><td>(0.187)</td><td>(0.174)</td></tr><tr><td style=\"text-align:left\">issue_country_year_fe_GR2020</td><td></td><td></td><td></td><td></td><td>-0.100<sup></sup></td><td></td><td></td></tr><tr><td style=\"text-align:left\"></td><td></td><td></td><td></td><td></td><td>(0.100)</td><td></td><td></td></tr><tr><td style=\"text-align:left\">issue_country_year_fe_GR2021</td><td>-0.105<sup></sup></td><td>-0.170<sup></sup></td><td>-0.072<sup></sup></td><td>-0.046<sup></sup></td><td>-0.039<sup></sup></td><td>-0.184<sup></sup></td><td>-0.166<sup></sup></td></tr><tr><td style=\"text-align:left\"></td><td>(0.229)</td><td>(0.230)</td><td>(0.229)</td><td>(0.233)</td><td>(0.195)</td><td>(0.231)</td><td>(0.231)</td></tr><tr><td style=\"text-align:left\">issue_country_year_fe_HK2017</td><td>0.394<sup></sup></td><td>0.284<sup></sup></td><td>0.196<sup>**</sup></td><td>0.107<sup></sup></td><td>0.097<sup></sup></td><td>0.042<sup></sup></td><td>0.095<sup></sup></td></tr><tr><td style=\"text-align:left\"></td><td>(0.242)</td><td>(0.243)</td><td>(0.093)</td><td>(0.095)</td><td>(0.223)</td><td>(0.094)</td><td>(0.097)</td></tr><tr><td style=\"text-align:left\">issue_country_year_fe_HK2018</td><td>-0.960<sup>***</sup></td><td>-0.943<sup>***</sup></td><td>-0.951<sup>***</sup></td><td>-0.892<sup>***</sup></td><td>0.212<sup></sup></td><td>-0.949<sup>***</sup></td><td>-0.963<sup>***</sup></td></tr><tr><td style=\"text-align:left\"></td><td>(0.095)</td><td>(0.105)</td><td>(0.108)</td><td>(0.103)</td><td>(0.164)</td><td>(0.109)</td><td>(0.115)</td></tr><tr><td style=\"text-align:left\">issue_country_year_fe_HK2019</td><td>-0.294<sup></sup></td><td>-0.279<sup></sup></td><td>-1.417<sup>***</sup></td><td>-0.269<sup></sup></td><td>-0.308<sup></sup></td><td>-0.305<sup></sup></td><td>-1.387<sup>***</sup></td></tr><tr><td style=\"text-align:left\"></td><td>(0.391)</td><td>(0.462)</td><td>(0.376)</td><td>(0.387)</td><td>(0.212)</td><td>(0.465)</td><td>(0.452)</td></tr><tr><td style=\"text-align:left\">issue_country_year_fe_HK2020</td><td>-0.163<sup></sup></td><td>-0.192<sup></sup></td><td>-0.156<sup></sup></td><td>-0.132<sup></sup></td><td>-0.145<sup></sup></td><td>-0.187<sup></sup></td><td>-0.233<sup>*</sup></td></tr><tr><td style=\"text-align:left\"></td><td>(0.104)</td><td>(0.124)</td><td>(0.105)</td><td>(0.105)</td><td>(0.113)</td><td>(0.145)</td><td>(0.138)</td></tr><tr><td style=\"text-align:left\">issue_country_year_fe_HK2021</td><td>0.105<sup></sup></td><td>0.131<sup></sup></td><td>0.122<sup></sup></td><td>0.047<sup></sup></td><td>-0.040<sup></sup></td><td>0.053<sup></sup></td><td>0.022<sup></sup></td></tr><tr><td style=\"text-align:left\"></td><td>(0.227)</td><td>(0.226)</td><td>(0.230)</td><td>(0.243)</td><td>(0.215)</td><td>(0.236)</td><td>(0.232)</td></tr><tr><td style=\"text-align:left\">issue_country_year_fe_HU2017</td><td></td><td></td><td></td><td></td><td>-0.438<sup>***</sup></td><td></td><td></td></tr><tr><td style=\"text-align:left\"></td><td></td><td></td><td></td><td></td><td>(0.160)</td><td></td><td></td></tr><tr><td style=\"text-align:left\">issue_country_year_fe_HU2018</td><td></td><td></td><td></td><td></td><td>0.032<sup></sup></td><td></td><td></td></tr><tr><td style=\"text-align:left\"></td><td></td><td></td><td></td><td></td><td>(0.096)</td><td></td><td></td></tr><tr><td style=\"text-align:left\">issue_country_year_fe_HU2019</td><td></td><td></td><td></td><td></td><td>0.092<sup></sup></td><td></td><td></td></tr><tr><td style=\"text-align:left\"></td><td></td><td></td><td></td><td></td><td>(0.113)</td><td></td><td></td></tr><tr><td style=\"text-align:left\">issue_country_year_fe_HU2020</td><td></td><td></td><td></td><td></td><td>-0.288<sup>***</sup></td><td></td><td></td></tr><tr><td style=\"text-align:left\"></td><td></td><td></td><td></td><td></td><td>(0.107)</td><td></td><td></td></tr><tr><td style=\"text-align:left\">issue_country_year_fe_HU2021</td><td></td><td></td><td></td><td></td><td>-0.202<sup></sup></td><td></td><td></td></tr><tr><td style=\"text-align:left\"></td><td></td><td></td><td></td><td></td><td>(0.186)</td><td></td><td></td></tr><tr><td style=\"text-align:left\">issue_country_year_fe_ID2017</td><td>-0.930<sup>***</sup></td><td>-1.069<sup>***</sup></td><td>-1.213<sup>***</sup></td><td>-1.277<sup>***</sup></td><td>-0.272<sup></sup></td><td>-1.306<sup>***</sup></td><td>-1.346<sup>***</sup></td></tr><tr><td style=\"text-align:left\"></td><td>(0.234)</td><td>(0.234)</td><td>(0.070)</td><td>(0.076)</td><td>(0.279)</td><td>(0.074)</td><td>(0.079)</td></tr><tr><td style=\"text-align:left\">issue_country_year_fe_ID2018</td><td>-0.957<sup>***</sup></td><td>-1.016<sup>***</sup></td><td>-0.968<sup>***</sup></td><td>-0.919<sup>***</sup></td><td>0.229<sup>*</sup></td><td>-1.020<sup>***</sup></td><td>-1.063<sup>***</sup></td></tr><tr><td style=\"text-align:left\"></td><td>(0.072)</td><td>(0.076)</td><td>(0.071)</td><td>(0.074)</td><td>(0.119)</td><td>(0.077)</td><td>(0.077)</td></tr><tr><td style=\"text-align:left\">issue_country_year_fe_ID2019</td><td></td><td></td><td></td><td></td><td>-0.179<sup></sup></td><td></td><td></td></tr><tr><td style=\"text-align:left\"></td><td></td><td></td><td></td><td></td><td>(0.144)</td><td></td><td></td></tr><tr><td style=\"text-align:left\">issue_country_year_fe_ID2020</td><td>-1.813<sup>***</sup></td><td>-1.958<sup>***</sup></td><td>-1.819<sup>***</sup></td><td>-1.865<sup>***</sup></td><td>-0.679<sup>**</sup></td><td>-2.053<sup>***</sup></td><td>-2.097<sup>***</sup></td></tr><tr><td style=\"text-align:left\"></td><td>(0.117)</td><td>(0.118)</td><td>(0.116)</td><td>(0.109)</td><td>(0.344)</td><td>(0.105)</td><td>(0.105)</td></tr><tr><td style=\"text-align:left\">issue_country_year_fe_ID2021</td><td></td><td></td><td></td><td></td><td>-0.268<sup></sup></td><td></td><td></td></tr><tr><td style=\"text-align:left\"></td><td></td><td></td><td></td><td></td><td>(0.210)</td><td></td><td></td></tr><tr><td style=\"text-align:left\">issue_country_year_fe_IE2017</td><td></td><td></td><td></td><td></td><td>-0.692<sup>***</sup></td><td></td><td></td></tr><tr><td style=\"text-align:left\"></td><td></td><td></td><td></td><td></td><td>(0.158)</td><td></td><td></td></tr><tr><td style=\"text-align:left\">issue_country_year_fe_IE2018</td><td>-2.699<sup>***</sup></td><td>-2.754<sup>***</sup></td><td>-2.703<sup>***</sup></td><td>-2.649<sup>***</sup></td><td>-1.160<sup>***</sup></td><td>-2.767<sup>***</sup></td><td>-2.785<sup>***</sup></td></tr><tr><td style=\"text-align:left\"></td><td>(0.513)</td><td>(0.455)</td><td>(0.541)</td><td>(0.507)</td><td>(0.288)</td><td>(0.455)</td><td>(0.484)</td></tr><tr><td style=\"text-align:left\">issue_country_year_fe_IE2019</td><td></td><td></td><td></td><td></td><td>-0.841<sup>**</sup></td><td></td><td></td></tr><tr><td style=\"text-align:left\"></td><td></td><td></td><td></td><td></td><td>(0.408)</td><td></td><td></td></tr><tr><td style=\"text-align:left\">issue_country_year_fe_IE2020</td><td></td><td></td><td></td><td></td><td>-1.926<sup>***</sup></td><td></td><td></td></tr><tr><td style=\"text-align:left\"></td><td></td><td></td><td></td><td></td><td>(0.122)</td><td></td><td></td></tr><tr><td style=\"text-align:left\">issue_country_year_fe_IE2021</td><td></td><td></td><td></td><td></td><td>-1.249<sup>***</sup></td><td></td><td></td></tr><tr><td style=\"text-align:left\"></td><td></td><td></td><td></td><td></td><td>(0.209)</td><td></td><td></td></tr><tr><td style=\"text-align:left\">issue_country_year_fe_IL2018</td><td>-1.755<sup>***</sup></td><td></td><td>-1.754<sup>***</sup></td><td>-1.708<sup>***</sup></td><td>-0.345<sup>**</sup></td><td></td><td></td></tr><tr><td style=\"text-align:left\"></td><td>(0.136)</td><td></td><td>(0.136)</td><td>(0.137)</td><td>(0.148)</td><td></td><td></td></tr><tr><td style=\"text-align:left\">issue_country_year_fe_IL2019</td><td></td><td></td><td></td><td></td><td>0.043<sup></sup></td><td></td><td></td></tr><tr><td style=\"text-align:left\"></td><td></td><td></td><td></td><td></td><td>(0.131)</td><td></td><td></td></tr><tr><td style=\"text-align:left\">issue_country_year_fe_IL2020</td><td></td><td></td><td></td><td></td><td>-0.245<sup>*</sup></td><td></td><td></td></tr><tr><td style=\"text-align:left\"></td><td></td><td></td><td></td><td></td><td>(0.148)</td><td></td><td></td></tr><tr><td style=\"text-align:left\">issue_country_year_fe_IL2021</td><td>-1.049<sup>**</sup></td><td></td><td>-1.042<sup>**</sup></td><td>-1.007<sup>**</sup></td><td>-0.691<sup>**</sup></td><td></td><td></td></tr><tr><td style=\"text-align:left\"></td><td>(0.412)</td><td></td><td>(0.408)</td><td>(0.412)</td><td>(0.323)</td><td></td><td></td></tr><tr><td style=\"text-align:left\">issue_country_year_fe_IN2019</td><td></td><td></td><td></td><td></td><td>0.365<sup>***</sup></td><td></td><td></td></tr><tr><td style=\"text-align:left\"></td><td></td><td></td><td></td><td></td><td>(0.115)</td><td></td><td></td></tr><tr><td style=\"text-align:left\">issue_country_year_fe_IN2020</td><td></td><td></td><td></td><td></td><td>0.089<sup></sup></td><td></td><td></td></tr><tr><td style=\"text-align:left\"></td><td></td><td></td><td></td><td></td><td>(0.118)</td><td></td><td></td></tr><tr><td style=\"text-align:left\">issue_country_year_fe_IN2021</td><td></td><td></td><td></td><td></td><td>0.180<sup></sup></td><td></td><td></td></tr><tr><td style=\"text-align:left\"></td><td></td><td></td><td></td><td></td><td>(0.218)</td><td></td><td></td></tr><tr><td style=\"text-align:left\">issue_country_year_fe_IS2017</td><td></td><td></td><td></td><td></td><td>0.269<sup></sup></td><td></td><td></td></tr><tr><td style=\"text-align:left\"></td><td></td><td></td><td></td><td></td><td>(0.169)</td><td></td><td></td></tr><tr><td style=\"text-align:left\">issue_country_year_fe_IS2018</td><td></td><td></td><td></td><td></td><td>0.139<sup></sup></td><td></td><td></td></tr><tr><td style=\"text-align:left\"></td><td></td><td></td><td></td><td></td><td>(0.137)</td><td></td><td></td></tr><tr><td style=\"text-align:left\">issue_country_year_fe_IS2019</td><td>-0.742<sup>*</sup></td><td>-0.987<sup>***</sup></td><td>-1.809<sup>***</sup></td><td>-0.715<sup>*</sup></td><td>-0.322<sup></sup></td><td>-1.030<sup>***</sup></td><td>-2.057<sup>***</sup></td></tr><tr><td style=\"text-align:left\"></td><td>(0.409)</td><td>(0.380)</td><td>(0.403)</td><td>(0.395)</td><td>(0.223)</td><td>(0.385)</td><td>(0.377)</td></tr><tr><td style=\"text-align:left\">issue_country_year_fe_IS2020</td><td>-0.153<sup></sup></td><td>-0.366<sup>**</sup></td><td>-0.222<sup>**</sup></td><td>-0.080<sup></sup></td><td>-0.112<sup></sup></td><td>-0.408<sup>**</sup></td><td>-0.503<sup>***</sup></td></tr><tr><td style=\"text-align:left\"></td><td>(0.119)</td><td>(0.159)</td><td>(0.100)</td><td>(0.139)</td><td>(0.119)</td><td>(0.163)</td><td>(0.140)</td></tr><tr><td style=\"text-align:left\">issue_country_year_fe_IS2021</td><td></td><td></td><td></td><td></td><td>-0.419<sup></sup></td><td></td><td></td></tr><tr><td style=\"text-align:left\"></td><td></td><td></td><td></td><td></td><td>(0.491)</td><td></td><td></td></tr><tr><td style=\"text-align:left\">issue_country_year_fe_IT2017</td><td>-0.191<sup></sup></td><td>-0.227<sup></sup></td><td>-0.430<sup></sup></td><td>-0.556<sup>*</sup></td><td>0.031<sup></sup></td><td>-0.466<sup></sup></td><td>-0.433<sup></sup></td></tr><tr><td style=\"text-align:left\"></td><td>(0.377)</td><td>(0.370)</td><td>(0.300)</td><td>(0.305)</td><td>(0.262)</td><td>(0.297)</td><td>(0.294)</td></tr><tr><td style=\"text-align:left\">issue_country_year_fe_IT2018</td><td>-1.584<sup>***</sup></td><td>-1.576<sup>***</sup></td><td>-1.592<sup>***</sup></td><td>-1.573<sup>***</sup></td><td>0.006<sup></sup></td><td>-1.574<sup>***</sup></td><td>-1.597<sup>***</sup></td></tr><tr><td style=\"text-align:left\"></td><td>(0.373)</td><td>(0.389)</td><td>(0.380)</td><td>(0.377)</td><td>(0.291)</td><td>(0.388)</td><td>(0.398)</td></tr><tr><td style=\"text-align:left\">issue_country_year_fe_IT2019</td><td>0.045<sup></sup></td><td>-0.019<sup></sup></td><td>-1.038<sup>***</sup></td><td>0.011<sup></sup></td><td>0.078<sup></sup></td><td>-0.067<sup></sup></td><td>-1.096<sup>***</sup></td></tr><tr><td style=\"text-align:left\"></td><td>(0.101)</td><td>(0.098)</td><td>(0.082)</td><td>(0.104)</td><td>(0.107)</td><td>(0.102)</td><td>(0.083)</td></tr><tr><td style=\"text-align:left\">issue_country_year_fe_IT2020</td><td>-0.387<sup>**</sup></td><td>-0.449<sup>***</sup></td><td>-0.375<sup>**</sup></td><td>-0.440<sup>**</sup></td><td>-0.269<sup>*</sup></td><td>-0.504<sup>***</sup></td><td>-0.512<sup>***</sup></td></tr><tr><td style=\"text-align:left\"></td><td>(0.164)</td><td>(0.156)</td><td>(0.162)</td><td>(0.180)</td><td>(0.144)</td><td>(0.172)</td><td>(0.170)</td></tr><tr><td style=\"text-align:left\">issue_country_year_fe_IT2021</td><td>0.089<sup></sup></td><td>0.079<sup></sup></td><td>0.132<sup></sup></td><td>0.120<sup></sup></td><td>0.088<sup></sup></td><td>0.077<sup></sup></td><td>0.106<sup></sup></td></tr><tr><td style=\"text-align:left\"></td><td>(0.217)</td><td>(0.218)</td><td>(0.215)</td><td>(0.220)</td><td>(0.184)</td><td>(0.218)</td><td>(0.216)</td></tr><tr><td style=\"text-align:left\">issue_country_year_fe_JP2017</td><td></td><td></td><td></td><td></td><td>0.260<sup></sup></td><td></td><td></td></tr><tr><td style=\"text-align:left\"></td><td></td><td></td><td></td><td></td><td>(0.168)</td><td></td><td></td></tr><tr><td style=\"text-align:left\">issue_country_year_fe_JP2018</td><td>-1.916<sup>***</sup></td><td>-1.982<sup>***</sup></td><td>-1.879<sup>***</sup></td><td>-1.934<sup>***</sup></td><td>-0.162<sup></sup></td><td>-1.976<sup>***</sup></td><td>-1.953<sup>***</sup></td></tr><tr><td style=\"text-align:left\"></td><td>(0.293)</td><td>(0.275)</td><td>(0.293)</td><td>(0.295)</td><td>(0.304)</td><td>(0.275)</td><td>(0.272)</td></tr><tr><td style=\"text-align:left\">issue_country_year_fe_JP2019</td><td>-0.848<sup>***</sup></td><td>-0.940<sup>***</sup></td><td>-1.914<sup>***</sup></td><td>-0.900<sup>***</sup></td><td>-0.501<sup>**</sup></td><td>-0.955<sup>***</sup></td><td>-1.966<sup>***</sup></td></tr><tr><td style=\"text-align:left\"></td><td>(0.229)</td><td>(0.204)</td><td>(0.222)</td><td>(0.229)</td><td>(0.244)</td><td>(0.205)</td><td>(0.195)</td></tr><tr><td style=\"text-align:left\">issue_country_year_fe_JP2020</td><td>-0.795<sup>***</sup></td><td>-0.884<sup>***</sup></td><td>-0.694<sup>***</sup></td><td>-0.732<sup>***</sup></td><td>-0.631<sup>***</sup></td><td>-0.827<sup>***</sup></td><td>-0.808<sup>***</sup></td></tr><tr><td style=\"text-align:left\"></td><td>(0.169)</td><td>(0.167)</td><td>(0.160)</td><td>(0.177)</td><td>(0.165)</td><td>(0.177)</td><td>(0.177)</td></tr><tr><td style=\"text-align:left\">issue_country_year_fe_JP2021</td><td>-0.273<sup></sup></td><td>-0.267<sup></sup></td><td>-0.237<sup></sup></td><td>-0.333<sup></sup></td><td>-0.227<sup></sup></td><td>-0.330<sup></sup></td><td>-0.298<sup></sup></td></tr><tr><td style=\"text-align:left\"></td><td>(0.234)</td><td>(0.233)</td><td>(0.234)</td><td>(0.235)</td><td>(0.204)</td><td>(0.232)</td><td>(0.232)</td></tr><tr><td style=\"text-align:left\">issue_country_year_fe_KR2017</td><td>0.176<sup></sup></td><td>0.135<sup></sup></td><td>-0.086<sup></sup></td><td>-0.191<sup></sup></td><td>0.234<sup></sup></td><td>-0.103<sup></sup></td><td>-0.097<sup></sup></td></tr><tr><td style=\"text-align:left\"></td><td>(0.260)</td><td>(0.255)</td><td>(0.132)</td><td>(0.140)</td><td>(0.197)</td><td>(0.126)</td><td>(0.126)</td></tr><tr><td style=\"text-align:left\">issue_country_year_fe_KR2018</td><td>-0.712<sup>***</sup></td><td>-0.735<sup>***</sup></td><td>-0.629<sup>***</sup></td><td>-0.693<sup>***</sup></td><td>0.653<sup>***</sup></td><td>-0.739<sup>***</sup></td><td>-0.679<sup>***</sup></td></tr><tr><td style=\"text-align:left\"></td><td>(0.090)</td><td>(0.081)</td><td>(0.054)</td><td>(0.090)</td><td>(0.120)</td><td>(0.082)</td><td>(0.048)</td></tr><tr><td style=\"text-align:left\">issue_country_year_fe_KR2019</td><td>0.075<sup></sup></td><td>0.065<sup></sup></td><td>-0.980<sup>***</sup></td><td>0.051<sup></sup></td><td>0.080<sup></sup></td><td>0.040<sup></sup></td><td>-0.953<sup>***</sup></td></tr><tr><td style=\"text-align:left\"></td><td>(0.100)</td><td>(0.096)</td><td>(0.072)</td><td>(0.102)</td><td>(0.109)</td><td>(0.098)</td><td>(0.069)</td></tr><tr><td style=\"text-align:left\">issue_country_year_fe_KR2020</td><td>-0.071<sup></sup></td><td>-0.103<sup></sup></td><td>-0.052<sup></sup></td><td>-0.104<sup></sup></td><td>-0.016<sup></sup></td><td>-0.140<sup>*</sup></td><td>-0.116<sup></sup></td></tr><tr><td style=\"text-align:left\"></td><td>(0.085)</td><td>(0.079)</td><td>(0.084)</td><td>(0.090)</td><td>(0.087)</td><td>(0.083)</td><td>(0.080)</td></tr><tr><td style=\"text-align:left\">issue_country_year_fe_KR2021</td><td>-0.037<sup></sup></td><td>-0.016<sup></sup></td><td>-0.015<sup></sup></td><td>-0.064<sup></sup></td><td>-0.037<sup></sup></td><td>-0.039<sup></sup></td><td>-0.017<sup></sup></td></tr><tr><td style=\"text-align:left\"></td><td>(0.242)</td><td>(0.240)</td><td>(0.241)</td><td>(0.244)</td><td>(0.210)</td><td>(0.239)</td><td>(0.238)</td></tr><tr><td style=\"text-align:left\">issue_country_year_fe_LT2018</td><td></td><td></td><td></td><td></td><td>-0.607<sup>***</sup></td><td></td><td></td></tr><tr><td style=\"text-align:left\"></td><td></td><td></td><td></td><td></td><td>(0.121)</td><td></td><td></td></tr><tr><td style=\"text-align:left\">issue_country_year_fe_LT2019</td><td></td><td></td><td></td><td></td><td>-0.222<sup>*</sup></td><td></td><td></td></tr><tr><td style=\"text-align:left\"></td><td></td><td></td><td></td><td></td><td>(0.114)</td><td></td><td></td></tr><tr><td style=\"text-align:left\">issue_country_year_fe_LT2020</td><td></td><td></td><td></td><td></td><td>-0.497<sup>***</sup></td><td></td><td></td></tr><tr><td style=\"text-align:left\"></td><td></td><td></td><td></td><td></td><td>(0.097)</td><td></td><td></td></tr><tr><td style=\"text-align:left\">issue_country_year_fe_LT2021</td><td></td><td></td><td></td><td></td><td>-0.519<sup>***</sup></td><td></td><td></td></tr><tr><td style=\"text-align:left\"></td><td></td><td></td><td></td><td></td><td>(0.191)</td><td></td><td></td></tr><tr><td style=\"text-align:left\">issue_country_year_fe_LV2017</td><td></td><td></td><td></td><td></td><td>-0.635<sup></sup></td><td></td><td></td></tr><tr><td style=\"text-align:left\"></td><td></td><td></td><td></td><td></td><td>(0.497)</td><td></td><td></td></tr><tr><td style=\"text-align:left\">issue_country_year_fe_LV2018</td><td></td><td></td><td></td><td></td><td>0.032<sup></sup></td><td></td><td></td></tr><tr><td style=\"text-align:left\"></td><td></td><td></td><td></td><td></td><td>(0.107)</td><td></td><td></td></tr><tr><td style=\"text-align:left\">issue_country_year_fe_LV2019</td><td></td><td></td><td></td><td></td><td>-0.238<sup>*</sup></td><td></td><td></td></tr><tr><td style=\"text-align:left\"></td><td></td><td></td><td></td><td></td><td>(0.139)</td><td></td><td></td></tr><tr><td style=\"text-align:left\">issue_country_year_fe_LV2020</td><td></td><td></td><td></td><td></td><td>-0.666<sup>***</sup></td><td></td><td></td></tr><tr><td style=\"text-align:left\"></td><td></td><td></td><td></td><td></td><td>(0.099)</td><td></td><td></td></tr><tr><td style=\"text-align:left\">issue_country_year_fe_LV2021</td><td></td><td></td><td></td><td></td><td>-0.551<sup>***</sup></td><td></td><td></td></tr><tr><td style=\"text-align:left\"></td><td></td><td></td><td></td><td></td><td>(0.199)</td><td></td><td></td></tr><tr><td style=\"text-align:left\">issue_country_year_fe_MX2017</td><td>0.609<sup>***</sup></td><td>0.570<sup>**</sup></td><td>0.372<sup>***</sup></td><td>0.194<sup>**</sup></td><td>0.572<sup>***</sup></td><td>0.349<sup>***</sup></td><td>0.401<sup>***</sup></td></tr><tr><td style=\"text-align:left\"></td><td>(0.233)</td><td>(0.232)</td><td>(0.069)</td><td>(0.086)</td><td>(0.159)</td><td>(0.080)</td><td>(0.085)</td></tr><tr><td style=\"text-align:left\">issue_country_year_fe_MX2018</td><td>-0.446<sup>***</sup></td><td>-0.394<sup>***</sup></td><td>-0.439<sup>***</sup></td><td>-0.398<sup>***</sup></td><td>0.812<sup>***</sup></td><td>-0.388<sup>***</sup></td><td>-0.371<sup>***</sup></td></tr><tr><td style=\"text-align:left\"></td><td>(0.041)</td><td>(0.041)</td><td>(0.043)</td><td>(0.044)</td><td>(0.095)</td><td>(0.044)</td><td>(0.048)</td></tr><tr><td style=\"text-align:left\">issue_country_year_fe_MX2019</td><td>0.566<sup>***</sup></td><td>0.567<sup>***</sup></td><td>-0.527<sup>***</sup></td><td>0.565<sup>***</sup></td><td>0.492<sup>***</sup></td><td>0.600<sup>***</sup></td><td>-0.423<sup>***</sup></td></tr><tr><td style=\"text-align:left\"></td><td>(0.060)</td><td>(0.056)</td><td>(0.063)</td><td>(0.064)</td><td>(0.098)</td><td>(0.062)</td><td>(0.074)</td></tr><tr><td style=\"text-align:left\">issue_country_year_fe_MX2020</td><td>0.196<sup>**</sup></td><td>0.147<sup>*</sup></td><td>0.148<sup></sup></td><td>0.117<sup></sup></td><td>0.180<sup>*</sup></td><td>0.035<sup></sup></td><td>0.041<sup></sup></td></tr><tr><td style=\"text-align:left\"></td><td>(0.092)</td><td>(0.088)</td><td>(0.096)</td><td>(0.116)</td><td>(0.094)</td><td>(0.113)</td><td>(0.109)</td></tr><tr><td style=\"text-align:left\">issue_country_year_fe_MX2021</td><td>0.501<sup>**</sup></td><td>0.541<sup>**</sup></td><td>0.459<sup>**</sup></td><td>0.628<sup>***</sup></td><td>0.394<sup>**</sup></td><td>0.601<sup>***</sup></td><td>0.558<sup>**</sup></td></tr><tr><td style=\"text-align:left\"></td><td>(0.221)</td><td>(0.221)</td><td>(0.222)</td><td>(0.229)</td><td>(0.190)</td><td>(0.227)</td><td>(0.229)</td></tr><tr><td style=\"text-align:left\">issue_country_year_fe_MY2017</td><td></td><td></td><td></td><td></td><td>-0.007<sup></sup></td><td></td><td></td></tr><tr><td style=\"text-align:left\"></td><td></td><td></td><td></td><td></td><td>(0.162)</td><td></td><td></td></tr><tr><td style=\"text-align:left\">issue_country_year_fe_MY2018</td><td>-1.806<sup>***</sup></td><td>-1.887<sup>***</sup></td><td>-1.793<sup>***</sup></td><td>-1.728<sup>***</sup></td><td>0.012<sup></sup></td><td>-1.902<sup>***</sup></td><td>-1.931<sup>***</sup></td></tr><tr><td style=\"text-align:left\"></td><td>(0.088)</td><td>(0.085)</td><td>(0.081)</td><td>(0.093)</td><td>(0.180)</td><td>(0.090)</td><td>(0.084)</td></tr><tr><td style=\"text-align:left\">issue_country_year_fe_MY2019</td><td></td><td></td><td></td><td></td><td>-0.049<sup></sup></td><td></td><td></td></tr><tr><td style=\"text-align:left\"></td><td></td><td></td><td></td><td></td><td>(0.117)</td><td></td><td></td></tr><tr><td style=\"text-align:left\">issue_country_year_fe_MY2020</td><td>-1.689<sup>***</sup></td><td>-1.870<sup>***</sup></td><td>-1.681<sup>***</sup></td><td>-1.632<sup>***</sup></td><td>-0.867<sup>**</sup></td><td>-1.868<sup>***</sup></td><td>-1.905<sup>***</sup></td></tr><tr><td style=\"text-align:left\"></td><td>(0.176)</td><td>(0.159)</td><td>(0.172)</td><td>(0.159)</td><td>(0.349)</td><td>(0.155)</td><td>(0.154)</td></tr><tr><td style=\"text-align:left\">issue_country_year_fe_MY2021</td><td>-0.943<sup>*</sup></td><td>-1.059<sup>**</sup></td><td>-0.927<sup>*</sup></td><td>-0.951<sup>*</sup></td><td>-0.546<sup>*</sup></td><td>-1.110<sup>**</sup></td><td>-1.130<sup>**</sup></td></tr><tr><td style=\"text-align:left\"></td><td>(0.556)</td><td>(0.535)</td><td>(0.550)</td><td>(0.539)</td><td>(0.325)</td><td>(0.526)</td><td>(0.523)</td></tr><tr><td style=\"text-align:left\">issue_country_year_fe_NL2017</td><td>0.725<sup>***</sup></td><td>0.661<sup>***</sup></td><td>0.480<sup>***</sup></td><td>0.386<sup>***</sup></td><td>0.771<sup>***</sup></td><td>0.413<sup>***</sup></td><td>0.433<sup>***</sup></td></tr><tr><td style=\"text-align:left\"></td><td>(0.231)</td><td>(0.230)</td><td>(0.059)</td><td>(0.063)</td><td>(0.156)</td><td>(0.059)</td><td>(0.065)</td></tr><tr><td style=\"text-align:left\">issue_country_year_fe_NL2018</td><td>-0.634<sup>***</sup></td><td>-0.629<sup>***</sup></td><td>-0.605<sup>***</sup></td><td>-0.599<sup>***</sup></td><td>0.709<sup>***</sup></td><td>-0.644<sup>***</sup></td><td>-0.625<sup>***</sup></td></tr><tr><td style=\"text-align:left\"></td><td>(0.031)</td><td>(0.031)</td><td>(0.031)</td><td>(0.034)</td><td>(0.087)</td><td>(0.034)</td><td>(0.034)</td></tr><tr><td style=\"text-align:left\">issue_country_year_fe_NL2019</td><td>0.334<sup>***</sup></td><td>0.280<sup>***</sup></td><td>-0.733<sup>***</sup></td><td>0.335<sup>***</sup></td><td>0.346<sup>***</sup></td><td>0.237<sup>***</sup></td><td>-0.776<sup>***</sup></td></tr><tr><td style=\"text-align:left\"></td><td>(0.082)</td><td>(0.081)</td><td>(0.050)</td><td>(0.085)</td><td>(0.088)</td><td>(0.085)</td><td>(0.053)</td></tr><tr><td style=\"text-align:left\">issue_country_year_fe_NL2020</td><td>-0.349<sup>***</sup></td><td>-0.414<sup>***</sup></td><td>-0.316<sup>***</sup></td><td>-0.309<sup>**</sup></td><td>-0.288<sup>**</sup></td><td>-0.424<sup>***</sup></td><td>-0.403<sup>***</sup></td></tr><tr><td style=\"text-align:left\"></td><td>(0.120)</td><td>(0.116)</td><td>(0.118)</td><td>(0.130)</td><td>(0.112)</td><td>(0.126)</td><td>(0.125)</td></tr><tr><td style=\"text-align:left\">issue_country_year_fe_NL2021</td><td>0.221<sup></sup></td><td>0.205<sup></sup></td><td>0.263<sup></sup></td><td>0.265<sup></sup></td><td>0.221<sup></sup></td><td>0.205<sup></sup></td><td>0.232<sup></sup></td></tr><tr><td style=\"text-align:left\"></td><td>(0.215)</td><td>(0.215)</td><td>(0.213)</td><td>(0.217)</td><td>(0.180)</td><td>(0.215)</td><td>(0.213)</td></tr><tr><td style=\"text-align:left\">issue_country_year_fe_NO2017</td><td>0.362<sup></sup></td><td>0.268<sup></sup></td><td>0.119<sup></sup></td><td>0.049<sup></sup></td><td>0.417<sup>**</sup></td><td>0.015<sup></sup></td><td>0.031<sup></sup></td></tr><tr><td style=\"text-align:left\"></td><td>(0.237)</td><td>(0.237)</td><td>(0.079)</td><td>(0.079)</td><td>(0.163)</td><td>(0.077)</td><td>(0.083)</td></tr><tr><td style=\"text-align:left\">issue_country_year_fe_NO2018</td><td>-0.870<sup>***</sup></td><td>-0.891<sup>***</sup></td><td>-0.850<sup>***</sup></td><td>-0.807<sup>***</sup></td><td>0.475<sup>***</sup></td><td>-0.909<sup>***</sup></td><td>-0.903<sup>***</sup></td></tr><tr><td style=\"text-align:left\"></td><td>(0.069)</td><td>(0.071)</td><td>(0.068)</td><td>(0.073)</td><td>(0.103)</td><td>(0.075)</td><td>(0.075)</td></tr><tr><td style=\"text-align:left\">issue_country_year_fe_NO2019</td><td>0.129<sup></sup></td><td>0.064<sup></sup></td><td>-0.955<sup>***</sup></td><td>0.167<sup></sup></td><td>0.150<sup></sup></td><td>0.022<sup></sup></td><td>-1.013<sup>***</sup></td></tr><tr><td style=\"text-align:left\"></td><td>(0.106)</td><td>(0.106)</td><td>(0.081)</td><td>(0.111)</td><td>(0.102)</td><td>(0.112)</td><td>(0.089)</td></tr><tr><td style=\"text-align:left\">issue_country_year_fe_NO2020</td><td>-0.356<sup>***</sup></td><td>-0.421<sup>***</sup></td><td>-0.341<sup>***</sup></td><td>-0.314<sup>**</sup></td><td>-0.275<sup>**</sup></td><td>-0.441<sup>***</sup></td><td>-0.441<sup>***</sup></td></tr><tr><td style=\"text-align:left\"></td><td>(0.131)</td><td>(0.125)</td><td>(0.127)</td><td>(0.128)</td><td>(0.118)</td><td>(0.124)</td><td>(0.121)</td></tr><tr><td style=\"text-align:left\">issue_country_year_fe_NO2021</td><td>-0.369<sup></sup></td><td>-0.449<sup>*</sup></td><td>-0.360<sup></sup></td><td>-0.329<sup></sup></td><td>-0.285<sup></sup></td><td>-0.465<sup>*</sup></td><td>-0.481<sup>*</sup></td></tr><tr><td style=\"text-align:left\"></td><td>(0.261)</td><td>(0.260)</td><td>(0.255)</td><td>(0.261)</td><td>(0.225)</td><td>(0.259)</td><td>(0.253)</td></tr><tr><td style=\"text-align:left\">issue_country_year_fe_NZ2017</td><td>0.132<sup></sup></td><td>-0.047<sup></sup></td><td>-0.129<sup></sup></td><td>-0.212<sup></sup></td><td>0.133<sup></sup></td><td>-0.298<sup>**</sup></td><td>-0.294<sup>**</sup></td></tr><tr><td style=\"text-align:left\"></td><td>(0.258)</td><td>(0.258)</td><td>(0.127)</td><td>(0.130)</td><td>(0.189)</td><td>(0.128)</td><td>(0.129)</td></tr><tr><td style=\"text-align:left\">issue_country_year_fe_NZ2018</td><td>-0.994<sup>***</sup></td><td>-1.056<sup>***</sup></td><td>-0.952<sup>***</sup></td><td>-0.940<sup>***</sup></td><td>0.283<sup>**</sup></td><td>-1.061<sup>***</sup></td><td>-1.044<sup>***</sup></td></tr><tr><td style=\"text-align:left\"></td><td>(0.110)</td><td>(0.103)</td><td>(0.119)</td><td>(0.110)</td><td>(0.135)</td><td>(0.105)</td><td>(0.110)</td></tr><tr><td style=\"text-align:left\">issue_country_year_fe_NZ2019</td><td>-0.147<sup>*</sup></td><td>-0.264<sup>***</sup></td><td>-1.210<sup>***</sup></td><td>-0.125<sup></sup></td><td>-0.200<sup>**</sup></td><td>-0.289<sup>***</sup></td><td>-1.315<sup>***</sup></td></tr><tr><td style=\"text-align:left\"></td><td>(0.082)</td><td>(0.071)</td><td>(0.083)</td><td>(0.082)</td><td>(0.099)</td><td>(0.076)</td><td>(0.073)</td></tr><tr><td style=\"text-align:left\">issue_country_year_fe_NZ2020</td><td></td><td></td><td></td><td></td><td>-0.476<sup>***</sup></td><td></td><td></td></tr><tr><td style=\"text-align:left\"></td><td></td><td></td><td></td><td></td><td>(0.106)</td><td></td><td></td></tr><tr><td style=\"text-align:left\">issue_country_year_fe_NZ2021</td><td>-0.850<sup>***</sup></td><td>-0.958<sup>***</sup></td><td>-0.824<sup>***</sup></td><td>-0.825<sup>***</sup></td><td>-0.797<sup>***</sup></td><td>-0.961<sup>***</sup></td><td>-0.947<sup>***</sup></td></tr><tr><td style=\"text-align:left\"></td><td>(0.256)</td><td>(0.255)</td><td>(0.254)</td><td>(0.258)</td><td>(0.228)</td><td>(0.257)</td><td>(0.254)</td></tr><tr><td style=\"text-align:left\">issue_country_year_fe_PA2019</td><td></td><td></td><td></td><td></td><td>-1.479<sup>***</sup></td><td></td><td></td></tr><tr><td style=\"text-align:left\"></td><td></td><td></td><td></td><td></td><td>(0.103)</td><td></td><td></td></tr><tr><td style=\"text-align:left\">issue_country_year_fe_PE2018</td><td></td><td></td><td></td><td></td><td>-0.611<sup>***</sup></td><td></td><td></td></tr><tr><td style=\"text-align:left\"></td><td></td><td></td><td></td><td></td><td>(0.106)</td><td></td><td></td></tr><tr><td style=\"text-align:left\">issue_country_year_fe_PE2019</td><td></td><td></td><td></td><td></td><td>-0.356<sup>**</sup></td><td></td><td></td></tr><tr><td style=\"text-align:left\"></td><td></td><td></td><td></td><td></td><td>(0.177)</td><td></td><td></td></tr><tr><td style=\"text-align:left\">issue_country_year_fe_PE2020</td><td></td><td></td><td></td><td></td><td>-0.587<sup>***</sup></td><td></td><td></td></tr><tr><td style=\"text-align:left\"></td><td></td><td></td><td></td><td></td><td>(0.098)</td><td></td><td></td></tr><tr><td style=\"text-align:left\">issue_country_year_fe_PH2017</td><td></td><td></td><td></td><td></td><td>0.284<sup></sup></td><td></td><td></td></tr><tr><td style=\"text-align:left\"></td><td></td><td></td><td></td><td></td><td>(0.202)</td><td></td><td></td></tr><tr><td style=\"text-align:left\">issue_country_year_fe_PH2018</td><td></td><td></td><td></td><td></td><td>0.249<sup>**</sup></td><td></td><td></td></tr><tr><td style=\"text-align:left\"></td><td></td><td></td><td></td><td></td><td>(0.113)</td><td></td><td></td></tr><tr><td style=\"text-align:left\">issue_country_year_fe_PH2019</td><td>0.402<sup>***</sup></td><td>0.168<sup></sup></td><td>-0.750<sup>***</sup></td><td>0.410<sup>***</sup></td><td>0.073<sup></sup></td><td>0.131<sup></sup></td><td>-0.990<sup>***</sup></td></tr><tr><td style=\"text-align:left\"></td><td>(0.125)</td><td>(0.122)</td><td>(0.110)</td><td>(0.124)</td><td>(0.180)</td><td>(0.126)</td><td>(0.112)</td></tr><tr><td style=\"text-align:left\">issue_country_year_fe_PH2020</td><td>-0.229<sup>**</sup></td><td>-0.483<sup>***</sup></td><td>-0.274<sup>***</sup></td><td></td><td>-0.332<sup>**</sup></td><td></td><td></td></tr><tr><td style=\"text-align:left\"></td><td>(0.100)</td><td>(0.103)</td><td>(0.100)</td><td></td><td>(0.137)</td><td></td><td></td></tr><tr><td style=\"text-align:left\">issue_country_year_fe_PH2021</td><td>0.251<sup></sup></td><td>0.067<sup></sup></td><td>0.215<sup></sup></td><td>0.325<sup></sup></td><td>-0.064<sup></sup></td><td>0.090<sup></sup></td><td>0.020<sup></sup></td></tr><tr><td style=\"text-align:left\"></td><td>(0.249)</td><td>(0.257)</td><td>(0.250)</td><td>(0.268)</td><td>(0.230)</td><td>(0.279)</td><td>(0.281)</td></tr><tr><td style=\"text-align:left\">issue_country_year_fe_PL2017</td><td></td><td></td><td></td><td></td><td>0.352<sup>**</sup></td><td></td><td></td></tr><tr><td style=\"text-align:left\"></td><td></td><td></td><td></td><td></td><td>(0.169)</td><td></td><td></td></tr><tr><td style=\"text-align:left\">issue_country_year_fe_PL2018</td><td></td><td></td><td></td><td></td><td>0.370<sup>***</sup></td><td></td><td></td></tr><tr><td style=\"text-align:left\"></td><td></td><td></td><td></td><td></td><td>(0.104)</td><td></td><td></td></tr><tr><td style=\"text-align:left\">issue_country_year_fe_PL2019</td><td></td><td></td><td></td><td></td><td>0.402<sup>***</sup></td><td></td><td></td></tr><tr><td style=\"text-align:left\"></td><td></td><td></td><td></td><td></td><td>(0.113)</td><td></td><td></td></tr><tr><td style=\"text-align:left\">issue_country_year_fe_PL2020</td><td></td><td></td><td></td><td></td><td>0.112<sup></sup></td><td></td><td></td></tr><tr><td style=\"text-align:left\"></td><td></td><td></td><td></td><td></td><td>(0.114)</td><td></td><td></td></tr><tr><td style=\"text-align:left\">issue_country_year_fe_PL2021</td><td></td><td></td><td></td><td></td><td>0.279<sup></sup></td><td></td><td></td></tr><tr><td style=\"text-align:left\"></td><td></td><td></td><td></td><td></td><td>(0.191)</td><td></td><td></td></tr><tr><td style=\"text-align:left\">issue_country_year_fe_PT2017</td><td>-1.150<sup>***</sup></td><td>-1.275<sup>***</sup></td><td>-1.391<sup>***</sup></td><td>-1.491<sup>***</sup></td><td>-0.815<sup>***</sup></td><td>-1.523<sup>***</sup></td><td>-1.497<sup>***</sup></td></tr><tr><td style=\"text-align:left\"></td><td>(0.314)</td><td>(0.319)</td><td>(0.222)</td><td>(0.222)</td><td>(0.289)</td><td>(0.229)</td><td>(0.232)</td></tr><tr><td style=\"text-align:left\">issue_country_year_fe_PT2018</td><td>-2.434<sup>***</sup></td><td>-2.421<sup>***</sup></td><td>-2.418<sup>***</sup></td><td>-2.423<sup>***</sup></td><td>-0.226<sup></sup></td><td>-2.426<sup>***</sup></td><td>-2.411<sup>***</sup></td></tr><tr><td style=\"text-align:left\"></td><td>(0.708)</td><td>(0.730)</td><td>(0.706)</td><td>(0.711)</td><td>(0.327)</td><td>(0.729)</td><td>(0.728)</td></tr><tr><td style=\"text-align:left\">issue_country_year_fe_PT2019</td><td></td><td></td><td></td><td></td><td>0.113<sup></sup></td><td></td><td></td></tr><tr><td style=\"text-align:left\"></td><td></td><td></td><td></td><td></td><td>(0.133)</td><td></td><td></td></tr><tr><td style=\"text-align:left\">issue_country_year_fe_PT2020</td><td></td><td></td><td></td><td></td><td>-0.336<sup>***</sup></td><td></td><td></td></tr><tr><td style=\"text-align:left\"></td><td></td><td></td><td></td><td></td><td>(0.117)</td><td></td><td></td></tr><tr><td style=\"text-align:left\">issue_country_year_fe_PT2021</td><td>-1.327<sup>***</sup></td><td>-1.393<sup>***</sup></td><td>-1.270<sup>***</sup></td><td>-1.315<sup>***</sup></td><td>-0.520<sup></sup></td><td>-1.400<sup>***</sup></td><td>-1.359<sup>***</sup></td></tr><tr><td style=\"text-align:left\"></td><td>(0.466)</td><td>(0.489)</td><td>(0.468)</td><td>(0.455)</td><td>(0.410)</td><td>(0.493)</td><td>(0.491)</td></tr><tr><td style=\"text-align:left\">issue_country_year_fe_PY2021</td><td></td><td></td><td></td><td></td><td>-0.767<sup>***</sup></td><td></td><td></td></tr><tr><td style=\"text-align:left\"></td><td></td><td></td><td></td><td></td><td>(0.209)</td><td></td><td></td></tr><tr><td style=\"text-align:left\">issue_country_year_fe_RO2017</td><td>-1.039<sup>*</sup></td><td>-1.093<sup>*</sup></td><td>-1.255<sup>**</sup></td><td>-1.370<sup>**</sup></td><td>-0.982<sup>*</sup></td><td>-1.339<sup>**</sup></td><td>-1.284<sup>**</sup></td></tr><tr><td style=\"text-align:left\"></td><td>(0.592)</td><td>(0.615)</td><td>(0.543)</td><td>(0.555)</td><td>(0.570)</td><td>(0.574)</td><td>(0.569)</td></tr><tr><td style=\"text-align:left\">issue_country_year_fe_RO2018</td><td>-2.373<sup>***</sup></td><td>-2.351<sup>***</sup></td><td>-2.335<sup>***</sup></td><td>-2.334<sup>***</sup></td><td>-0.736<sup>**</sup></td><td>-2.357<sup>***</sup></td><td>-2.327<sup>***</sup></td></tr><tr><td style=\"text-align:left\"></td><td>(0.575)</td><td>(0.632)</td><td>(0.564)</td><td>(0.589)</td><td>(0.331)</td><td>(0.630)</td><td>(0.621)</td></tr><tr><td style=\"text-align:left\">issue_country_year_fe_RO2019</td><td></td><td></td><td></td><td></td><td>-0.113<sup></sup></td><td></td><td></td></tr><tr><td style=\"text-align:left\"></td><td></td><td></td><td></td><td></td><td>(0.092)</td><td></td><td></td></tr><tr><td style=\"text-align:left\">issue_country_year_fe_RO2020</td><td></td><td></td><td></td><td></td><td>-0.104<sup></sup></td><td></td><td></td></tr><tr><td style=\"text-align:left\"></td><td></td><td></td><td></td><td></td><td>(0.136)</td><td></td><td></td></tr><tr><td style=\"text-align:left\">issue_country_year_fe_RO2021</td><td>-0.475<sup></sup></td><td>-0.486<sup></sup></td><td>-0.441<sup></sup></td><td>-0.449<sup></sup></td><td>-0.345<sup></sup></td><td>-0.492<sup></sup></td><td>-0.450<sup></sup></td></tr><tr><td style=\"text-align:left\"></td><td>(0.358)</td><td>(0.474)</td><td>(0.345)</td><td>(0.365)</td><td>(0.264)</td><td>(0.476)</td><td>(0.466)</td></tr><tr><td style=\"text-align:left\">issue_country_year_fe_RU2017</td><td>0.160<sup></sup></td><td></td><td>-0.029<sup></sup></td><td>-0.179<sup>*</sup></td><td>0.279<sup></sup></td><td></td><td></td></tr><tr><td style=\"text-align:left\"></td><td>(0.242)</td><td></td><td>(0.097)</td><td>(0.096)</td><td>(0.176)</td><td></td><td></td></tr><tr><td style=\"text-align:left\">issue_country_year_fe_RU2018</td><td>-2.275<sup>***</sup></td><td></td><td>-2.235<sup>***</sup></td><td>-2.316<sup>***</sup></td><td>-0.917<sup></sup></td><td></td><td></td></tr><tr><td style=\"text-align:left\"></td><td>(0.597)</td><td></td><td>(0.596)</td><td>(0.581)</td><td>(0.601)</td><td></td><td></td></tr><tr><td style=\"text-align:left\">issue_country_year_fe_RU2019</td><td>-0.126<sup></sup></td><td></td><td>-1.184<sup>***</sup></td><td>-0.143<sup></sup></td><td>-0.112<sup></sup></td><td></td><td></td></tr><tr><td style=\"text-align:left\"></td><td>(0.133)</td><td></td><td>(0.114)</td><td>(0.132)</td><td>(0.140)</td><td></td><td></td></tr><tr><td style=\"text-align:left\">issue_country_year_fe_RU2020</td><td>0.150<sup>**</sup></td><td></td><td>0.182<sup>***</sup></td><td>0.170<sup>**</sup></td><td>0.212<sup>***</sup></td><td></td><td></td></tr><tr><td style=\"text-align:left\"></td><td>(0.069)</td><td></td><td>(0.068)</td><td>(0.067)</td><td>(0.072)</td><td></td><td></td></tr><tr><td style=\"text-align:left\">issue_country_year_fe_RU2021</td><td>0.016<sup></sup></td><td></td><td>0.065<sup></sup></td><td>0.056<sup></sup></td><td>0.042<sup></sup></td><td></td><td></td></tr><tr><td style=\"text-align:left\"></td><td>(0.225)</td><td></td><td>(0.222)</td><td>(0.226)</td><td>(0.193)</td><td></td><td></td></tr><tr><td style=\"text-align:left\">issue_country_year_fe_SE2017</td><td>0.754<sup>***</sup></td><td>0.681<sup>***</sup></td><td>0.523<sup>***</sup></td><td>0.417<sup>***</sup></td><td>0.792<sup>***</sup></td><td>0.437<sup>***</sup></td><td>0.471<sup>***</sup></td></tr><tr><td style=\"text-align:left\"></td><td>(0.231)</td><td>(0.230)</td><td>(0.058)</td><td>(0.063)</td><td>(0.156)</td><td>(0.058)</td><td>(0.064)</td></tr><tr><td style=\"text-align:left\">issue_country_year_fe_SE2018</td><td>-0.821<sup>***</sup></td><td>-0.817<sup>***</sup></td><td>-0.769<sup>***</sup></td><td>-0.776<sup>***</sup></td><td>0.524<sup>***</sup></td><td>-0.822<sup>***</sup></td><td>-0.779<sup>***</sup></td></tr><tr><td style=\"text-align:left\"></td><td>(0.044)</td><td>(0.044)</td><td>(0.045)</td><td>(0.047)</td><td>(0.090)</td><td>(0.046)</td><td>(0.048)</td></tr><tr><td style=\"text-align:left\">issue_country_year_fe_SE2019</td><td>0.312<sup>***</sup></td><td>0.257<sup>***</sup></td><td>-0.746<sup>***</sup></td><td>0.325<sup>***</sup></td><td>0.332<sup>***</sup></td><td>0.223<sup>***</sup></td><td>-0.779<sup>***</sup></td></tr><tr><td style=\"text-align:left\"></td><td>(0.078)</td><td>(0.076)</td><td>(0.046)</td><td>(0.081)</td><td>(0.086)</td><td>(0.080)</td><td>(0.049)</td></tr><tr><td style=\"text-align:left\">issue_country_year_fe_SE2020</td><td>-0.231<sup>**</sup></td><td>-0.304<sup>***</sup></td><td>-0.152<sup>*</sup></td><td>-0.162<sup>*</sup></td><td>-0.137<sup></sup></td><td>-0.282<sup>***</sup></td><td>-0.253<sup>***</sup></td></tr><tr><td style=\"text-align:left\"></td><td>(0.095)</td><td>(0.089)</td><td>(0.089)</td><td>(0.094)</td><td>(0.095)</td><td>(0.087)</td><td>(0.086)</td></tr><tr><td style=\"text-align:left\">issue_country_year_fe_SE2021</td><td>-0.277<sup></sup></td><td>-0.317<sup></sup></td><td>-0.210<sup></sup></td><td>-0.244<sup></sup></td><td>-0.190<sup></sup></td><td>-0.327<sup></sup></td><td>-0.278<sup></sup></td></tr><tr><td style=\"text-align:left\"></td><td>(0.233)</td><td>(0.233)</td><td>(0.231)</td><td>(0.234)</td><td>(0.207)</td><td>(0.232)</td><td>(0.229)</td></tr><tr><td style=\"text-align:left\">issue_country_year_fe_SG2017</td><td>-0.610<sup>***</sup></td><td>-0.849<sup>***</sup></td><td>-0.859<sup>***</sup></td><td>-0.926<sup>***</sup></td><td>-1.692<sup>*</sup></td><td>-1.092<sup>***</sup></td><td>-1.111<sup>***</sup></td></tr><tr><td style=\"text-align:left\"></td><td>(0.234)</td><td>(0.235)</td><td>(0.071)</td><td>(0.074)</td><td>(0.988)</td><td>(0.073)</td><td>(0.079)</td></tr><tr><td style=\"text-align:left\">issue_country_year_fe_SG2018</td><td>-1.150<sup>***</sup></td><td>-1.266<sup>***</sup></td><td>-1.153<sup>***</sup></td><td>-1.113<sup>***</sup></td><td>-0.458<sup></sup></td><td>-1.270<sup>***</sup></td><td>-1.309<sup>***</sup></td></tr><tr><td style=\"text-align:left\"></td><td>(0.216)</td><td>(0.250)</td><td>(0.195)</td><td>(0.198)</td><td>(0.513)</td><td>(0.254)</td><td>(0.241)</td></tr><tr><td style=\"text-align:left\">issue_country_year_fe_SG2019</td><td>-0.212<sup></sup></td><td>-0.361<sup></sup></td><td>-1.318<sup>***</sup></td><td>-0.208<sup></sup></td><td>-0.641<sup>*</sup></td><td>-0.386<sup>*</sup></td><td>-1.462<sup>***</sup></td></tr><tr><td style=\"text-align:left\"></td><td>(0.189)</td><td>(0.227)</td><td>(0.161)</td><td>(0.176)</td><td>(0.343)</td><td>(0.231)</td><td>(0.209)</td></tr><tr><td style=\"text-align:left\">issue_country_year_fe_SG2020</td><td>-0.798<sup>***</sup></td><td>-1.043<sup>***</sup></td><td>-0.769<sup>***</sup></td><td>-0.824<sup>***</sup></td><td>-1.088<sup>***</sup></td><td>-1.142<sup>***</sup></td><td>-1.165<sup>***</sup></td></tr><tr><td style=\"text-align:left\"></td><td>(0.120)</td><td>(0.122)</td><td>(0.119)</td><td>(0.113)</td><td>(0.232)</td><td>(0.112)</td><td>(0.113)</td></tr><tr><td style=\"text-align:left\">issue_country_year_fe_SG2021</td><td>-0.525<sup>**</sup></td><td>-0.625<sup>**</sup></td><td>-0.506<sup>**</sup></td><td>-0.471<sup>*</sup></td><td>-0.727<sup>***</sup></td><td>-0.611<sup>**</sup></td><td>-0.636<sup>**</sup></td></tr><tr><td style=\"text-align:left\"></td><td>(0.259)</td><td>(0.259)</td><td>(0.253)</td><td>(0.262)</td><td>(0.262)</td><td>(0.262)</td><td>(0.256)</td></tr><tr><td style=\"text-align:left\">issue_country_year_fe_SK2017</td><td>-1.324<sup>***</sup></td><td>-1.541<sup>***</sup></td><td>-1.502<sup>***</sup></td><td>-1.674<sup>***</sup></td><td>-0.424<sup></sup></td><td>-1.771<sup>***</sup></td><td>-1.693<sup>***</sup></td></tr><tr><td style=\"text-align:left\"></td><td>(0.232)</td><td>(0.232)</td><td>(0.067)</td><td>(0.070)</td><td>(0.356)</td><td>(0.065)</td><td>(0.074)</td></tr><tr><td style=\"text-align:left\">issue_country_year_fe_SK2018</td><td>-1.329<sup>***</sup></td><td>-1.491<sup>***</sup></td><td>-1.240<sup>***</sup></td><td>-1.299<sup>***</sup></td><td>0.016<sup></sup></td><td>-1.487<sup>***</sup></td><td>-1.418<sup>***</sup></td></tr><tr><td style=\"text-align:left\"></td><td>(0.053)</td><td>(0.052)</td><td>(0.056)</td><td>(0.054)</td><td>(0.098)</td><td>(0.054)</td><td>(0.057)</td></tr><tr><td style=\"text-align:left\">issue_country_year_fe_SK2019</td><td>0.112<sup></sup></td><td>-0.081<sup></sup></td><td>-0.891<sup>***</sup></td><td>0.118<sup></sup></td><td>-0.056<sup></sup></td><td>-0.100<sup></sup></td><td>-1.059<sup>***</sup></td></tr><tr><td style=\"text-align:left\"></td><td>(0.082)</td><td>(0.077)</td><td>(0.070)</td><td>(0.083)</td><td>(0.096)</td><td>(0.081)</td><td>(0.068)</td></tr><tr><td style=\"text-align:left\">issue_country_year_fe_SK2020</td><td>-0.147<sup></sup></td><td>-0.350<sup>***</sup></td><td>-0.040<sup></sup></td><td>-0.122<sup></sup></td><td>-0.254<sup>**</sup></td><td>-0.352<sup>***</sup></td><td>-0.266<sup>**</sup></td></tr><tr><td style=\"text-align:left\"></td><td>(0.098)</td><td>(0.104)</td><td>(0.102)</td><td>(0.099)</td><td>(0.110)</td><td>(0.102)</td><td>(0.105)</td></tr><tr><td style=\"text-align:left\">issue_country_year_fe_SK2021</td><td>-0.424<sup>*</sup></td><td>-0.557<sup>**</sup></td><td>-0.308<sup></sup></td><td></td><td>-0.360<sup>*</sup></td><td></td><td></td></tr><tr><td style=\"text-align:left\"></td><td>(0.224)</td><td>(0.224)</td><td>(0.223)</td><td></td><td>(0.190)</td><td></td><td></td></tr><tr><td style=\"text-align:left\">issue_country_year_fe_TH2017</td><td></td><td></td><td></td><td></td><td>0.187<sup></sup></td><td></td><td></td></tr><tr><td style=\"text-align:left\"></td><td></td><td></td><td></td><td></td><td>(0.166)</td><td></td><td></td></tr><tr><td style=\"text-align:left\">issue_country_year_fe_TH2018</td><td></td><td></td><td></td><td></td><td>0.322<sup>***</sup></td><td></td><td></td></tr><tr><td style=\"text-align:left\"></td><td></td><td></td><td></td><td></td><td>(0.107)</td><td></td><td></td></tr><tr><td style=\"text-align:left\">issue_country_year_fe_TH2019</td><td></td><td></td><td></td><td></td><td>-0.089<sup></sup></td><td></td><td></td></tr><tr><td style=\"text-align:left\"></td><td></td><td></td><td></td><td></td><td>(0.159)</td><td></td><td></td></tr><tr><td style=\"text-align:left\">issue_country_year_fe_TH2020</td><td></td><td></td><td></td><td></td><td>-0.318<sup>**</sup></td><td></td><td></td></tr><tr><td style=\"text-align:left\"></td><td></td><td></td><td></td><td></td><td>(0.156)</td><td></td><td></td></tr><tr><td style=\"text-align:left\">issue_country_year_fe_TH2021</td><td></td><td></td><td></td><td></td><td>-0.022<sup></sup></td><td></td><td></td></tr><tr><td style=\"text-align:left\"></td><td></td><td></td><td></td><td></td><td>(0.232)</td><td></td><td></td></tr><tr><td style=\"text-align:left\">issue_country_year_fe_TR2017</td><td></td><td></td><td></td><td></td><td>0.394<sup>**</sup></td><td></td><td></td></tr><tr><td style=\"text-align:left\"></td><td></td><td></td><td></td><td></td><td>(0.175)</td><td></td><td></td></tr><tr><td style=\"text-align:left\">issue_country_year_fe_TR2018</td><td></td><td></td><td></td><td></td><td>0.490<sup>***</sup></td><td></td><td></td></tr><tr><td style=\"text-align:left\"></td><td></td><td></td><td></td><td></td><td>(0.132)</td><td></td><td></td></tr><tr><td style=\"text-align:left\">issue_country_year_fe_TR2019</td><td></td><td></td><td></td><td></td><td>0.097<sup></sup></td><td></td><td></td></tr><tr><td style=\"text-align:left\"></td><td></td><td></td><td></td><td></td><td>(0.109)</td><td></td><td></td></tr><tr><td style=\"text-align:left\">issue_country_year_fe_TR2020</td><td></td><td></td><td></td><td></td><td>-0.223<sup>*</sup></td><td></td><td></td></tr><tr><td style=\"text-align:left\"></td><td></td><td></td><td></td><td></td><td>(0.132)</td><td></td><td></td></tr><tr><td style=\"text-align:left\">issue_country_year_fe_TR2021</td><td></td><td></td><td></td><td></td><td>0.136<sup></sup></td><td></td><td></td></tr><tr><td style=\"text-align:left\"></td><td></td><td></td><td></td><td></td><td>(0.209)</td><td></td><td></td></tr><tr><td style=\"text-align:left\">issue_country_year_fe_TW2017</td><td>-0.144<sup></sup></td><td>-0.241<sup></sup></td><td>-0.394<sup></sup></td><td>-0.497<sup></sup></td><td>-0.051<sup></sup></td><td>-0.475<sup></sup></td><td>-0.471<sup></sup></td></tr><tr><td style=\"text-align:left\"></td><td>(0.381)</td><td>(0.406)</td><td>(0.318)</td><td>(0.312)</td><td>(0.251)</td><td>(0.342)</td><td>(0.356)</td></tr><tr><td style=\"text-align:left\">issue_country_year_fe_TW2018</td><td>-1.061<sup>***</sup></td><td>-1.106<sup>***</sup></td><td>-1.030<sup>***</sup></td><td>-1.041<sup>***</sup></td><td>0.269<sup></sup></td><td>-1.104<sup>***</sup></td><td>-1.094<sup>***</sup></td></tr><tr><td style=\"text-align:left\"></td><td>(0.283)</td><td>(0.302)</td><td>(0.285)</td><td>(0.285)</td><td>(0.226)</td><td>(0.302)</td><td>(0.307)</td></tr><tr><td style=\"text-align:left\">issue_country_year_fe_TW2019</td><td>0.314<sup>***</sup></td><td>0.242<sup>**</sup></td><td>-0.752<sup>***</sup></td><td>0.306<sup>***</sup></td><td>0.330<sup>***</sup></td><td>0.223<sup>*</sup></td><td>-0.798<sup>***</sup></td></tr><tr><td style=\"text-align:left\"></td><td>(0.105)</td><td>(0.121)</td><td>(0.087)</td><td>(0.108)</td><td>(0.122)</td><td>(0.123)</td><td>(0.110)</td></tr><tr><td style=\"text-align:left\">issue_country_year_fe_TW2020</td><td>-0.035<sup></sup></td><td>-0.147<sup></sup></td><td>0.002<sup></sup></td><td></td><td>-0.093<sup></sup></td><td></td><td></td></tr><tr><td style=\"text-align:left\"></td><td>(0.301)</td><td>(0.334)</td><td>(0.303)</td><td></td><td>(0.251)</td><td></td><td></td></tr><tr><td style=\"text-align:left\">issue_country_year_fe_TW2021</td><td>0.166<sup></sup></td><td>0.130<sup></sup></td><td>0.207<sup></sup></td><td></td><td>0.048<sup></sup></td><td></td><td></td></tr><tr><td style=\"text-align:left\"></td><td>(0.243)</td><td>(0.257)</td><td>(0.241)</td><td></td><td>(0.219)</td><td></td><td></td></tr><tr><td style=\"text-align:left\">issue_country_year_fe_UA2018</td><td>-3.844<sup>***</sup></td><td>-3.768<sup>***</sup></td><td>-3.943<sup>***</sup></td><td>-3.822<sup>***</sup></td><td>-2.469<sup>***</sup></td><td>-3.770<sup>***</sup></td><td>-3.906<sup>***</sup></td></tr><tr><td style=\"text-align:left\"></td><td>(0.792)</td><td>(0.806)</td><td>(0.753)</td><td>(0.786)</td><td>(0.799)</td><td>(0.808)</td><td>(0.775)</td></tr><tr><td style=\"text-align:left\">issue_country_year_fe_UA2020</td><td></td><td></td><td></td><td></td><td>-0.787<sup>***</sup></td><td></td><td></td></tr><tr><td style=\"text-align:left\"></td><td></td><td></td><td></td><td></td><td>(0.134)</td><td></td><td></td></tr><tr><td style=\"text-align:left\">issue_country_year_fe_UA2021</td><td></td><td></td><td></td><td></td><td>-1.217<sup>***</sup></td><td></td><td></td></tr><tr><td style=\"text-align:left\"></td><td></td><td></td><td></td><td></td><td>(0.225)</td><td></td><td></td></tr><tr><td style=\"text-align:left\">issue_country_year_fe_US2017</td><td>1.275<sup>***</sup></td><td>1.190<sup>***</sup></td><td>1.019<sup>***</sup></td><td>0.896<sup>***</sup></td><td>1.298<sup>***</sup></td><td>0.954<sup>***</sup></td><td>0.974<sup>***</sup></td></tr><tr><td style=\"text-align:left\"></td><td>(0.231)</td><td>(0.230)</td><td>(0.057)</td><td>(0.070)</td><td>(0.155)</td><td>(0.066)</td><td>(0.071)</td></tr><tr><td style=\"text-align:left\">issue_country_year_fe_US2018</td><td></td><td></td><td></td><td></td><td>1.325<sup>***</sup></td><td></td><td></td></tr><tr><td style=\"text-align:left\"></td><td></td><td></td><td></td><td></td><td>(0.083)</td><td></td><td></td></tr><tr><td style=\"text-align:left\">issue_country_year_fe_US2019</td><td>1.094<sup>***</sup></td><td>1.048<sup>***</sup></td><td></td><td>1.062<sup>***</sup></td><td>1.070<sup>***</sup></td><td>1.032<sup>***</sup></td><td></td></tr><tr><td style=\"text-align:left\"></td><td>(0.064)</td><td>(0.061)</td><td></td><td>(0.067)</td><td>(0.080)</td><td>(0.065)</td><td></td></tr><tr><td style=\"text-align:left\">issue_country_year_fe_US2020</td><td>0.766<sup>***</sup></td><td>0.696<sup>***</sup></td><td>0.766<sup>***</sup></td><td>0.737<sup>***</sup></td><td>0.798<sup>***</sup></td><td>0.681<sup>***</sup></td><td>0.690<sup>***</sup></td></tr><tr><td style=\"text-align:left\"></td><td>(0.069)</td><td>(0.063)</td><td>(0.067)</td><td>(0.067)</td><td>(0.071)</td><td>(0.061)</td><td>(0.060)</td></tr><tr><td style=\"text-align:left\">issue_country_year_fe_US2021</td><td>1.017<sup>***</sup></td><td>1.008<sup>***</sup></td><td>1.028<sup>***</sup></td><td></td><td>0.987<sup>***</sup></td><td></td><td></td></tr><tr><td style=\"text-align:left\"></td><td>(0.213)</td><td>(0.213)</td><td>(0.211)</td><td></td><td>(0.180)</td><td></td><td></td></tr><tr><td style=\"text-align:left\">issue_country_year_fe_UY2018</td><td></td><td></td><td></td><td></td><td>-0.384<sup>***</sup></td><td></td><td></td></tr><tr><td style=\"text-align:left\"></td><td></td><td></td><td></td><td></td><td>(0.089)</td><td></td><td></td></tr><tr><td style=\"text-align:left\">issue_country_year_fe_UY2019</td><td></td><td></td><td></td><td></td><td>-0.030<sup></sup></td><td></td><td></td></tr><tr><td style=\"text-align:left\"></td><td></td><td></td><td></td><td></td><td>(0.102)</td><td></td><td></td></tr><tr><td style=\"text-align:left\">issue_country_year_fe_UY2020</td><td>-0.502<sup>***</sup></td><td>-0.556<sup>***</sup></td><td>-0.526<sup>***</sup></td><td></td><td>-0.519<sup>***</sup></td><td></td><td></td></tr><tr><td style=\"text-align:left\"></td><td>(0.134)</td><td>(0.128)</td><td>(0.162)</td><td></td><td>(0.124)</td><td></td><td></td></tr><tr><td style=\"text-align:left\">issue_country_year_fe_UY2021</td><td>0.099<sup></sup></td><td>0.127<sup></sup></td><td>0.060<sup></sup></td><td>0.187<sup></sup></td><td>-0.013<sup></sup></td><td>0.176<sup></sup></td><td>0.106<sup></sup></td></tr><tr><td style=\"text-align:left\"></td><td>(0.226)</td><td>(0.226)</td><td>(0.231)</td><td>(0.235)</td><td>(0.196)</td><td>(0.231)</td><td>(0.237)</td></tr><tr><td style=\"text-align:left\">issue_country_year_fe_VN2018</td><td></td><td></td><td></td><td></td><td>-0.150<sup></sup></td><td></td><td></td></tr><tr><td style=\"text-align:left\"></td><td></td><td></td><td></td><td></td><td>(0.128)</td><td></td><td></td></tr><tr><td style=\"text-align:left\">issue_country_year_fe_VN2019</td><td></td><td></td><td></td><td></td><td>-0.337<sup>***</sup></td><td></td><td></td></tr><tr><td style=\"text-align:left\"></td><td></td><td></td><td></td><td></td><td>(0.110)</td><td></td><td></td></tr><tr><td style=\"text-align:left\">issue_country_year_fe_VN2020</td><td></td><td></td><td></td><td></td><td>-0.341<sup>***</sup></td><td></td><td></td></tr><tr><td style=\"text-align:left\"></td><td></td><td></td><td></td><td></td><td>(0.113)</td><td></td><td></td></tr><tr><td style=\"text-align:left\">issue_country_year_fe_VN2021</td><td></td><td></td><td></td><td></td><td>-0.095<sup></sup></td><td></td><td></td></tr><tr><td style=\"text-align:left\"></td><td></td><td></td><td></td><td></td><td>(0.222)</td><td></td><td></td></tr><td colspan=\"8\" style=\"border-bottom: 1px solid black\"></td></tr><tr><td style=\"text-align: left\">Observations</td><td>3,038</td><td>2,858</td><td>2,869</td><td>2,750</td><td>3,286</td><td>2,584</td><td>2,474</td></tr><tr><td style=\"text-align: left\">R<sup>2</sup></td><td></td><td></td><td></td><td></td><td></td><td></td><td></td></tr><tr><td style=\"text-align: left\">Adjusted R<sup>2</sup></td><td></td><td></td><td></td><td></td><td></td><td></td><td></td></tr><tr><td style=\"text-align: left\">Residual Std. Error</td><td>1.000 (df=2540)</td><td>1.000 (df=2372)</td><td>1.000 (df=2391)</td><td>1.000 (df=2284)</td><td>1.000 (df=2712)</td><td>1.000 (df=2129)</td><td>1.000 (df=2034)</td></tr><tr><td style=\"text-align: left\">F Statistic</td><td><sup></sup> (df=497; 2540)</td><td><sup></sup> (df=485; 2372)</td><td><sup></sup> (df=477; 2391)</td><td><sup></sup> (df=465; 2284)</td><td><sup></sup> (df=573; 2712)</td><td><sup></sup> (df=454; 2129)</td><td><sup></sup> (df=439; 2034)</td></tr><tr><td colspan=\"8\" style=\"border-bottom: 1px solid black\"></td></tr><tr><td style=\"text-align: left\">Note:</td>\n",
       " <td colspan=\"7\" style=\"text-align: right\">\n",
       "  <sup>*</sup>p&lt;0.1;\n",
       "  <sup>**</sup>p&lt;0.05;\n",
       "  <sup>***</sup>p&lt;0.01\n",
       " </td></tr></table>"
      ],
      "text/plain": [
       "<stargazer.stargazer.Stargazer at 0x7fd48b9ef070>"
      ]
     },
     "execution_count": 98,
     "metadata": {},
     "output_type": "execute_result"
    }
   ],
   "source": [
    "from stargazer.stargazer import Stargazer\n",
    "\n",
    "stargazer_tab = Stargazer([results2, results4, results6, results8, results10, results12, results11])\n",
    "\n",
    "#stargazer_tab = Stargazer([results1, results2, results3])\n",
    "stargazer_tab"
   ]
  },
  {
   "cell_type": "code",
   "execution_count": null,
   "id": "cea7fa14-2908-4b33-998b-6733cd15a167",
   "metadata": {},
   "outputs": [],
   "source": []
  }
 ],
 "metadata": {
  "kernelspec": {
   "display_name": "Python 3 (ipykernel)",
   "language": "python",
   "name": "python3"
  },
  "language_info": {
   "codemirror_mode": {
    "name": "ipython",
    "version": 3
   },
   "file_extension": ".py",
   "mimetype": "text/x-python",
   "name": "python",
   "nbconvert_exporter": "python",
   "pygments_lexer": "ipython3",
   "version": "3.9.13"
  }
 },
 "nbformat": 4,
 "nbformat_minor": 5
}
